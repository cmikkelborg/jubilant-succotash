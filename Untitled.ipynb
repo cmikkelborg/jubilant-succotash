{
 "cells": [
  {
   "cell_type": "code",
   "execution_count": 1,
   "metadata": {},
   "outputs": [
    {
     "name": "stdout",
     "output_type": "stream",
     "text": [
      "Hello people!\n",
      "What is the meaning of life? 55\n"
     ]
    }
   ],
   "source": [
    "# using the print() function.\n",
    "\n",
    "print(\"Hello people!\")\n",
    "\n",
    "# input takes a string as a parameter and prints that out for the user.\n",
    "# in this case the prompt puts input directly into variable.\n",
    "\n",
    "num42 = input(\"What is the meaning of life? \")"
   ]
  },
  {
   "cell_type": "code",
   "execution_count": 2,
   "metadata": {},
   "outputs": [
    {
     "name": "stdout",
     "output_type": "stream",
     "text": [
      "55555555\n"
     ]
    }
   ],
   "source": [
    "# multiplying a string by a number will output string x amount of times.\n",
    "#print(num42 * 4)\n",
    "print(num42 * 4)"
   ]
  },
  {
   "cell_type": "code",
   "execution_count": 3,
   "metadata": {},
   "outputs": [
    {
     "name": "stdout",
     "output_type": "stream",
     "text": [
      "What is the meaning of life?45\n"
     ]
    }
   ],
   "source": [
    "# this declares input as an integer.\n",
    "num43 = int(input(\"What is the meaning of life?\"))"
   ]
  },
  {
   "cell_type": "code",
   "execution_count": 4,
   "metadata": {},
   "outputs": [
    {
     "name": "stdout",
     "output_type": "stream",
     "text": [
      "180\n"
     ]
    }
   ],
   "source": [
    "# specifing num43 as a integer will allow for arythimatic\n",
    "print(num43 * 4)"
   ]
  },
  {
   "cell_type": "code",
   "execution_count": 5,
   "metadata": {},
   "outputs": [
    {
     "name": "stdout",
     "output_type": "stream",
     "text": [
      "Oh, yout think that 45 is the meaning of life?\n"
     ]
    }
   ],
   "source": [
    "# if-else statement syntax\n",
    "if num43 == 42:\n",
    "    print(\"You are correct.\")\n",
    "else:\n",
    "    print(\"Oh, yout think that %s is the meaning of life?\" % num43)"
   ]
  },
  {
   "cell_type": "code",
   "execution_count": 6,
   "metadata": {},
   "outputs": [
    {
     "name": "stdout",
     "output_type": "stream",
     "text": [
      "Oh, you think that 45 is the meaning of life? \n",
      "Really? 45 is the meaning of life?\n"
     ]
    }
   ],
   "source": [
    "# different ways to call a variable within a string\n",
    "print(\"Oh, you think that %s is the meaning of life? \" % num43)\n",
    "print (\"Really?\", num43, \"is the meaning of life?\")"
   ]
  }
 ],
 "metadata": {
  "kernelspec": {
   "display_name": "Python 3",
   "language": "python",
   "name": "python3"
  },
  "language_info": {
   "codemirror_mode": {
    "name": "ipython",
    "version": 3
   },
   "file_extension": ".py",
   "mimetype": "text/x-python",
   "name": "python",
   "nbconvert_exporter": "python",
   "pygments_lexer": "ipython3",
   "version": "3.6.3"
  }
 },
 "nbformat": 4,
 "nbformat_minor": 2
}

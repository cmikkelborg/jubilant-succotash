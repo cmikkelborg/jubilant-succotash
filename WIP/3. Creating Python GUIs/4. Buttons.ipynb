{
 "cells": [
  {
   "cell_type": "code",
   "execution_count": 1,
   "metadata": {},
   "outputs": [],
   "source": [
    "#=============\n",
    "# imports\n",
    "#=============\n",
    "import tkinter as tk\n",
    "from tkinter import ttk # ttk stands for themed tk, and is an extension package for tk.\n",
    "\n",
    "#======================\n",
    "# configuring the GUI\n",
    "#======================\n",
    "\n",
    "# create instance\n",
    "win = tk.Tk()\n",
    "\n",
    "# add a title\n",
    "win.title(\"A Python GUI\")\n",
    "\n",
    "# by passing a label into a variable it can be modified\n",
    "a_label = ttk.Label(win, text = \"modLabel\")\n",
    "a_label.grid(column=0, row=0)\n",
    "\n",
    "# button click event function\n",
    "def click_me():\n",
    "    action.configure(text = \"** You clicked me! **\")\n",
    "    a_label.configure(foreground = 'red')\n",
    "    a_label.configure(text = 'Red modLabel')\n",
    "    \n",
    "# adding a button\n",
    "action = ttk.Button(win, text = \"Click me!\", command = click_me)\n",
    "action.grid(column=1, row=0)\n",
    "\n",
    "#=============\n",
    "# start GUI\n",
    "#=============\n",
    "win.mainloop()\n"
   ]
  },
  {
   "cell_type": "code",
   "execution_count": null,
   "metadata": {},
   "outputs": [],
   "source": []
  }
 ],
 "metadata": {
  "kernelspec": {
   "display_name": "Python 3",
   "language": "python",
   "name": "python3"
  },
  "language_info": {
   "codemirror_mode": {
    "name": "ipython",
    "version": 3
   },
   "file_extension": ".py",
   "mimetype": "text/x-python",
   "name": "python",
   "nbconvert_exporter": "python",
   "pygments_lexer": "ipython3",
   "version": "3.7.1"
  }
 },
 "nbformat": 4,
 "nbformat_minor": 2
}

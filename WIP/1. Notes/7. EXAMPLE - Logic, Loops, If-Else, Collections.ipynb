{
 "cells": [
  {
   "cell_type": "code",
   "execution_count": null,
   "metadata": {},
   "outputs": [],
   "source": [
    "# logic statements review\n",
    "#\n",
    "# <  - less than\n",
    "# <= - less than or equal\n",
    "# >  - greater than\n",
    "# >= - greater than or equal\n",
    "# == - are equal true/false\n",
    "# != - not equal\n",
    "# \n",
    "# not - changes True to False and vice-a-versa\n",
    "# and - will return True only if both sides are True\n",
    "# or  - will return True as long as at least one side is True\n",
    "#\n",
    "# boolean statements\n",
    "# True / False - make sure each start with a capital letter"
   ]
  },
  {
   "cell_type": "code",
   "execution_count": null,
   "metadata": {},
   "outputs": [],
   "source": [
    "# =====  zombie breakout!  ======\n",
    "\n",
    "# initialization\n",
    "zomb_present = False\n",
    "zomb_count = 0\n",
    "avail_weaps = [\"spoon\", \"butterknife\", \"sword\", \"freshly sharpened chainsaw\"]\n",
    "affirmations = [\"Yes\", \"yes\", \"Ya\", \"ya\", \"Yah\", \"yah\", \"Yeah\", \"yeah\", \"Sureis\", \"sureis\", \"ubetcha\"]\n",
    "weap_start = 0\n",
    "\n",
    "# zombie scout\n",
    "while len(avail_weaps) > 0: # loops as long as there are weapons\n",
    "    weap_start = len(avail_weaps) # used for ending comments (did we loose one ore more than one weap)\n",
    "    zomb_present_str = input(\"Are there zombies out there?\")\n",
    "    zomb_present = zomb_present_str in affirmations # checks to see if the input is in affirmations\n",
    "                                                #  and returns a true or false to update zomb_present\n",
    "    if zomb_present:\n",
    "        print(\"Zoinks! Zombonies!\")\n",
    "        zomb_count = int(input(\"how many??\"))\n",
    "# so far we have checked for zombies (either True or False), and if so we have updated the number of them\n",
    "\n",
    "# now we formulate some plan\n",
    "# lets start by checking if there are zombies (do we need to continue?)\n",
    "    if not zomb_present:\n",
    "        print(\"Whew! Let's work on the base\\n\")\n",
    "    else: # if so, test the following statements\n",
    "        if zomb_count < 500 and len(avail_weaps) > 0:\n",
    "            print(\"Alright peeps! We will cut them down with our %s\" % avail_weaps[0])\n",
    "            del avail_weaps[0]\n",
    "        elif zomb_count < 1000 and len(avail_weaps) > 1:\n",
    "            print(\"Hark! Keep them at bay with the %s and %s\" % (avail_weaps[0], avail_weaps[1]))\n",
    "            del avail_weaps[0] # note that after we delete [0] the next available weap becomes the new [0]\n",
    "            del avail_weaps[0]\n",
    "        elif zomb_count < 5000 and len(avail_weaps) > 2:\n",
    "            print(\"Avast! Let us sharpen our mighty %s, %s, and %s with the flesh of the zombies!!\" % (avail_weaps[0], avail_weaps[1], avail_weaps[2]))\n",
    "            del avail_weaps[0]\n",
    "            del avail_weaps[0]\n",
    "            del avail_weaps[0]\n",
    "        elif zomb_count < 8500 and len(avail_weaps) > 3:\n",
    "            print(\"By Odin's beard!! We will drive them back with our %s, %s, %s, and our thirsty %s!!!\" % (avail_weaps[0], avail_weaps[1], avail_weaps[2], avail_weaps[3]))\n",
    "            del avail_weaps[0]\n",
    "            del avail_weaps[0]\n",
    "            del avail_weaps[0]\n",
    "            del avail_weaps[0]\n",
    "        else:\n",
    "            print(\"Rrrrruuuuuuuuu%suuuuuuuun!!!\" % \"uuuuuuuuuuuuuuuuuuuuuuuuuuuu\")\n",
    "# check if weapons are still available    \n",
    "    if not avail_weaps:\n",
    "        if weap_start > 1: # check to see if we started the last round with more than one weapon\n",
    "            print(\"\\n*One by one all of our weapons break...*\")\n",
    "            print(\"We're screwed scooob!! Zoinks!\\n\")\n",
    "        else:\n",
    "            print(\"\\n*Our last weapon breaks...*\")\n",
    "            print(\"We're screwed scooob!! Zoinks!\\n\")\n",
    "# if we still have weapons, return the amount\n",
    "    else:\n",
    "        print(\"whew! We did it! Okay, inventory check. We have %d weapons left.\\n\" % len(avail_weaps))"
   ]
  },
  {
   "cell_type": "code",
   "execution_count": null,
   "metadata": {},
   "outputs": [],
   "source": []
  }
 ],
 "metadata": {
  "kernelspec": {
   "display_name": "Python 3",
   "language": "python",
   "name": "python3"
  },
  "language_info": {
   "codemirror_mode": {
    "name": "ipython",
    "version": 3
   },
   "file_extension": ".py",
   "mimetype": "text/x-python",
   "name": "python",
   "nbconvert_exporter": "python",
   "pygments_lexer": "ipython3",
   "version": "3.7.1"
  }
 },
 "nbformat": 4,
 "nbformat_minor": 2
}

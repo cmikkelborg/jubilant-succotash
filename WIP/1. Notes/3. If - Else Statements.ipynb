{
 "cells": [
  {
   "cell_type": "code",
   "execution_count": null,
   "metadata": {},
   "outputs": [],
   "source": [
    "# if-else statements are automatically formated in python\n",
    "# and do not require puting parenthesis around the parameters\n",
    "# like in other languages\n",
    "\n",
    "num = input(\"Input the meaning of life: \")\n",
    "\n",
    "if num == \"42\": # \":\" is necessary to declare the if statement\n",
    "    print(\"You are correct. The meaning of life is 42\")\n",
    "else:\n",
    "    print(\"Oh, yout think that \\\"%s\\\" is the meaning of life?\" % num)\n",
    "    \n"
   ]
  },
  {
   "cell_type": "code",
   "execution_count": null,
   "metadata": {},
   "outputs": [],
   "source": [
    "# if-else statements can be organized in different ways\n",
    "# many \"if\" statements in a row could be used to compare a variable to each statement\n",
    "# an \"elif\" (else if) statement will only be checked if the statement above returns false\n",
    "# any subsequent elif will behave similarly\n",
    "# else can be used without an argument to declare \"in all other cases\"\n",
    "\n",
    "# comparisons in python\n",
    "#   <    - less than\n",
    "#   <=   - less than or equal\n",
    "#   ==   - equal to\n",
    "#   !=   - not equal to\n",
    "#   >=   - greater than or equal\n",
    "#   >    - greater than\n",
    "\n",
    "# note that \"=\" says \"SET equal to\" while \"==\" is a comparative operator and checks\n",
    "# if two objects are equal\n",
    "numb = int(input(\"Insert a number: \"))\n",
    "\n",
    "if numb < 25:\n",
    "    print(\"thinking small\")\n",
    "else:\n",
    "    print(\"sky's the limit\")\n"
   ]
  },
  {
   "cell_type": "code",
   "execution_count": null,
   "metadata": {},
   "outputs": [],
   "source": [
    "# conditional statements may also be used\n",
    "# be careful when scripting logic statements to make sure\n",
    "# the desired outcome is achieved \n",
    "#    \"and\" - x and y must both be true for if to return true\n",
    "#    \"or\"  - if either x or y are true then if returns true\n",
    "#    \"not\" - x and y must both be fase for if to return true\n",
    "\n",
    "# example of \"and\" logic\n",
    "wrd = input(\"Insert a word: \")\n",
    "\n",
    "if wrd != \"Wot\" and wrd != \"word\":\n",
    "    print(\"funky fresh!\")\n",
    "else:\n",
    "    print(\"you made a thing!\")"
   ]
  },
  {
   "cell_type": "code",
   "execution_count": null,
   "metadata": {},
   "outputs": [],
   "source": [
    "# example of using \"or\" logic\n",
    "wrd2 = input(\"another word? \")\n",
    "\n",
    "if wrd2 == \"one\" or wrd2 == \"two\":\n",
    "    print(\"numbs\")\n",
    "else:\n",
    "    print(\"more things!\")"
   ]
  },
  {
   "cell_type": "code",
   "execution_count": null,
   "metadata": {},
   "outputs": [],
   "source": [
    "# example of a complex if-else statement\n",
    "num2 = int(input(\"Input a number between 1 and 10: \"))\n",
    "\n",
    "if num2 < 0 or num2 > 10:\n",
    "    print(\"I like your style!\") # elif is how python declares an \"else if\"\n",
    "elif num2 > 5 or num2 < 5:\n",
    "    print(\"taking to the edges\")\n",
    "else:\n",
    "    print(\"the middle road\")"
   ]
  }
 ],
 "metadata": {
  "kernelspec": {
   "display_name": "Python 3",
   "language": "python",
   "name": "python3"
  },
  "language_info": {
   "codemirror_mode": {
    "name": "ipython",
    "version": 3
   },
   "file_extension": ".py",
   "mimetype": "text/x-python",
   "name": "python",
   "nbconvert_exporter": "python",
   "pygments_lexer": "ipython3",
   "version": "3.7.1"
  }
 },
 "nbformat": 4,
 "nbformat_minor": 2
}

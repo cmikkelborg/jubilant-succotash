{
 "cells": [
  {
   "cell_type": "code",
   "execution_count": null,
   "metadata": {},
   "outputs": [],
   "source": [
    "# =====  data collections  ====="
   ]
  },
  {
   "cell_type": "code",
   "execution_count": null,
   "metadata": {},
   "outputs": [],
   "source": [
    "# ===== lists  ======\n",
    "# lists [] : are numarically indexed, starting with 0\n",
    "#              0        1         2         3         4\n",
    "mysteryInc=['Velma', 'Scooby', 'Daphne', 'Shaggy', 'Fred']\n",
    "print(mysteryInc)\n",
    "print('')\n",
    "\n",
    "# use brackets [x] to specify a specific index\n",
    "print(mysteryInc[2])\n",
    "print('')\n",
    "\n",
    "# can specifiy ranges, or slices, of lists. endpoint will not be included\n",
    "print(mysteryInc[1:4], \"\\n\")\n",
    "\n",
    "# get an element of a slice\n",
    "# scooby is position 0 of slice 1-3\n",
    "print(mysteryInc[1:4][0])"
   ]
  },
  {
   "cell_type": "code",
   "execution_count": null,
   "metadata": {},
   "outputs": [],
   "source": [
    "# maps {} : a dicitonary or table in which keys and values can be customized\n",
    "#             {  key :   value ,    key  :   value  ,   key   :       value           }\n",
    "favoriteFoods={'Fred': 'burger', 'Daphne': 'Lasagna', 'Scooby': 'literally everything'}\n",
    "print(favoriteFoods)\n",
    "\n",
    "# keys may be specified within brackets [] to return\n",
    "# the key's value\n",
    "print(favoriteFoods['Scooby'])\n",
    "print('\\n')\n",
    "print(favoriteFoods['Fred'])\n",
    "\n",
    "# maps may also contain lists\n",
    "cookbook = {\n",
    "#     key   : [         values as a list          ]\n",
    "    \"pizza\" : [\"dough\", \"cheese\", \"sauce\", \"bacon\"],\n",
    "    \"ramen\" : [\"money\", \"water\"],\n",
    "    \"pie\" : 3.1415927\n",
    "}\n",
    "\n",
    "print('')\n",
    "\n",
    "# to select a specific value in the map \"cookbook\" of the key of \"pizza\" (also a list)\n",
    "# use brackets [x] to specify the the value's index\n",
    "print(cookbook[\"pizza\"][0]) \n",
    "print('')\n",
    "\n",
    "# use [len] to return the length of the map\n",
    "print(len(cookbook[\"pizza\"])) # the key pizza has 4 values\n",
    "print('')\n",
    "\n",
    "# strings are lists too\n",
    "print(len(cookbook[\"pizza\"][0]), \"\\n\") # \"dough\" has a length of 5\n",
    "\n",
    "# index - \"0123\"\n",
    "print(len(\"four\")) # \"four\" has a length of 4\n",
    "print(\"four\"[2])   # the index 2 is at the position of \"u\""
   ]
  },
  {
   "cell_type": "code",
   "execution_count": null,
   "metadata": {},
   "outputs": [],
   "source": [
    "# () tuple : a collection that can contain varying data types, but whos objects \n",
    "#            and length are fixed, and cannot be changed\n",
    "mysteryInc2=(mysteryInc, \"The Mystery Machine\", 9000, True)\n",
    "print(mysteryInc2)"
   ]
  },
  {
   "cell_type": "code",
   "execution_count": null,
   "metadata": {},
   "outputs": [],
   "source": [
    "# ===== list example []  ======\n",
    "#  and manipulating collections\n",
    "favFoods = [] # declaring an empty list\n",
    "food = input(\"What's your favorite food?\")\n",
    "\n",
    "# add a variable into a array/list\n",
    "favFoods.append(food)\n",
    "\n",
    "# you can also add a variable directly into a list\n",
    "favFoods.append(input(\"What's another favorite food? \"))\n",
    "print(favFoods)"
   ]
  },
  {
   "cell_type": "code",
   "execution_count": null,
   "metadata": {},
   "outputs": [],
   "source": [
    "# ======  map example  ======\n",
    "# and more manipulations\n",
    "fav_color = {}\n",
    "name = input(\"What's your name? \")\n",
    "color = input(\"What's your favorite color?\")\n",
    "fav_color[name] = color # name is declared as a key with the value of color\n",
    "\n",
    "name = input(\"What's your name? \")\n",
    "# .rstrip() cleans up the input, removing spaces that are not easily seen that \n",
    "#  are sometimes automatically generated\n",
    "name = name.rstrip()\n",
    "color = input(\"What's your favorite color?\")\n",
    "color = color.rstrip()\n",
    "fav_color[name] = color\n",
    "\n",
    "# using input to look up a key's value\n",
    "# the input for lookup must match a key within the map\n",
    "lookup = input(\"Who's color secrets would you like to know? \")\n",
    "print(\"%s's favorite food is %s, disgusting!\" % (lookup, fav_color[lookup]))\n",
    "\n",
    "# deleting a key and its value\n",
    "lookup = input(\"who would you like to remove? \")\n",
    "del fav_color[lookup] # specify the key that you want to remove\n",
    "print(fav_color)"
   ]
  }
 ],
 "metadata": {
  "kernelspec": {
   "display_name": "Python 3",
   "language": "python",
   "name": "python3"
  },
  "language_info": {
   "codemirror_mode": {
    "name": "ipython",
    "version": 3
   },
   "file_extension": ".py",
   "mimetype": "text/x-python",
   "name": "python",
   "nbconvert_exporter": "python",
   "pygments_lexer": "ipython3",
   "version": "3.7.1"
  }
 },
 "nbformat": 4,
 "nbformat_minor": 2
}

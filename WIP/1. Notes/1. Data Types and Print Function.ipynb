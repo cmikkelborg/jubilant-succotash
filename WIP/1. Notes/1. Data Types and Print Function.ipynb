{
 "cells": [
  {
   "cell_type": "code",
   "execution_count": null,
   "metadata": {},
   "outputs": [],
   "source": [
    "# =====  Data Types  =====\n",
    "# the basic data types recognized in python:\n",
    "#    Strings, \"Hello world!\"\n",
    "#    Integers, 1,2,3\n",
    "#    Floats, 3.14, 2.71828"
   ]
  },
  {
   "cell_type": "code",
   "execution_count": 2,
   "metadata": {},
   "outputs": [
    {
     "name": "stdout",
     "output_type": "stream",
     "text": [
      "Hello people!\n",
      "What is the meaning of life? 42\n",
      "[<bound method Kernel.raw_input of <ipykernel.ipkernel.IPythonKernel object at 0x0513CCD0>>]\n"
     ]
    }
   ],
   "source": [
    "# Printing to the console\n",
    "#    print() is a python function to print to the console\n",
    "#    note that functions are declared by their name, such as: \"print\" followed by: \"()\"\n",
    "#    where \"()\" contains arguments for the function\n",
    "#    print()'s arguments can be variables, strings, integers, and floats\n",
    "#    and includes various arguments to manipulate the output\n",
    "\n",
    "# print with a string arguement\n",
    "print(\"Hello people!\")\n",
    "\n",
    "# input takes a string as a parameter and prints that out for the user.\n",
    "\n",
    "input(\"What is the meaning of life? \")\n",
    "print([input])"
   ]
  },
  {
   "cell_type": "code",
   "execution_count": null,
   "metadata": {},
   "outputs": [],
   "source": []
  }
 ],
 "metadata": {
  "kernelspec": {
   "display_name": "Python 3",
   "language": "python",
   "name": "python3"
  },
  "language_info": {
   "codemirror_mode": {
    "name": "ipython",
    "version": 3
   },
   "file_extension": ".py",
   "mimetype": "text/x-python",
   "name": "python",
   "nbconvert_exporter": "python",
   "pygments_lexer": "ipython3",
   "version": "3.7.2"
  }
 },
 "nbformat": 4,
 "nbformat_minor": 2
}

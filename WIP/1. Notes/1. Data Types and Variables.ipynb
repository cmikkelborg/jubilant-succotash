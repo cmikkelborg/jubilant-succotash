{
 "cells": [
  {
   "cell_type": "code",
   "execution_count": 18,
   "metadata": {},
   "outputs": [
    {
     "name": "stdout",
     "output_type": "stream",
     "text": [
      "multiplying a integer: 42*4 =  168\n",
      "-vs-\n",
      "multiplying a string: \"68\"*4 =  68686868 \n",
      "\n",
      "stringNum is an integer now! 68*4 =  272 \n",
      "\n",
      "varInt*varFlt =  114.16776\n",
      "varInt*varFlt converted to int =  114 \n",
      "\n",
      "varFlt rounded to 2 decimals: 2.7\n",
      "same result different technique: 2.72\n",
      "rounded using a reference 2.718\n",
      "varInt*varFlt =  114.17\n"
     ]
    }
   ],
   "source": [
    "# =====  Variables  ======\n",
    "# variables are used to hold data and can include any\n",
    "# of the data types\n",
    "\n",
    "# review of data types\n",
    "varString = \"Hello world!\" # this variable holds a string\n",
    "varStringNum = \"42\" # strings can also be numbers\n",
    "varInt = 42 # this variable holds an integer\n",
    "varFlt = 2.71828 # this variable holds a float\n",
    "\n",
    "# numbers can be strings, but remember python recognizes strings as text and not as numbers\n",
    "# using arithmatic on strings will yeild a very different result\n",
    "# when used on strings vs integers or floats\n",
    "stringNum = \"68\"\n",
    "print(\"multiplying a integer: 42*4 = \", varInt*4)\n",
    "print(\"-vs-\")\n",
    "print(\"multiplying a string: \\\"68\\\"*4 = \", stringNum*4, \"\\n\")\n",
    "\n",
    "# however, strings and floats can be converted into integers too\n",
    "stringNum = int(stringNum)\n",
    "print(\"stringNum is an integer now! 68*4 = \", stringNum*4, \"\\n\")\n",
    "\n",
    "# arithmatic between a integer and a float will return a float\n",
    "print(\"varInt*varFlt = \", varInt*varFlt)\n",
    "\n",
    "# but answers can be converted too\n",
    "print(\"varInt*varFlt converted to int = \", int(varInt*varFlt), \"\\n\")\n",
    "\n",
    "# you can set the number of decimals of a float \n",
    "print(\"varFlt rounded to 2 decimals: {0:.1f}\".format(varFlt))\n",
    "print(\"same result different technique:\", round(varFlt,2))\n",
    "print(\"rounded using a reference %.3f\" % varFlt)\n",
    "print(\"varInt*varFlt = \", round(varInt*varFlt,2))"
   ]
  },
  {
   "cell_type": "code",
   "execution_count": null,
   "metadata": {},
   "outputs": [],
   "source": []
  }
 ],
 "metadata": {
  "kernelspec": {
   "display_name": "Python 3",
   "language": "python",
   "name": "python3"
  },
  "language_info": {
   "codemirror_mode": {
    "name": "ipython",
    "version": 3
   },
   "file_extension": ".py",
   "mimetype": "text/x-python",
   "name": "python",
   "nbconvert_exporter": "python",
   "pygments_lexer": "ipython3",
   "version": "3.7.2"
  }
 },
 "nbformat": 4,
 "nbformat_minor": 2
}

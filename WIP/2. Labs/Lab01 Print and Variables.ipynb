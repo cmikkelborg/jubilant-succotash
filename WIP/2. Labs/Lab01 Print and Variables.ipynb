{
 "cells": [
  {
   "cell_type": "code",
   "execution_count": null,
   "metadata": {},
   "outputs": [],
   "source": [
    "# Write the following python statements\n",
    "#    Print a single quote string function that includes special characters\n",
    "#    Print a double quote string function\n",
    "#    Print a triple quote string function that includes special characters\n",
    "#    Print function that displays two strings seperated by two lines, with the second string indented, on a single line statement\n",
    "#    Three print functions that display their arguments on a single line\n",
    "#    Assign a string to a variable and use print to display the variable's stored string\n",
    "#    Create a string, integer, and float variable and use a print function that displays each by reference\n",
    "#    Create aninteger and float using any method, then create a single statement that adds them and returns an integer\n",
    "#    Create multi-line print function\n",
    "#    Use input functions to take in 2 integers and then a print function that multiplies both inputs\n",
    "#    Use any method to declare a float with 6 decimals, and then print the float with with 2 decimals"
   ]
  }
 ],
 "metadata": {
  "kernelspec": {
   "display_name": "Python 3",
   "language": "python",
   "name": "python3"
  },
  "language_info": {
   "codemirror_mode": {
    "name": "ipython",
    "version": 3
   },
   "file_extension": ".py",
   "mimetype": "text/x-python",
   "name": "python",
   "nbconvert_exporter": "python",
   "pygments_lexer": "ipython3",
   "version": "3.7.1"
  }
 },
 "nbformat": 4,
 "nbformat_minor": 2
}

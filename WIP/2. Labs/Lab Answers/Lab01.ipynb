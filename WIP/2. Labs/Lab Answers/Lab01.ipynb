{
 "cells": [
  {
   "cell_type": "code",
   "execution_count": null,
   "metadata": {},
   "outputs": [],
   "source": [
    "# Write the following python statements:"
   ]
  },
  {
   "cell_type": "code",
   "execution_count": null,
   "metadata": {},
   "outputs": [],
   "source": [
    "# Print a single quote string function that includes special characters\n",
    "print('A \"shwingle\" line stwing')"
   ]
  },
  {
   "cell_type": "code",
   "execution_count": null,
   "metadata": {},
   "outputs": [],
   "source": [
    "# Print a double quote string function\n",
    "print(\"A doobles line stwoong\")"
   ]
  },
  {
   "cell_type": "code",
   "execution_count": null,
   "metadata": {},
   "outputs": [],
   "source": [
    "# Print a triple quote string function that includes special characters\n",
    "print('''A twumple wun stwung''')"
   ]
  },
  {
   "cell_type": "code",
   "execution_count": null,
   "metadata": {},
   "outputs": [],
   "source": [
    "# Print function that displays two strings seperated by two lines, with the second string indented, in\n",
    "#   a single line statement\n",
    "print(\"Homestar\\n\\n\\tRunner\")"
   ]
  },
  {
   "cell_type": "code",
   "execution_count": null,
   "metadata": {},
   "outputs": [],
   "source": [
    "# Three seperate print functions that display their arguments on a single line\n",
    "print(\"foo\", end=\"-\")\n",
    "print(\"foo\", end=\" \")\n",
    "print(\"chili mac\")"
   ]
  },
  {
   "cell_type": "code",
   "execution_count": null,
   "metadata": {},
   "outputs": [],
   "source": [
    "# Assign a string to a variable and use print to display the variable's stored string\n",
    "stwing = \"What a time to be alive...\"\n",
    "print(stwing)"
   ]
  },
  {
   "cell_type": "code",
   "execution_count": null,
   "metadata": {},
   "outputs": [],
   "source": [
    "# Create a string, integer, and float variable and use a print function that displays each by reference\n",
    "str1 = \"swoot\"\n",
    "int1 = 65350\n",
    "flt1 = 2.1828\n",
    "print(\"a %s can live to %d years old. That's %f in %s years\" % (str1, int1, flt1, str1))"
   ]
  },
  {
   "cell_type": "code",
   "execution_count": null,
   "metadata": {},
   "outputs": [],
   "source": [
    "# Create an integer and float using any method, then create a single statement that adds them\n",
    "#   and returns an integer\n",
    "int1 = int(input(\"Enter a whole number: \"))\n",
    "flt1 = float(input(\"Enter a float number: \"))\n",
    "print(int(int1+flt1))"
   ]
  },
  {
   "cell_type": "code",
   "execution_count": null,
   "metadata": {},
   "outputs": [],
   "source": [
    "# Create multi-line print function\n",
    "print('''See\n",
    "you\n",
    "soon''')"
   ]
  },
  {
   "cell_type": "code",
   "execution_count": null,
   "metadata": {},
   "outputs": [],
   "source": [
    "# Use input functions to take in 2 integers and then a print function that multiplies both inputs\n",
    "var1 = int(input(\"enter a whole number: \"))\n",
    "var2 = int(input(\"enter another: \"))\n",
    "print(var1, \"x\", var2, \"=\", var1*var2)"
   ]
  },
  {
   "cell_type": "code",
   "execution_count": null,
   "metadata": {},
   "outputs": [],
   "source": [
    "# Use any method to declare a float with 6 decimals, and then print the float with with 2 decimals\n",
    "flt1 = 2.1828\n",
    "print(\"%.2f\" % (flt1))"
   ]
  }
 ],
 "metadata": {
  "kernelspec": {
   "display_name": "Python 3",
   "language": "python",
   "name": "python3"
  },
  "language_info": {
   "codemirror_mode": {
    "name": "ipython",
    "version": 3
   },
   "file_extension": ".py",
   "mimetype": "text/x-python",
   "name": "python",
   "nbconvert_exporter": "python",
   "pygments_lexer": "ipython3",
   "version": "3.7.1"
  }
 },
 "nbformat": 4,
 "nbformat_minor": 2
}

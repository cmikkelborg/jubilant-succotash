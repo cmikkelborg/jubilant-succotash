{
 "cells": [
  {
   "cell_type": "code",
   "execution_count": 1,
   "metadata": {},
   "outputs": [],
   "source": [
    "# Welcome to Tax Calculator - now making taxes fun!\n",
    "# prompt(Pick a shape!)\n",
    "# \n",
    "# Circle, Square, Triangle, trapazoid\n",
    "#  (1)      (2)     (3)        (4)\n",
    "# \n",
    "# Choice draws shape using turtle\n",
    "# \n",
    "# prompt(How much you make last year)\n",
    "# \n",
    "# money value within a range return a number\n",
    "# "
   ]
  },
  {
   "cell_type": "code",
   "execution_count": 2,
   "metadata": {},
   "outputs": [
    {
     "data": {
      "application/vnd.jupyter.widget-view+json": {
       "model_id": "590e183a53e64aa5a6f2b0d4c07dc7fa",
       "version_major": 2,
       "version_minor": 0
      },
      "text/html": [
       "<p>Failed to display Jupyter Widget of type <code>Turtle</code>.</p>\n",
       "<p>\n",
       "  If you're reading this message in the Jupyter Notebook or JupyterLab Notebook, it may mean\n",
       "  that the widgets JavaScript is still loading. If this message persists, it\n",
       "  likely means that the widgets JavaScript library is either not installed or\n",
       "  not enabled. See the <a href=\"https://ipywidgets.readthedocs.io/en/stable/user_install.html\">Jupyter\n",
       "  Widgets Documentation</a> for setup instructions.\n",
       "</p>\n",
       "<p>\n",
       "  If you're reading this message in another frontend (for example, a static\n",
       "  rendering on GitHub or <a href=\"https://nbviewer.jupyter.org/\">NBViewer</a>),\n",
       "  it may mean that your frontend doesn't currently support widgets.\n",
       "</p>\n"
      ],
      "text/plain": [
       "Turtle()"
      ]
     },
     "metadata": {},
     "output_type": "display_data"
    }
   ],
   "source": [
    "from ipyturtle import Turtle\n",
    "t = Turtle(fixed=False, width=320, height=320)\n",
    "\n",
    "def circle():\n",
    "        for i in range(360):\n",
    "            t.forward(1)\n",
    "            t.left(1)\n",
    "            \n",
    "def square():\n",
    "    t.forward(60)\n",
    "    t.left(90)\n",
    "    t.forward(120)\n",
    "    t.left(90)\n",
    "    t.forward(120)\n",
    "    t.left(90)\n",
    "    t.forward(120)\n",
    "    t.left(90)\n",
    "    t.forward(60)\n",
    "    \n",
    "def triangle():\n",
    "    t.left(30)\n",
    "    t.forward(120)\n",
    "    t.left(120)\n",
    "    t.forward(120)\n",
    "    t.left(121)\n",
    "    t.forward(120)\n",
    "    t.left(90)\n",
    "\n",
    "def trapazoid():\n",
    "    t.left(30)\n",
    "    t.forward(60)\n",
    "    t.left(60)\n",
    "    t.forward(60)\n",
    "    t.left(60)\n",
    "    t.forward(60)\n",
    "    t.left(121)\n",
    "    t.forward(120)\n",
    "    t.left(90)\n",
    "    \n",
    "t.pendown()\n",
    "t\n"
   ]
  },
  {
   "cell_type": "code",
   "execution_count": 3,
   "metadata": {},
   "outputs": [],
   "source": [
    "t.penup()\n",
    "t.right(90)\n",
    "t.forward(60)\n",
    "t.left(90)\n",
    "t.pendown()"
   ]
  },
  {
   "cell_type": "code",
   "execution_count": 6,
   "metadata": {},
   "outputs": [
    {
     "name": "stdout",
     "output_type": "stream",
     "text": [
      "Welcome to Tax Calculator\n",
      "   We make taxes fun!\n",
      "\n",
      "Before we begin lets pick a shape:\n",
      "(1) Circle, (2) Square, (3) Triangle, (4) Trapazoid\n"
     ]
    }
   ],
   "source": [
    "print(\"Welcome to Tax Calculator\")\n",
    "print(\"   We make taxes fun!\\n\")\n",
    "print(\"Before we begin lets pick a shape:\")\n",
    "print(\"(1) Circle, (2) Square, (3) Triangle, (4) Trapazoid\")"
   ]
  },
  {
   "cell_type": "code",
   "execution_count": 5,
   "metadata": {},
   "outputs": [
    {
     "name": "stdout",
     "output_type": "stream",
     "text": [
      "What's your shape? 1\n",
      "That's super great, right?!\n"
     ]
    }
   ],
   "source": [
    "shape = int(input(\"What's your shape? \"))\n",
    "if shape < 2:\n",
    "    circle()\n",
    "    print(\"That's super great, right?!\")\n",
    "elif shape < 3:\n",
    "    square()\n",
    "    print(\"Pretty lit square you got there!\")\n",
    "elif shape < 4:\n",
    "    triangle()\n",
    "    print(\"isocoles!\")\n",
    "elif shape < 5:\n",
    "    trapazoid()\n",
    "    print(\"That's mathmatical!\")"
   ]
  },
  {
   "cell_type": "code",
   "execution_count": null,
   "metadata": {
    "collapsed": true
   },
   "outputs": [],
   "source": []
  }
 ],
 "metadata": {
  "kernelspec": {
   "display_name": "Python 2",
   "language": "python",
   "name": "python2"
  },
  "language_info": {
   "codemirror_mode": {
    "name": "ipython",
    "version": 2
   },
   "file_extension": ".py",
   "mimetype": "text/x-python",
   "name": "python",
   "nbconvert_exporter": "python",
   "pygments_lexer": "ipython2",
   "version": "2.7.13"
  }
 },
 "nbformat": 4,
 "nbformat_minor": 2
}

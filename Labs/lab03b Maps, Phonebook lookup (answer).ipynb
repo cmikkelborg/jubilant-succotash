{
 "cells": [
  {
   "cell_type": "code",
   "execution_count": null,
   "metadata": {},
   "outputs": [],
   "source": [
    "# create a map \"phonebook\" that asks for 3 names and their numbers\n",
    "phonebook = {}\n",
    "name = input(\"enter person1 name:\")\n",
    "phone = input(\"enter person1 phone number: \")\n",
    "phonebook[name] = phone\n",
    "print(\"\")\n",
    "\n",
    "name1 = input(\"enter person2 name:\")\n",
    "phone1 = input(\"enter person2 phone number: \")\n",
    "phonebook[name1] = phone1\n",
    "print(\"\")\n",
    "\n",
    "name2 = input(\"enter person3 name:\")\n",
    "phone2 = input(\"enter person3 phone number: \")\n",
    "phonebook[name2] = phone2"
   ]
  },
  {
   "cell_type": "code",
   "execution_count": null,
   "metadata": {},
   "outputs": [],
   "source": [
    "# print the new map\n",
    "print(phonebook)"
   ]
  },
  {
   "cell_type": "code",
   "execution_count": null,
   "metadata": {},
   "outputs": [],
   "source": [
    "# use input() to ask for a name to look up a number\n",
    "print(\"Who's number would you like to look up?\", end=' ')\n",
    "print(phonebook[input()])"
   ]
  },
  {
   "cell_type": "code",
   "execution_count": null,
   "metadata": {},
   "outputs": [],
   "source": [
    "# create a map that works in reverse (uses the previously entered numbers to look up the name)\n",
    "# and input() for number to look up coresponding name\n",
    "reversephone = {phone: name, phone1: name1, phone2: name2}\n",
    "lookup = input(\"what is the number of the name you would like to look up? \")\n",
    "print('%s is the number belonging to %s' % (lookup, reversephone[lookup]))\n"
   ]
  }
 ],
 "metadata": {
  "kernelspec": {
   "display_name": "Python 3",
   "language": "python",
   "name": "python3"
  },
  "language_info": {
   "codemirror_mode": {
    "name": "ipython",
    "version": 3
   },
   "file_extension": ".py",
   "mimetype": "text/x-python",
   "name": "python",
   "nbconvert_exporter": "python",
   "pygments_lexer": "ipython3",
   "version": "3.7.2"
  }
 },
 "nbformat": 4,
 "nbformat_minor": 2
}

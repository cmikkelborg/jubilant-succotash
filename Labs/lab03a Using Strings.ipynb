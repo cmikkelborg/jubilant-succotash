{
 "cells": [
  {
   "cell_type": "code",
   "execution_count": null,
   "metadata": {},
   "outputs": [],
   "source": [
    "# Write the following python statements\n",
    "#    A single quote string\n",
    "#    A double quote string\n",
    "#    A triple quote string\n",
    "#    Assign a string to a variable and print it within the string\n",
    "#    Create an integer and float variable and use a print statement that displays by reference name, integer, and float\n",
    "#    A multi-line print statement\n",
    "#    Three print statements that print a message on a single line"
   ]
  }
 ],
 "metadata": {
  "kernelspec": {
   "display_name": "Python 3",
   "language": "python",
   "name": "python3"
  },
  "language_info": {
   "codemirror_mode": {
    "name": "ipython",
    "version": 3
   },
   "file_extension": ".py",
   "mimetype": "text/x-python",
   "name": "python",
   "nbconvert_exporter": "python",
   "pygments_lexer": "ipython3",
   "version": "3.7.2"
  }
 },
 "nbformat": 4,
 "nbformat_minor": 2
}

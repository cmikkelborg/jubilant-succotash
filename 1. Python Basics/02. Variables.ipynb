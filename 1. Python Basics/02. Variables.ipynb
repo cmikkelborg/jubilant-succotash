{
 "cells": [
  {
   "cell_type": "code",
   "execution_count": null,
   "metadata": {},
   "outputs": [],
   "source": [
    "# =====  Variables  ======\n",
    "# variables are used to hold data and can include any\n",
    "# of the data types and may be manipulated in many ways"
   ]
  },
  {
   "cell_type": "code",
   "execution_count": null,
   "metadata": {},
   "outputs": [],
   "source": [
    "# review of data types\n",
    "varString = \"Hello world!\" # this variable holds a string\n",
    "varStringNum = \"42\" # strings can also be numbers\n",
    "varInt = 42 # this variable holds an integer\n",
    "varFlt = 2.71828 # this variable holds a float\n",
    "\n",
    "# Several different operators may be used to manipulate a print argument\n",
    "# \\  = ignore next character\n",
    "# \\n = newline\n",
    "# \\t = tab\n",
    "# %s = string\n",
    "# %d = digit\n",
    "# %f = float"
   ]
  },
  {
   "cell_type": "code",
   "execution_count": null,
   "metadata": {},
   "outputs": [],
   "source": [
    "# declaring a variable \"name\"\n",
    "# and different ways to call a variable within an argument of a print() function\n",
    "name = \"ambler\"\n",
    "print(\"An\", name, \"is sitting next to me.\") # note that spaces are not required before or after variable\n",
    "print(\"An %s is sitting next to me.\" % (name))"
   ]
  },
  {
   "cell_type": "code",
   "execution_count": null,
   "metadata": {},
   "outputs": [],
   "source": [
    "# numbers can be strings, but remember python recognizes strings as text and not as numbers\n",
    "# using arithmatic on strings will yeild a very different result\n",
    "# when used on strings vs integers or floats\n",
    "stringNum = \"68\"\n",
    "print(\"multiplying a integer: 42*4 = \", varInt*4)\n",
    "print(\"-vs-\")\n",
    "print(\"multiplying a string: \\\"68\\\"*4 = \", stringNum*4)"
   ]
  },
  {
   "cell_type": "code",
   "execution_count": null,
   "metadata": {},
   "outputs": [],
   "source": [
    "# strings and floats can be converted into integers too\n",
    "stringNum = int(stringNum)\n",
    "print(\"stringNum is an integer now! 68*4 = \", stringNum*4)\n",
    "\n",
    "# lines 1,2 declare their inputs as strings\n",
    "# lines 3,4 turn the strings into integers\n",
    "num1=input(\"Enter a number: \")\n",
    "num2=input(\"Enter another number: \")\n",
    "num1=int(num1)\n",
    "num2=int(num2)"
   ]
  },
  {
   "cell_type": "code",
   "execution_count": null,
   "metadata": {},
   "outputs": [],
   "source": [
    "# this declares input as an integer.\n",
    "num = int(input(\"What is the meaning of life?\"))"
   ]
  },
  {
   "cell_type": "code",
   "execution_count": null,
   "metadata": {},
   "outputs": [],
   "source": [
    "# specifing num as a integer will allow for normal arithmatic\n",
    "maths = num * 4\n",
    "print(maths)"
   ]
  },
  {
   "cell_type": "code",
   "execution_count": null,
   "metadata": {},
   "outputs": [],
   "source": [
    "# arithmatic can be included within print() statements\n",
    "print(num1, \"times\", num2, \" is \", num1*num2)\n",
    "print(num * 4)"
   ]
  },
  {
   "cell_type": "code",
   "execution_count": null,
   "metadata": {},
   "outputs": [],
   "source": [
    "# arithmatic between a integer and a float will return a float\n",
    "print(\"varInt*varFlt = \", varInt*varFlt)"
   ]
  },
  {
   "cell_type": "code",
   "execution_count": null,
   "metadata": {},
   "outputs": [],
   "source": [
    "# but answers can be converted too\n",
    "print(\"varInt*varFlt converted to int = \", int(varInt*varFlt))"
   ]
  },
  {
   "cell_type": "code",
   "execution_count": null,
   "metadata": {},
   "outputs": [],
   "source": [
    "# you can set the number of decimals of a float \n",
    "print(\"varFlt rounded to 2 decimals: {0:.1f}\".format(varFlt))\n",
    "print(\"same result different technique:\", round(varFlt,2))\n",
    "print(\"rounded using a reference %.3f\" % varFlt)\n",
    "print(\"varInt*varFlt = \", round(varInt*varFlt,2))"
   ]
  },
  {
   "cell_type": "code",
   "execution_count": null,
   "metadata": {},
   "outputs": [],
   "source": [
    "# here are the basic data types\n",
    "# and how they are called by reference within a print() \n",
    "# %s (string), %d (integer), %f (float)\n",
    "# like above the number of decimals in a float can be declared\n",
    "# between \"%\" and \"f\" or left to default as \"%f\"\n",
    "name = \"Ambler\"\n",
    "digit = 27000000000\n",
    "floap = 3.14\n",
    "print('''%s is %d years old. Thats %.4f in %s years.''' % (name, digit, floap, name))"
   ]
  },
  {
   "cell_type": "code",
   "execution_count": null,
   "metadata": {},
   "outputs": [],
   "source": [
    "# input takes a string as an argument that can be printed or stored\n",
    "# in this case the prompt puts input directly into variable.\n",
    "num = input(\"What is the meaning of life? \")"
   ]
  }
 ],
 "metadata": {
  "kernelspec": {
   "display_name": "Python 3",
   "language": "python",
   "name": "python3"
  },
  "language_info": {
   "codemirror_mode": {
    "name": "ipython",
    "version": 3
   },
   "file_extension": ".py",
   "mimetype": "text/x-python",
   "name": "python",
   "nbconvert_exporter": "python",
   "pygments_lexer": "ipython3",
   "version": "3.7.3"
  }
 },
 "nbformat": 4,
 "nbformat_minor": 2
}

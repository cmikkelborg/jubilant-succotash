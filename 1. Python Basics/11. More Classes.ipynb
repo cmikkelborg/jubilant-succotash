{
 "cells": [
  {
   "cell_type": "code",
   "execution_count": null,
   "metadata": {},
   "outputs": [],
   "source": [
    "class Animal:\n",
    "    \n",
    "    animalNumber = 0\n",
    "    \n",
    "    #__init__ runs when an Animal is contructed\n",
    "    def __init__(self, species, length, diet, color, name):\n",
    "        self.id = Animal.animalNumber\n",
    "        Animal.animalNumber += 1\n",
    "        self.species = species\n",
    "        self.length = length\n",
    "        self.diet = diet\n",
    "        self.color = color\n",
    "        self.name = name\n",
    "        \n",
    "    def display(self):\n",
    "        print(\"\\n\\tManimal: %s\" % self.name)\n",
    "        print(\"\\tID: %s\" % self.id)\n",
    "        print(\"\\tManimal type: %s\" % self.species)\n",
    "        print(\"\\tLength: %d\" % self.length)\n",
    "        print(\"\\tDiet: %s\" % self.diet)\n",
    "        print(\"\\tColor: %s\" % self.color)"
   ]
  },
  {
   "cell_type": "code",
   "execution_count": null,
   "metadata": {},
   "outputs": [],
   "source": [
    "# getAnimal will ask user for animal information and return an Animal object\n",
    "def getAnimal():\n",
    "    species = input(\"\\tSpecies: \")\n",
    "    length = int(input(\"\\tlength: \"))\n",
    "    diet = input(\"\\tDiet: \")\n",
    "    color = input(\"\\tcolor: \")\n",
    "    name = input(\"\\n\\tName: \")\n",
    "    return Animal(species, length, diet, color, name)\n",
    "print(\"\")\n",
    "    \n",
    "registry = {}\n",
    "\n",
    "# creation\n",
    "wolf = Animal(\"Canis Lupis\", 4, \"chewy meats\", \"black\", \"Lupin\")\n",
    "\n",
    "# regestry\n",
    "registry[wolf.id] = wolf\n",
    "\n",
    "# display\n",
    "wolf.display()\n",
    "\n",
    "# main program loop\n",
    "while True:\n",
    "    cmd = input(\"(A)dd Animal (L)ookup (Q)uit\")\n",
    "    if cmd == \"Q\":\n",
    "        print(\"Goodbye!\")\n",
    "        print(len(registry))\n",
    "        break\n",
    "    if cmd == \"A\":\n",
    "        animal = getAnimal()\n",
    "        registry[animal.id] = animal\n",
    "    if cmd == \"L\":\n",
    "        print(\"Enter a valid ID from 0 to \", len(registry)-1)\n",
    "        id = int(input(\"Input ID: \"))\n",
    "        registry[id].display()"
   ]
  },
  {
   "cell_type": "code",
   "execution_count": null,
   "metadata": {},
   "outputs": [],
   "source": []
  },
  {
   "cell_type": "code",
   "execution_count": null,
   "metadata": {},
   "outputs": [],
   "source": []
  }
 ],
 "metadata": {
  "kernelspec": {
   "display_name": "Python 3",
   "language": "python",
   "name": "python3"
  },
  "language_info": {
   "codemirror_mode": {
    "name": "ipython",
    "version": 3
   },
   "file_extension": ".py",
   "mimetype": "text/x-python",
   "name": "python",
   "nbconvert_exporter": "python",
   "pygments_lexer": "ipython3",
   "version": "3.7.3"
  }
 },
 "nbformat": 4,
 "nbformat_minor": 2
}

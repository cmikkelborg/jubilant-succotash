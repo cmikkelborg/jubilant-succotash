{
 "cells": [
  {
   "cell_type": "code",
   "execution_count": null,
   "metadata": {},
   "outputs": [],
   "source": [
    "# =====  Functions  =====\n",
    "# functions are collections of code that perform some action\n",
    "# that can be called by reference of the function name. they can\n",
    "# be identified by the parenthesis that immediately follow \"()\"\n",
    "# functions may or may not take in an argument or arguments within \n",
    "# these parenthesis that help it perform its action"
   ]
  },
  {
   "cell_type": "code",
   "execution_count": null,
   "metadata": {},
   "outputs": [],
   "source": [
    "# print() is a simple function, it does not return anything but it can\n",
    "# take in arguments and print them to the console\n",
    "print(\"I am a function too!\")\n",
    "\n",
    "# input() is also a function. it may take in arguments to be displayed\n",
    "# to the console and returns user input\n",
    "# in this example the returned user input is stored within a variable\n",
    "inputString = input(\"prompt:\")"
   ]
  },
  {
   "cell_type": "code",
   "execution_count": null,
   "metadata": {},
   "outputs": [],
   "source": [
    "# many functions are built into python, but you may also create your own\n",
    "#\n",
    "# in this function we define the name (in blue), its arguments are\n",
    "# a number of different variables, and it returns a value based\n",
    "# on arithmatic of the variables\n",
    "def getNumbOfValentines(friends, acquantences, enemies):\n",
    "    return (2 * friends) + acquantences + (0.5 * enemies)\n",
    "\n",
    "# this function will take in the number of valentines we need\n",
    "def getCostOfValentines(valentines):\n",
    "    price = 0.5\n",
    "    exchange_rate = 1.37\n",
    "    cost_usd = price*valentines\n",
    "    cost_euro = cost_usd*exchange_rate\n",
    "    return (cost_usd, cost_euro) # notice that a function can return more\n",
    "                                 # than one object\n",
    "\n",
    "# cost of Valentines finder <3    \n",
    "while True:\n",
    "    number_of_friends = int(input(\"How many friends do you have?\"))\n",
    "    if number_of_friends == 0: # first check if we need to buy valentines\n",
    "        print(\"Awwwwwwwwwww... you do now...\")\n",
    "        break # if not break from the loop here\n",
    "    # if we do then continue...\n",
    "    number_of_acquantences = int(input(\"Acquantences?\"))\n",
    "    number_of_enemies = int(input(\"Mortal enemies?\"))\n",
    "    # get number functions returns an integer\n",
    "    number_of_valentines = getNumbOfValentines( # return to next line is okay here\n",
    "        number_of_friends, number_of_acquantences, number_of_enemies)\n",
    "    \n",
    "    # get cost function returns 2 numbers in a tuple - remember that a tuple\n",
    "    # is a collection of objects surrounded by ()\n",
    "    #\n",
    "    # we unpack that tuple into 2 variables (usd, euros)\n",
    "    usd, euros = getCostOfValentines(number_of_valentines)\n",
    "    print(\"We're going to need %.1f Valentines, costing $%.2f (%.2f€)\" \n",
    "          % (number_of_valentines, usd, euros))"
   ]
  },
  {
   "cell_type": "code",
   "execution_count": null,
   "metadata": {},
   "outputs": [],
   "source": [
    "# score to letter grade converter function\n",
    "def gradeTranslator(score):\n",
    "    if score >= 90:\n",
    "        return \"A\"\n",
    "    elif score >= 80:\n",
    "        return \"B\"\n",
    "    elif score >= 70:\n",
    "        return \"C\"\n",
    "    elif score >= 60:\n",
    "        return \"D\"\n",
    "    else:\n",
    "        return \"F\"\n",
    "\n",
    "print (\"Score: 77 = Grade: %s\" % (gradeTranslator(77)))\n",
    "print (\"Score: 88 = Grade: %s\" % (gradeTranslator(88)))\n",
    "print(\"\")\n",
    "while True:\n",
    "    test_score = int(input(\"What was your test score?\"))\n",
    "    print(\"%d = %s\" % (test_score, gradeTranslator(test_score)))"
   ]
  },
  {
   "cell_type": "code",
   "execution_count": null,
   "metadata": {},
   "outputs": [],
   "source": []
  }
 ],
 "metadata": {
  "kernelspec": {
   "display_name": "Python 3",
   "language": "python",
   "name": "python3"
  },
  "language_info": {
   "codemirror_mode": {
    "name": "ipython",
    "version": 3
   },
   "file_extension": ".py",
   "mimetype": "text/x-python",
   "name": "python",
   "nbconvert_exporter": "python",
   "pygments_lexer": "ipython3",
   "version": "3.7.2"
  }
 },
 "nbformat": 4,
 "nbformat_minor": 2
}

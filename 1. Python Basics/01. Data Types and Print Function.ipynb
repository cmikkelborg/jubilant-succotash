{
 "cells": [
  {
   "cell_type": "code",
   "execution_count": null,
   "metadata": {},
   "outputs": [],
   "source": [
    "# =====  Comments  =====\n",
    "# This is a single line comment\n",
    "\n",
    "'''\n",
    "This is a \n",
    "multi-line\n",
    "comment\n",
    "\n",
    "'''"
   ]
  },
  {
   "cell_type": "code",
   "execution_count": null,
   "metadata": {},
   "outputs": [],
   "source": [
    "# =====  Data Types  =====\n",
    "# the basic data types recognized in python:\n",
    "#    Strings, \"Hello world!\" - are surrounded by quotes\n",
    "#    Integers, 1,2,3         - are whole numbers\n",
    "#    Floats, 3.14, 2.71828   - are numbers with decimals"
   ]
  },
  {
   "cell_type": "code",
   "execution_count": null,
   "metadata": {},
   "outputs": [],
   "source": [
    "# Printing to the console\n",
    "#    print() is a python function to print to the console\n",
    "#    note that functions are declared by their name, such as: \"print\" followed by: \"()\"\n",
    "#    where \"()\" contains arguments for the function\n",
    "#    print()'s arguments can be variables, strings, integers, and floats\n",
    "#    and includes various arguments to manipulate the output\n",
    "\n",
    "# Several different operators may be used to manipulate a print argument\n",
    "# \\  = ignore next character\n",
    "# \\n = newline\n",
    "# \\t = tab\n",
    "# %s = string\n",
    "# %d = digit\n",
    "# %f = float"
   ]
  },
  {
   "cell_type": "code",
   "execution_count": null,
   "metadata": {},
   "outputs": [],
   "source": [
    "# =====  Print with Strings  =====\n",
    "print(\"Hello people!\")"
   ]
  },
  {
   "cell_type": "code",
   "execution_count": null,
   "metadata": {},
   "outputs": [],
   "source": [
    "# backslash to ignore quotes, and other special characters\n",
    "print(\"I'm a \\\"string\\\"\")"
   ]
  },
  {
   "cell_type": "code",
   "execution_count": null,
   "metadata": {},
   "outputs": [],
   "source": [
    "# use triple single quotes to use print statements\n",
    "# without ignoring special characters with a backslash\n",
    "print('''I'm a \"string\"''')"
   ]
  },
  {
   "cell_type": "code",
   "execution_count": null,
   "metadata": {},
   "outputs": [],
   "source": [
    "# different ways to print a string\n",
    "print('This is a stingle quote sring')\n",
    "print(\"\\\"'dis\\\" a double squote swring\")  # notice for a \"\\\" is needed immediately before special \n",
    "                                          # chars like in \"'dis\"\n",
    "                                          # see what happens when these \"\\\" are not included\n",
    "print('''and \"'dis\" the sqipple swote twing''') # notice a \"\\\" is not needed for \"'dis\""
   ]
  },
  {
   "cell_type": "code",
   "execution_count": null,
   "metadata": {},
   "outputs": [],
   "source": [
    "# a multi line print statement\n",
    "print('''doggos\n",
    "\\tpuppers\n",
    "\\t\\tand doges''') # \"/t\" adds a tab indent, see top"
   ]
  },
  {
   "cell_type": "code",
   "execution_count": 3,
   "metadata": {},
   "outputs": [
    {
     "name": "stdout",
     "output_type": "stream",
     "text": [
      "one string, two string 3 , and 3.5\n"
     ]
    }
   ],
   "source": [
    "# seperate data types within a print function\n",
    "# must be seperated by a comma\n",
    "print(\"one string,\", \"two string\",3, \", and\", 3.5)"
   ]
  },
  {
   "cell_type": "code",
   "execution_count": null,
   "metadata": {},
   "outputs": [],
   "source": [
    "# end= can be used to end the string without creating a new line\n",
    "print(\"tur\", end=\"\")\n",
    "print(\"duck\", end=\"\")\n",
    "print(\"en\", end=\"\\n\\n\")\n",
    "print(\"tur\", \"duck\", \"en\", sep=\"!\")"
   ]
  },
  {
   "cell_type": "code",
   "execution_count": null,
   "metadata": {},
   "outputs": [],
   "source": [
    "# Several kinds of print functions that print on a single line\n",
    "print(\"all your base\", end=\" \")\n",
    "print('''are belong to''', end=' ')\n",
    "print('doge')"
   ]
  },
  {
   "cell_type": "code",
   "execution_count": null,
   "metadata": {},
   "outputs": [],
   "source": [
    "# Input is another function that takes a string as an argument \n",
    "# which can be stored or printed.\n",
    "print(\"You wrote:\",input(\"What is the meaning of life? \"))"
   ]
  }
 ],
 "metadata": {
  "kernelspec": {
   "display_name": "Python 3",
   "language": "python",
   "name": "python3"
  },
  "language_info": {
   "codemirror_mode": {
    "name": "ipython",
    "version": 3
   },
   "file_extension": ".py",
   "mimetype": "text/x-python",
   "name": "python",
   "nbconvert_exporter": "python",
   "pygments_lexer": "ipython3",
   "version": "3.7.3"
  }
 },
 "nbformat": 4,
 "nbformat_minor": 2
}

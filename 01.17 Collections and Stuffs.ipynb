{
 "cells": [
  {
   "cell_type": "code",
   "execution_count": null,
   "metadata": {},
   "outputs": [],
   "source": [
    "# backslash to ignore quotes, and other special characters\n",
    "print(\"I'm a \\\"string\\\"\")\n",
    "\n",
    "# triple single quotes to ignore special characters\n",
    "print('''I'm \\t\"string\"''')\n",
    "\n",
    "# triple single quotes also works across multiple lines\n",
    "print('''I'm a\n",
    "\"string\" too''')\n",
    "\n",
    "# end= can be used to end the string without creating a new line\n",
    "print(\"\\ntur\", end=\"\")\n",
    "print(\"duck\", end=\"\")\n",
    "print(\"en\", end=\"\\n\\n\")\n",
    "print(\"tur\", \"duck\", \"en\", sep=\"!\")\n",
    "\n",
    "# displays time, must import time library before use.\n",
    "# time.sleep calls sleep function within library time.\n",
    "import time\n",
    "print(\"\\ntur\", end=\"\")\n",
    "time.sleep(1)\n",
    "print(\"duck\", end=\"\")\n",
    "time.sleep(1)\n",
    "print(\"en\", end=\"\\n\\n\")\n",
    "time.sleep(1)\n",
    "print(\"tur\", \"duck\", \"en\", sep=\"!\")\n",
    "\n",
    "\n",
    "# \"shift + tab\" : show function signature\n",
    "\n",
    "# \\  = ignore next character\n",
    "# \\n = newline\n",
    "# \\t = tab\n",
    "# %s = string\n",
    "# %d = digit\n",
    "# %f = float"
   ]
  },
  {
   "cell_type": "code",
   "execution_count": null,
   "metadata": {
    "collapsed": true
   },
   "outputs": [],
   "source": [
    "currentweather = \"washingtonian\"\n",
    "currenttime = 1300\n",
    "currenthumidity = 7.458"
   ]
  },
  {
   "cell_type": "code",
   "execution_count": null,
   "metadata": {},
   "outputs": [],
   "source": [
    "print(\"Welcome to Bellingham! \\nThe current weather is %s, the current time is %d,\\nand the current humidity is %f\" % (currentweather, currenttime, currenthumidity))"
   ]
  },
  {
   "cell_type": "code",
   "execution_count": null,
   "metadata": {},
   "outputs": [],
   "source": [
    "# collections\n",
    "# [] list : are numarically indexed, starting with 0\n",
    "#              0        1         2         3         4\n",
    "mysteryInc=['Velma', 'Scooby', 'Daphne', 'Shaggy', 'Fred']\n",
    "print(mysteryInc)\n",
    "print(mysteryInc[2])\n",
    "# can specifiy ranges, endpoint will not be included\n",
    "print(mysteryInc[1:4])\n",
    "# get an element of a slice\n",
    "# scooby is position 0 of slice 1-3\n",
    "print(mysteryInc[1:4][0])\n"
   ]
  },
  {
   "cell_type": "code",
   "execution_count": null,
   "metadata": {},
   "outputs": [],
   "source": [
    "# () tuple : a collection that can contain varying data types, sized is fixed\n",
    "mysteryInc2=(mysteryInc, \"The Mystery Machine\", 9000, True)\n",
    "print(mysteryInc2)"
   ]
  },
  {
   "cell_type": "code",
   "execution_count": null,
   "metadata": {},
   "outputs": [],
   "source": [
    "import time\n",
    "print(time.localtime())"
   ]
  },
  {
   "cell_type": "code",
   "execution_count": null,
   "metadata": {},
   "outputs": [],
   "source": [
    "# () maps : a dicitonary or table in which keys and values can be customized\n",
    "favoriteFoods={'Fred': 'burger', 'Daphne': 'Lasagna', 'Scooby': 'literally everything'}\n",
    "print(favoriteFoods)"
   ]
  },
  {
   "cell_type": "code",
   "execution_count": null,
   "metadata": {},
   "outputs": [],
   "source": [
    "print(favoriteFoods['Scooby'])\n",
    "print('\\n')\n",
    "print(favoriteFoods['Fred'])"
   ]
  },
  {
   "cell_type": "code",
   "execution_count": null,
   "metadata": {
    "collapsed": true
   },
   "outputs": [],
   "source": []
  }
 ],
 "metadata": {
  "kernelspec": {
   "display_name": "Python 3",
   "language": "python",
   "name": "python3"
  },
  "language_info": {
   "codemirror_mode": {
    "name": "ipython",
    "version": 3
   },
   "file_extension": ".py",
   "mimetype": "text/x-python",
   "name": "python",
   "nbconvert_exporter": "python",
   "pygments_lexer": "ipython3",
   "version": "3.6.3"
  }
 },
 "nbformat": 4,
 "nbformat_minor": 2
}

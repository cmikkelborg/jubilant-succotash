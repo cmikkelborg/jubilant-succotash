{
 "cells": [
  {
   "cell_type": "code",
   "execution_count": 1,
   "metadata": {},
   "outputs": [
    {
     "name": "stdout",
     "output_type": "stream",
     "text": [
      "The result is 10\n"
     ]
    }
   ],
   "source": [
    "def ageabra(age):\n",
    "    return (age / 2) +7\n",
    "\n",
    "result = ageabra(6)\n",
    "print(\"The result is %d\" % result)\n",
    "    "
   ]
  },
  {
   "cell_type": "code",
   "execution_count": 2,
   "metadata": {},
   "outputs": [
    {
     "name": "stdout",
     "output_type": "stream",
     "text": [
      "['Kirk', 'Picard', 'Sisko', 'Janeway', 'Archer']\n"
     ]
    }
   ],
   "source": [
    "# Write a python statement that adds Archer to the list.\n",
    "captains=['Kirk','Picard','Sisko','Janeway']\n",
    "captains.append('Archer')\n",
    "print(captains)\n"
   ]
  },
  {
   "cell_type": "code",
   "execution_count": 3,
   "metadata": {},
   "outputs": [
    {
     "name": "stdout",
     "output_type": "stream",
     "text": [
      "The Captain knew that Spock was secretly in love.\n"
     ]
    }
   ],
   "source": [
    "names={'Kirk' : 'James',\n",
    "    'Jenkins' : 'Spock',\n",
    "    'McCoy' : 'Leonard',\n",
    "    'Scott' : 'Montgomery',\n",
    "    'Uhura' : 'Nyota',\n",
    "    'Checkov': 'Pavel'}\n",
    "\n",
    "print(\"The Captain knew that %s was secretly in love.\" % names['Jenkins'])"
   ]
  },
  {
   "cell_type": "code",
   "execution_count": 4,
   "metadata": {},
   "outputs": [
    {
     "name": "stdout",
     "output_type": "stream",
     "text": [
      "{'Kirk': 'James', 'McCoy': 'Leonard', 'Scott': 'Montgomery', 'Uhura': 'Nyota', 'Checkov': 'Pavel'}\n"
     ]
    }
   ],
   "source": [
    "names={'Kirk' : 'James',\n",
    "    'Jenkins' : 'Spock',\n",
    "    'McCoy' : 'Leonard',\n",
    "    'Scott' : 'Montgomery',\n",
    "    'Uhura' : 'Nyota',\n",
    "    'Checkov': 'Pavel'}\n",
    "\n",
    "del names['Jenkins']\n",
    "print(names)"
   ]
  },
  {
   "cell_type": "code",
   "execution_count": 5,
   "metadata": {},
   "outputs": [],
   "source": [
    "from ipyturtle import Turtle\n",
    "t = Turtle(fixed=False, width=320, height=320)\n",
    "\n",
    "def tauntaunbelly():\n",
    "    t.forward(60)\n",
    "    t.left(90)\n",
    "    t.forward(120)\n",
    "    t.left(90)\n",
    "    t.forward(120)\n",
    "    t.left(90)\n",
    "    t.forward(120)\n",
    "    t.left(90)\n",
    "    t.forward(60)\n",
    "    \n",
    "t.pendown()\n",
    "t\n",
    "\n",
    "tauntaunbelly()"
   ]
  },
  {
   "cell_type": "code",
   "execution_count": 6,
   "metadata": {},
   "outputs": [
    {
     "name": "stdout",
     "output_type": "stream",
     "text": [
      "B\n"
     ]
    }
   ],
   "source": [
    "score=88\n",
    "\n",
    "if score >= 90:\n",
    "    print (\"A\")\n",
    "elif score >= 80:\n",
    "    print (\"B\")\n",
    "elif score >= 70:  \n",
    "    print (\"C\")\n",
    "elif score >= 60:\n",
    "    print (\"D\")\n",
    "else:\n",
    "    print (\"Try again\")"
   ]
  },
  {
   "cell_type": "code",
   "execution_count": 7,
   "metadata": {},
   "outputs": [
    {
     "name": "stdout",
     "output_type": "stream",
     "text": [
      "1\n",
      "2\n",
      "3\n",
      "4\n",
      "5\n"
     ]
    }
   ],
   "source": [
    "counter = 1\n",
    "while counter <  6:\n",
    "    print (counter)\n",
    "    counter = counter + 1"
   ]
  },
  {
   "cell_type": "code",
   "execution_count": 8,
   "metadata": {},
   "outputs": [
    {
     "name": "stdout",
     "output_type": "stream",
     "text": [
      "I am sleeping in.\n"
     ]
    }
   ],
   "source": [
    "schoolStatus = \"on break\"\n",
    "workingStatus = \"Off\"\n",
    "\n",
    "if schoolStatus == \"on break\" and workingStatus != \"On\":\n",
    "    print (\"I am sleeping in.\")"
   ]
  },
  {
   "cell_type": "code",
   "execution_count": 9,
   "metadata": {},
   "outputs": [
    {
     "name": "stdout",
     "output_type": "stream",
     "text": [
      "I will skip lab day.\n"
     ]
    }
   ],
   "source": [
    "schoolStatus = \"on break\"\n",
    "homeworkStatus =\"caught up\"\n",
    "\n",
    "if schoolStatus == \"on break\" or homeworkStatus==\"caught up\":\n",
    "    print (\"I will skip lab day.\")"
   ]
  },
  {
   "cell_type": "code",
   "execution_count": 10,
   "metadata": {},
   "outputs": [
    {
     "name": "stdout",
     "output_type": "stream",
     "text": [
      "86 > 007\n"
     ]
    }
   ],
   "source": [
    "spyOne = \"86\"\n",
    "spyTwo = \"007\"\n",
    "if spyOne > spyTwo:\n",
    "    print (\"%s > %s\" % (spyOne,spyTwo))\n",
    "if spyOne < spyTwo:\n",
    "    print (\"%s < %s\" % (spyOne,spyTwo))"
   ]
  },
  {
   "cell_type": "code",
   "execution_count": 11,
   "metadata": {},
   "outputs": [
    {
     "name": "stdout",
     "output_type": "stream",
     "text": [
      "127 > 77\n"
     ]
    }
   ],
   "source": [
    "integerOne = 77\n",
    "integerTwo = 127\n",
    "\n",
    "if integerOne < integerTwo:\n",
    "    print (\"%s > %s\" % (integerTwo,integerOne))\n",
    "if integerOne > integerTwo:\n",
    "    print (\"%s < %s\" % (integerTwo,integerOne))"
   ]
  },
  {
   "cell_type": "code",
   "execution_count": 12,
   "metadata": {},
   "outputs": [
    {
     "name": "stdout",
     "output_type": "stream",
     "text": [
      "Tue\n",
      "Wed\n",
      "Thu\n"
     ]
    }
   ],
   "source": [
    "days=[\"Sun\",\"Mon\",\"Tue\",\"Wed\",\"Thu\",\"Fri\",\"Sat\"]\n",
    "for day in days[2:5]:\n",
    "    print(day)"
   ]
  },
  {
   "cell_type": "code",
   "execution_count": 13,
   "metadata": {},
   "outputs": [
    {
     "name": "stdout",
     "output_type": "stream",
     "text": [
      "Mon breakfast lunch dinner \n",
      "\n",
      "Tue breakfast lunch dinner \n",
      "\n",
      "Wed breakfast lunch dinner \n",
      "\n",
      "Thu breakfast lunch dinner \n",
      "\n",
      "Fri breakfast lunch dinner \n",
      "\n"
     ]
    }
   ],
   "source": [
    "days=[\"Sun\",\"Mon\",\"Tue\",\"Wed\",\"Thu\",\"Fri\",\"Sat\"]\n",
    "meals=[\"breakfast\",\"lunch\",\"dinner\"]\n",
    "\n",
    "for day in days[1:6]:\n",
    "    print(\"%s\" % day, end=\" \" )\n",
    "    for meal in meals:\n",
    "        print(\"%s\" % meal, end=\" \")\n",
    "    print(\"\\n\")"
   ]
  },
  {
   "cell_type": "code",
   "execution_count": 14,
   "metadata": {},
   "outputs": [
    {
     "name": "stdout",
     "output_type": "stream",
     "text": [
      "Do.  Or do not.  There is no try.\n",
      "Do.  Or do not.  There is no try.\n",
      "Do.  Or do not.  There is no try.\n",
      "Do.  Or do not.  There is no try.\n",
      "Do.  Or do not.  There is no try.\n",
      "Do.  Or do not.  There is no try.\n",
      "Do.  Or do not.  There is no try.\n"
     ]
    }
   ],
   "source": [
    "count = 7\n",
    "while count > 0:\n",
    "    print(\"Do.  Or do not.  There is no try.\")\n",
    "    count -= 1"
   ]
  },
  {
   "cell_type": "code",
   "execution_count": 15,
   "metadata": {},
   "outputs": [
    {
     "name": "stdout",
     "output_type": "stream",
     "text": [
      "10\n",
      "9\n",
      "8\n",
      "7\n",
      "6\n",
      "5\n",
      "4\n",
      "3\n",
      "2\n",
      "1\n",
      "0\n",
      "Blastoff! Blastoff! Blastoff! \n"
     ]
    }
   ],
   "source": [
    "import time\n",
    "counter = 21\n",
    "while counter/2 >= 0:\n",
    "    print (int(counter/2))\n",
    "    counter = counter - 2\n",
    "    time.sleep(1)\n",
    "print (\"Blastoff! \" * 3)"
   ]
  },
  {
   "cell_type": "code",
   "execution_count": 16,
   "metadata": {},
   "outputs": [
    {
     "name": "stdout",
     "output_type": "stream",
     "text": [
      "Adventure. Excitement. A Jedi craves not these things.\n"
     ]
    }
   ],
   "source": [
    "def yoda():\n",
    "    print(\"Adventure. Excitement. A Jedi craves not these things.\")\n",
    "    \n",
    "yoda()"
   ]
  },
  {
   "cell_type": "code",
   "execution_count": 17,
   "metadata": {},
   "outputs": [
    {
     "name": "stdout",
     "output_type": "stream",
     "text": [
      "The result is 10, my dear Watson\n"
     ]
    }
   ],
   "source": [
    "def adder(n1,n2,n3):    \n",
    "    return n1+n2+n3\n",
    "    \n",
    "result = adder(3, 2, 5)\n",
    "print(\"The result is %d, my dear Watson\" % result)"
   ]
  },
  {
   "cell_type": "code",
   "execution_count": 18,
   "metadata": {},
   "outputs": [
    {
     "name": "stdout",
     "output_type": "stream",
     "text": [
      "time bank balance is 100000.\n"
     ]
    }
   ],
   "source": [
    "class BankAccount:\n",
    "    def __init__(self,name,amount):\n",
    "        self.name = name\n",
    "        self.balance = amount\n",
    "\n",
    "    def withdraw(self, amount):\n",
    "        self.balance -= amount\n",
    "        return self.balance\n",
    "\n",
    "    def deposit(self, amount):\n",
    "        self.balance += amount\n",
    "        return self.balance\n",
    "\n",
    "\n",
    "    def statement(self):\n",
    "        print(\"%s balance is %s.\" % (self.name, self.balance))\n",
    "\n",
    "    def transfer(self, toAccount, amount):\n",
    "\n",
    "        self.balance = self.balance - amount\n",
    "        toAccount.balance = toAccount.balance + amount\n",
    "        \n",
    "bot=BankAccount(\"time bank\", 100000)\n",
    "bot.statement()"
   ]
  },
  {
   "cell_type": "code",
   "execution_count": 19,
   "metadata": {},
   "outputs": [
    {
     "data": {
      "text/plain": [
       "5500"
      ]
     },
     "execution_count": 19,
     "metadata": {},
     "output_type": "execute_result"
    }
   ],
   "source": [
    "class BankAccount:\n",
    "    def __init__(self,name,amount):\n",
    "        self.name = name\n",
    "        self.balance = amount\n",
    "\n",
    "    def withdraw(self, amount):\n",
    "        self.balance -= amount\n",
    "        return self.balance\n",
    "\n",
    "    def deposit(self, amount, confirm):\n",
    "        self.balance += amount\n",
    "\n",
    "        if confirm == \"Y\":\n",
    "            return self.balance\n",
    "\n",
    "\n",
    "    def statement(self):\n",
    "        print(\"%s balance is %s.\" % (self.name, self.balance))\n",
    "\n",
    "    def transfer(self, toAccount, amount):\n",
    "\n",
    "        self.balance = self.balance - amount\n",
    "        toAccount.balance = toAccount.balance + amount\n",
    "        \n",
    "p = BankAccount(\"time bank\", 5000)\n",
    "p.deposit(500, \"Y\")\n"
   ]
  },
  {
   "cell_type": "code",
   "execution_count": 23,
   "metadata": {},
   "outputs": [
    {
     "name": "stdout",
     "output_type": "stream",
     "text": [
      "$15 Overdraft Fee on Check# 13 to Chunk.\n",
      "time bank balance is 4985.\n"
     ]
    }
   ],
   "source": [
    "class BankAccount:\n",
    "    def __init__(self,name,amount):\n",
    "        self.name = name\n",
    "        self.balance = amount\n",
    "\n",
    "    def withdraw(self, amount):\n",
    "        self.balance -= amount\n",
    "        return self.balance\n",
    "\n",
    "    def deposit(self, amount, confirm):\n",
    "        self.balance += amount\n",
    "\n",
    "        if confirm == \"Y\":\n",
    "            return self.balance\n",
    "    \n",
    "    def chkfr(self, chk, rec):\n",
    "        self.balance -= 15\n",
    "        print(\"$15 Overdraft Fee on Check# %d to %s.\" % (chk, rec))\n",
    "        \n",
    "\n",
    "\n",
    "    def statement(self):\n",
    "        print(\"%s balance is %s.\" % (self.name, self.balance))\n",
    "\n",
    "    def transfer(self, toAccount, amount):\n",
    "\n",
    "        self.balance = self.balance - amount\n",
    "        toAccount.balance = toAccount.balance + amount\n",
    "        \n",
    "p = BankAccount(\"time bank\", 5000)\n",
    "p.chkfr(13, \"Chunk\")\n",
    "p.statement()"
   ]
  },
  {
   "cell_type": "code",
   "execution_count": 21,
   "metadata": {},
   "outputs": [
    {
     "name": "stderr",
     "output_type": "stream",
     "text": [
      "Traceback (most recent call last):\r\n",
      "  File \"<stdin>\", line 41, in <module>\r\n",
      "  File \"c:\\program files (x86)\\python37-32\\lib\\tkinter\\__init__.py\", line 3545, in __init__\r\n",
      "    Image.__init__(self, 'photo', name, cnf, master, **kw)\r\n",
      "  File \"c:\\program files (x86)\\python37-32\\lib\\tkinter\\__init__.py\", line 3501, in __init__\r\n",
      "    self.tk.call(('image', 'create', imgtype, name,) + options)\r\n",
      "_tkinter.TclError: couldn't open \"enterprise.gif\": no such file or directory\r\n"
     ]
    },
    {
     "ename": "CalledProcessError",
     "evalue": "Command 'b'# Preload game canvas\\n# Import Tk GUI interface module, tkinter\\nfrom tkinter import *\\n# Import time module to control animation speed\\nimport time\\n# Create a Tk window object\\ntk = Tk()\\n# Set the window title attribute\\ntk.title(\"StarGame\")\\n# Turn off window resizing\\ntk.resizable(0,0)\\n# Make the window stay on top\\ntk.wm_attributes(\"-topmost\",1)\\n# Create a Canvas object for the window where we can start drawing\\ncanvas = Canvas(tk, width=900, height=700, bd=0, bg=\"black\", highlightthickness=0)\\n# Resize the borders to the canvas size\\ncanvas.pack()\\n# Initialize for animation (?)\\ntk.update()\\n\\n# Create a Ship class\\nclass Ship:\\n    def __init__(self, canvas, myImage, xpos, ypos):\\n        self.canvas = canvas\\n        self.id = canvas.create_image(xpos, ypos, anchor=NW, image=myImage)\\n        \\n    # Define a method that flys East Northeast on the canvas        \\n    def fly_NE(self):\\n        self.canvas.move(self.id, 1, -1)\\n        \\n            \\n    def fly_E(self):\\n        self.canvas.move(self.id, 1, 0)\\n\\n    def firePhaser(self, xpos, ypos, angle):\\n        print(\"fire %s\" % angle)\\n        lineID=self.canvas.create_line(xpos, ypos, xpos+500, ypos+500, fill=\"red\", width=5)\\n        return lineID\\n        \\n# Create an Enterprise instance of the Ship class\\nEnterpriseImage = PhotoImage(file=\"enterprise.gif\")\\nEnterprise = Ship(canvas, EnterpriseImage, -1000, 10)\\n\\n# Create a Falcon instance of the Ship class\\nFalconImage = PhotoImage(file=\"falcon.gif\")\\nFalcon = Ship(canvas, FalconImage, 200, 600)\\n\\n# Start with phasers off\\nphaserCount = 0\\nexplosionCount = 0\\nscore=0\\n\\n#Loop to animate\\nwhile True:\\n    \\n    #move the Falcon a little bit\\n    Falcon.fly_NE()\\n    #If the ship left the screen move it back to the start\\n    pos = Falcon.canvas.coords(Falcon.id)\\n    if pos[0] > 900:\\n        Falcon.canvas.move(Falcon.id, -750, +750)\\n\\n    #Finish explosions if needed\\n    if explosionCount == 3:\\n        ExplosionImage = PhotoImage(file=\"explosion-med.gif\")\\n        Explosion = Ship(canvas, ExplosionImage, pos[0]-150, pos[1]-150)\\n        explosionCount -=1\\n    elif explosionCount == 2:\\n        ExplosionImage = PhotoImage(file=\"explosion-lg.gif\")\\n        Explosion = Ship(canvas, ExplosionImage, pos[0]-300, pos[1]-300)\\n        explosionCount -=1\\n    elif explosionCount == 1:\\n        print (\"in explosion count 1\")\\n        canvas.delete(Explosion.id)\\n        explosionCount -= 1\\n        #Add a score display\\n        score += 1\\n        scoreMsg = \"Score: \" + str(score)\\n        try:\\n            canvas.delete(textID)\\n        except:\\n            pass\\n        textID=canvas.create_text(100,600,text = scoreMsg,fill=\"white\",font=(\"Bauhaus 93\",24))\\n   \\n\\n    #move the Enterprise a little bit\\n    Enterprise.fly_E()\\n    \\n    #If the ship left the screen move it back to the start\\n    pos = Enterprise.canvas.coords(Enterprise.id)\\n    if pos[0] > 900:\\n        Enterprise.canvas.move(Enterprise.id, -1900, 0)\\n\\n\\n\\n    #Every 200 pixels fire phasers\\n    if pos[0]%200 == 0:\\n        phaserCount = 25\\n\\n    #Delete the last phaser if needed\\n    if pos[0]%200 > 0 and pos[0]%200 < 26:\\n        try:\\n            Enterprise.canvas.delete(lineID)\\n        except:\\n            pass\\n\\n    if phaserCount > 0:          \\n        lineID=Enterprise.firePhaser(pos[0]+774,pos[1]+183,\"SE\")\\n        phaserCount -= 1\\n\\n        #If there is a hit, animate an explosion\\n        #Determine phaser bank coordinates\\n        phaserBankXpos = pos[0]+774\\n        phaserBankYpos = pos[1]+183\\n        #Determine Falcon coordinates\\n        pos = Falcon.canvas.coords(Falcon.id)\\n        FalconCenterXpos = pos[0]+75\\n        FalconCenterYpos = pos[1]+50\\n        #Calculate the slope to see if it matches the phaser line of 1:1\\n        diffXpos = FalconCenterXpos - phaserBankXpos\\n        diffYpos = FalconCenterYpos - phaserBankYpos\\n        #Don\\'t divide by 0\\n        if diffYpos != 0:\\n            print (diffXpos)\\n            print (diffYpos)\\n            print (diffXpos/diffYpos)\\n            if diffXpos/diffYpos > 0.7 and diffXpos/diffYpos < 1.3:\\n                explosionCount = 3\\n                ExplosionImage = PhotoImage(file=\"explosion-sm.gif\")\\n                Explosion = Ship(canvas, ExplosionImage, pos[0], pos[1])\\n            \\n        \\n    \\n    \\n    #refresh the screen\\n    tk.update_idletasks()\\n    tk.update()\\n\\n    #wait a little bit to control animation speed\\n    time.sleep(0.01)\\n'' returned non-zero exit status 1.",
     "output_type": "error",
     "traceback": [
      "\u001b[1;31m---------------------------------------------------------------------------\u001b[0m",
      "\u001b[1;31mCalledProcessError\u001b[0m                        Traceback (most recent call last)",
      "\u001b[1;32m<ipython-input-21-7ff85af90df6>\u001b[0m in \u001b[0;36m<module>\u001b[1;34m\u001b[0m\n\u001b[1;32m----> 1\u001b[1;33m \u001b[0mget_ipython\u001b[0m\u001b[1;33m(\u001b[0m\u001b[1;33m)\u001b[0m\u001b[1;33m.\u001b[0m\u001b[0mrun_cell_magic\u001b[0m\u001b[1;33m(\u001b[0m\u001b[1;34m'python'\u001b[0m\u001b[1;33m,\u001b[0m \u001b[1;34m''\u001b[0m\u001b[1;33m,\u001b[0m \u001b[1;34m'# Preload game canvas\\n# Import Tk GUI interface module, tkinter\\nfrom tkinter import *\\n# Import time module to control animation speed\\nimport time\\n# Create a Tk window object\\ntk = Tk()\\n# Set the window title attribute\\ntk.title(\"StarGame\")\\n# Turn off window resizing\\ntk.resizable(0,0)\\n# Make the window stay on top\\ntk.wm_attributes(\"-topmost\",1)\\n# Create a Canvas object for the window where we can start drawing\\ncanvas = Canvas(tk, width=900, height=700, bd=0, bg=\"black\", highlightthickness=0)\\n# Resize the borders to the canvas size\\ncanvas.pack()\\n# Initialize for animation (?)\\ntk.update()\\n\\n# Create a Ship class\\nclass Ship:\\n    def __init__(self, canvas, myImage, xpos, ypos):\\n        self.canvas = canvas\\n        self.id = canvas.create_image(xpos, ypos, anchor=NW, image=myImage)\\n        \\n    # Define a method that flys East Northeast on the canvas        \\n    def fly_NE(self):\\n        self.canvas.move(self.id, 1, -1)\\n        \\n            \\n    def fly_E(self):\\n        self.canvas.move(self.id, 1, 0)\\n\\n    def firePhaser(self, xpos, ypos, angle):\\n        print(\"fire %s\" % angle)\\n        lineID=self.canvas.create_line(xpos, ypos, xpos+500, ypos+500, fill=\"red\", width=5)\\n        return lineID\\n        \\n# Create an Enterprise instance of the Ship class\\nEnterpriseImage = PhotoImage(file=\"enterprise.gif\")\\nEnterprise = Ship(canvas, EnterpriseImage, -1000, 10)\\n\\n# Create a Falcon instance of the Ship class\\nFalconImage = PhotoImage(file=\"falcon.gif\")\\nFalcon = Ship(canvas, FalconImage, 200, 600)\\n\\n# Start with phasers off\\nphaserCount = 0\\nexplosionCount = 0\\nscore=0\\n\\n#Loop to animate\\nwhile True:\\n    \\n    #move the Falcon a little bit\\n    Falcon.fly_NE()\\n    #If the ship left the screen move it back to the start\\n    pos = Falcon.canvas.coords(Falcon.id)\\n    if pos[0] > 900:\\n        Falcon.canvas.move(Falcon.id, -750, +750)\\n\\n    #Finish explosions if needed\\n    if explosionCount == 3:\\n        ExplosionImage = PhotoImage(file=\"explosion-med.gif\")\\n        Explosion = Ship(canvas, ExplosionImage, pos[0]-150, pos[1]-150)\\n        explosionCount -=1\\n    elif explosionCount == 2:\\n        ExplosionImage = PhotoImage(file=\"explosion-lg.gif\")\\n        Explosion = Ship(canvas, ExplosionImage, pos[0]-300, pos[1]-300)\\n        explosionCount -=1\\n    elif explosionCount == 1:\\n        print (\"in explosion count 1\")\\n        canvas.delete(Explosion.id)\\n        explosionCount -= 1\\n        #Add a score display\\n        score += 1\\n        scoreMsg = \"Score: \" + str(score)\\n        try:\\n            canvas.delete(textID)\\n        except:\\n            pass\\n        textID=canvas.create_text(100,600,text = scoreMsg,fill=\"white\",font=(\"Bauhaus 93\",24))\\n   \\n\\n    #move the Enterprise a little bit\\n    Enterprise.fly_E()\\n    \\n    #If the ship left the screen move it back to the start\\n    pos = Enterprise.canvas.coords(Enterprise.id)\\n    if pos[0] > 900:\\n        Enterprise.canvas.move(Enterprise.id, -1900, 0)\\n\\n\\n\\n    #Every 200 pixels fire phasers\\n    if pos[0]%200 == 0:\\n        phaserCount = 25\\n\\n    #Delete the last phaser if needed\\n    if pos[0]%200 > 0 and pos[0]%200 < 26:\\n        try:\\n            Enterprise.canvas.delete(lineID)\\n        except:\\n            pass\\n\\n    if phaserCount > 0:          \\n        lineID=Enterprise.firePhaser(pos[0]+774,pos[1]+183,\"SE\")\\n        phaserCount -= 1\\n\\n        #If there is a hit, animate an explosion\\n        #Determine phaser bank coordinates\\n        phaserBankXpos = pos[0]+774\\n        phaserBankYpos = pos[1]+183\\n        #Determine Falcon coordinates\\n        pos = Falcon.canvas.coords(Falcon.id)\\n        FalconCenterXpos = pos[0]+75\\n        FalconCenterYpos = pos[1]+50\\n        #Calculate the slope to see if it matches the phaser line of 1:1\\n        diffXpos = FalconCenterXpos - phaserBankXpos\\n        diffYpos = FalconCenterYpos - phaserBankYpos\\n        #Don\\'t divide by 0\\n        if diffYpos != 0:\\n            print (diffXpos)\\n            print (diffYpos)\\n            print (diffXpos/diffYpos)\\n            if diffXpos/diffYpos > 0.7 and diffXpos/diffYpos < 1.3:\\n                explosionCount = 3\\n                ExplosionImage = PhotoImage(file=\"explosion-sm.gif\")\\n                Explosion = Ship(canvas, ExplosionImage, pos[0], pos[1])\\n            \\n        \\n    \\n    \\n    #refresh the screen\\n    tk.update_idletasks()\\n    tk.update()\\n\\n    #wait a little bit to control animation speed\\n    time.sleep(0.01)\\n'\u001b[0m\u001b[1;33m)\u001b[0m\u001b[1;33m\u001b[0m\u001b[1;33m\u001b[0m\u001b[0m\n\u001b[0m",
      "\u001b[1;32mc:\\program files (x86)\\python37-32\\lib\\site-packages\\IPython\\core\\interactiveshell.py\u001b[0m in \u001b[0;36mrun_cell_magic\u001b[1;34m(self, magic_name, line, cell)\u001b[0m\n\u001b[0;32m   2321\u001b[0m             \u001b[0mmagic_arg_s\u001b[0m \u001b[1;33m=\u001b[0m \u001b[0mself\u001b[0m\u001b[1;33m.\u001b[0m\u001b[0mvar_expand\u001b[0m\u001b[1;33m(\u001b[0m\u001b[0mline\u001b[0m\u001b[1;33m,\u001b[0m \u001b[0mstack_depth\u001b[0m\u001b[1;33m)\u001b[0m\u001b[1;33m\u001b[0m\u001b[1;33m\u001b[0m\u001b[0m\n\u001b[0;32m   2322\u001b[0m             \u001b[1;32mwith\u001b[0m \u001b[0mself\u001b[0m\u001b[1;33m.\u001b[0m\u001b[0mbuiltin_trap\u001b[0m\u001b[1;33m:\u001b[0m\u001b[1;33m\u001b[0m\u001b[1;33m\u001b[0m\u001b[0m\n\u001b[1;32m-> 2323\u001b[1;33m                 \u001b[0mresult\u001b[0m \u001b[1;33m=\u001b[0m \u001b[0mfn\u001b[0m\u001b[1;33m(\u001b[0m\u001b[0mmagic_arg_s\u001b[0m\u001b[1;33m,\u001b[0m \u001b[0mcell\u001b[0m\u001b[1;33m)\u001b[0m\u001b[1;33m\u001b[0m\u001b[1;33m\u001b[0m\u001b[0m\n\u001b[0m\u001b[0;32m   2324\u001b[0m             \u001b[1;32mreturn\u001b[0m \u001b[0mresult\u001b[0m\u001b[1;33m\u001b[0m\u001b[1;33m\u001b[0m\u001b[0m\n\u001b[0;32m   2325\u001b[0m \u001b[1;33m\u001b[0m\u001b[0m\n",
      "\u001b[1;32mc:\\program files (x86)\\python37-32\\lib\\site-packages\\IPython\\core\\magics\\script.py\u001b[0m in \u001b[0;36mnamed_script_magic\u001b[1;34m(line, cell)\u001b[0m\n\u001b[0;32m    140\u001b[0m             \u001b[1;32melse\u001b[0m\u001b[1;33m:\u001b[0m\u001b[1;33m\u001b[0m\u001b[1;33m\u001b[0m\u001b[0m\n\u001b[0;32m    141\u001b[0m                 \u001b[0mline\u001b[0m \u001b[1;33m=\u001b[0m \u001b[0mscript\u001b[0m\u001b[1;33m\u001b[0m\u001b[1;33m\u001b[0m\u001b[0m\n\u001b[1;32m--> 142\u001b[1;33m             \u001b[1;32mreturn\u001b[0m \u001b[0mself\u001b[0m\u001b[1;33m.\u001b[0m\u001b[0mshebang\u001b[0m\u001b[1;33m(\u001b[0m\u001b[0mline\u001b[0m\u001b[1;33m,\u001b[0m \u001b[0mcell\u001b[0m\u001b[1;33m)\u001b[0m\u001b[1;33m\u001b[0m\u001b[1;33m\u001b[0m\u001b[0m\n\u001b[0m\u001b[0;32m    143\u001b[0m \u001b[1;33m\u001b[0m\u001b[0m\n\u001b[0;32m    144\u001b[0m         \u001b[1;31m# write a basic docstring:\u001b[0m\u001b[1;33m\u001b[0m\u001b[1;33m\u001b[0m\u001b[1;33m\u001b[0m\u001b[0m\n",
      "\u001b[1;32m<decorator-gen-110>\u001b[0m in \u001b[0;36mshebang\u001b[1;34m(self, line, cell)\u001b[0m\n",
      "\u001b[1;32mc:\\program files (x86)\\python37-32\\lib\\site-packages\\IPython\\core\\magic.py\u001b[0m in \u001b[0;36m<lambda>\u001b[1;34m(f, *a, **k)\u001b[0m\n\u001b[0;32m    185\u001b[0m     \u001b[1;31m# but it's overkill for just that one bit of state.\u001b[0m\u001b[1;33m\u001b[0m\u001b[1;33m\u001b[0m\u001b[1;33m\u001b[0m\u001b[0m\n\u001b[0;32m    186\u001b[0m     \u001b[1;32mdef\u001b[0m \u001b[0mmagic_deco\u001b[0m\u001b[1;33m(\u001b[0m\u001b[0marg\u001b[0m\u001b[1;33m)\u001b[0m\u001b[1;33m:\u001b[0m\u001b[1;33m\u001b[0m\u001b[1;33m\u001b[0m\u001b[0m\n\u001b[1;32m--> 187\u001b[1;33m         \u001b[0mcall\u001b[0m \u001b[1;33m=\u001b[0m \u001b[1;32mlambda\u001b[0m \u001b[0mf\u001b[0m\u001b[1;33m,\u001b[0m \u001b[1;33m*\u001b[0m\u001b[0ma\u001b[0m\u001b[1;33m,\u001b[0m \u001b[1;33m**\u001b[0m\u001b[0mk\u001b[0m\u001b[1;33m:\u001b[0m \u001b[0mf\u001b[0m\u001b[1;33m(\u001b[0m\u001b[1;33m*\u001b[0m\u001b[0ma\u001b[0m\u001b[1;33m,\u001b[0m \u001b[1;33m**\u001b[0m\u001b[0mk\u001b[0m\u001b[1;33m)\u001b[0m\u001b[1;33m\u001b[0m\u001b[1;33m\u001b[0m\u001b[0m\n\u001b[0m\u001b[0;32m    188\u001b[0m \u001b[1;33m\u001b[0m\u001b[0m\n\u001b[0;32m    189\u001b[0m         \u001b[1;32mif\u001b[0m \u001b[0mcallable\u001b[0m\u001b[1;33m(\u001b[0m\u001b[0marg\u001b[0m\u001b[1;33m)\u001b[0m\u001b[1;33m:\u001b[0m\u001b[1;33m\u001b[0m\u001b[1;33m\u001b[0m\u001b[0m\n",
      "\u001b[1;32mc:\\program files (x86)\\python37-32\\lib\\site-packages\\IPython\\core\\magics\\script.py\u001b[0m in \u001b[0;36mshebang\u001b[1;34m(self, line, cell)\u001b[0m\n\u001b[0;32m    243\u001b[0m             \u001b[0msys\u001b[0m\u001b[1;33m.\u001b[0m\u001b[0mstderr\u001b[0m\u001b[1;33m.\u001b[0m\u001b[0mflush\u001b[0m\u001b[1;33m(\u001b[0m\u001b[1;33m)\u001b[0m\u001b[1;33m\u001b[0m\u001b[1;33m\u001b[0m\u001b[0m\n\u001b[0;32m    244\u001b[0m         \u001b[1;32mif\u001b[0m \u001b[0margs\u001b[0m\u001b[1;33m.\u001b[0m\u001b[0mraise_error\u001b[0m \u001b[1;32mand\u001b[0m \u001b[0mp\u001b[0m\u001b[1;33m.\u001b[0m\u001b[0mreturncode\u001b[0m\u001b[1;33m!=\u001b[0m\u001b[1;36m0\u001b[0m\u001b[1;33m:\u001b[0m\u001b[1;33m\u001b[0m\u001b[1;33m\u001b[0m\u001b[0m\n\u001b[1;32m--> 245\u001b[1;33m             \u001b[1;32mraise\u001b[0m \u001b[0mCalledProcessError\u001b[0m\u001b[1;33m(\u001b[0m\u001b[0mp\u001b[0m\u001b[1;33m.\u001b[0m\u001b[0mreturncode\u001b[0m\u001b[1;33m,\u001b[0m \u001b[0mcell\u001b[0m\u001b[1;33m,\u001b[0m \u001b[0moutput\u001b[0m\u001b[1;33m=\u001b[0m\u001b[0mout\u001b[0m\u001b[1;33m,\u001b[0m \u001b[0mstderr\u001b[0m\u001b[1;33m=\u001b[0m\u001b[0merr\u001b[0m\u001b[1;33m)\u001b[0m\u001b[1;33m\u001b[0m\u001b[1;33m\u001b[0m\u001b[0m\n\u001b[0m\u001b[0;32m    246\u001b[0m \u001b[1;33m\u001b[0m\u001b[0m\n\u001b[0;32m    247\u001b[0m     \u001b[1;32mdef\u001b[0m \u001b[0m_run_script\u001b[0m\u001b[1;33m(\u001b[0m\u001b[0mself\u001b[0m\u001b[1;33m,\u001b[0m \u001b[0mp\u001b[0m\u001b[1;33m,\u001b[0m \u001b[0mcell\u001b[0m\u001b[1;33m,\u001b[0m \u001b[0mto_close\u001b[0m\u001b[1;33m)\u001b[0m\u001b[1;33m:\u001b[0m\u001b[1;33m\u001b[0m\u001b[1;33m\u001b[0m\u001b[0m\n",
      "\u001b[1;31mCalledProcessError\u001b[0m: Command 'b'# Preload game canvas\\n# Import Tk GUI interface module, tkinter\\nfrom tkinter import *\\n# Import time module to control animation speed\\nimport time\\n# Create a Tk window object\\ntk = Tk()\\n# Set the window title attribute\\ntk.title(\"StarGame\")\\n# Turn off window resizing\\ntk.resizable(0,0)\\n# Make the window stay on top\\ntk.wm_attributes(\"-topmost\",1)\\n# Create a Canvas object for the window where we can start drawing\\ncanvas = Canvas(tk, width=900, height=700, bd=0, bg=\"black\", highlightthickness=0)\\n# Resize the borders to the canvas size\\ncanvas.pack()\\n# Initialize for animation (?)\\ntk.update()\\n\\n# Create a Ship class\\nclass Ship:\\n    def __init__(self, canvas, myImage, xpos, ypos):\\n        self.canvas = canvas\\n        self.id = canvas.create_image(xpos, ypos, anchor=NW, image=myImage)\\n        \\n    # Define a method that flys East Northeast on the canvas        \\n    def fly_NE(self):\\n        self.canvas.move(self.id, 1, -1)\\n        \\n            \\n    def fly_E(self):\\n        self.canvas.move(self.id, 1, 0)\\n\\n    def firePhaser(self, xpos, ypos, angle):\\n        print(\"fire %s\" % angle)\\n        lineID=self.canvas.create_line(xpos, ypos, xpos+500, ypos+500, fill=\"red\", width=5)\\n        return lineID\\n        \\n# Create an Enterprise instance of the Ship class\\nEnterpriseImage = PhotoImage(file=\"enterprise.gif\")\\nEnterprise = Ship(canvas, EnterpriseImage, -1000, 10)\\n\\n# Create a Falcon instance of the Ship class\\nFalconImage = PhotoImage(file=\"falcon.gif\")\\nFalcon = Ship(canvas, FalconImage, 200, 600)\\n\\n# Start with phasers off\\nphaserCount = 0\\nexplosionCount = 0\\nscore=0\\n\\n#Loop to animate\\nwhile True:\\n    \\n    #move the Falcon a little bit\\n    Falcon.fly_NE()\\n    #If the ship left the screen move it back to the start\\n    pos = Falcon.canvas.coords(Falcon.id)\\n    if pos[0] > 900:\\n        Falcon.canvas.move(Falcon.id, -750, +750)\\n\\n    #Finish explosions if needed\\n    if explosionCount == 3:\\n        ExplosionImage = PhotoImage(file=\"explosion-med.gif\")\\n        Explosion = Ship(canvas, ExplosionImage, pos[0]-150, pos[1]-150)\\n        explosionCount -=1\\n    elif explosionCount == 2:\\n        ExplosionImage = PhotoImage(file=\"explosion-lg.gif\")\\n        Explosion = Ship(canvas, ExplosionImage, pos[0]-300, pos[1]-300)\\n        explosionCount -=1\\n    elif explosionCount == 1:\\n        print (\"in explosion count 1\")\\n        canvas.delete(Explosion.id)\\n        explosionCount -= 1\\n        #Add a score display\\n        score += 1\\n        scoreMsg = \"Score: \" + str(score)\\n        try:\\n            canvas.delete(textID)\\n        except:\\n            pass\\n        textID=canvas.create_text(100,600,text = scoreMsg,fill=\"white\",font=(\"Bauhaus 93\",24))\\n   \\n\\n    #move the Enterprise a little bit\\n    Enterprise.fly_E()\\n    \\n    #If the ship left the screen move it back to the start\\n    pos = Enterprise.canvas.coords(Enterprise.id)\\n    if pos[0] > 900:\\n        Enterprise.canvas.move(Enterprise.id, -1900, 0)\\n\\n\\n\\n    #Every 200 pixels fire phasers\\n    if pos[0]%200 == 0:\\n        phaserCount = 25\\n\\n    #Delete the last phaser if needed\\n    if pos[0]%200 > 0 and pos[0]%200 < 26:\\n        try:\\n            Enterprise.canvas.delete(lineID)\\n        except:\\n            pass\\n\\n    if phaserCount > 0:          \\n        lineID=Enterprise.firePhaser(pos[0]+774,pos[1]+183,\"SE\")\\n        phaserCount -= 1\\n\\n        #If there is a hit, animate an explosion\\n        #Determine phaser bank coordinates\\n        phaserBankXpos = pos[0]+774\\n        phaserBankYpos = pos[1]+183\\n        #Determine Falcon coordinates\\n        pos = Falcon.canvas.coords(Falcon.id)\\n        FalconCenterXpos = pos[0]+75\\n        FalconCenterYpos = pos[1]+50\\n        #Calculate the slope to see if it matches the phaser line of 1:1\\n        diffXpos = FalconCenterXpos - phaserBankXpos\\n        diffYpos = FalconCenterYpos - phaserBankYpos\\n        #Don\\'t divide by 0\\n        if diffYpos != 0:\\n            print (diffXpos)\\n            print (diffYpos)\\n            print (diffXpos/diffYpos)\\n            if diffXpos/diffYpos > 0.7 and diffXpos/diffYpos < 1.3:\\n                explosionCount = 3\\n                ExplosionImage = PhotoImage(file=\"explosion-sm.gif\")\\n                Explosion = Ship(canvas, ExplosionImage, pos[0], pos[1])\\n            \\n        \\n    \\n    \\n    #refresh the screen\\n    tk.update_idletasks()\\n    tk.update()\\n\\n    #wait a little bit to control animation speed\\n    time.sleep(0.01)\\n'' returned non-zero exit status 1."
     ]
    }
   ],
   "source": [
    "%%python\n",
    "# Preload game canvas\n",
    "# Import Tk GUI interface module, tkinter\n",
    "from tkinter import *\n",
    "# Import time module to control animation speed\n",
    "import time\n",
    "# Create a Tk window object\n",
    "tk = Tk()\n",
    "# Set the window title attribute\n",
    "tk.title(\"StarGame\")\n",
    "# Turn off window resizing\n",
    "tk.resizable(0,0)\n",
    "# Make the window stay on top\n",
    "tk.wm_attributes(\"-topmost\",1)\n",
    "# Create a Canvas object for the window where we can start drawing\n",
    "canvas = Canvas(tk, width=900, height=700, bd=0, bg=\"black\", highlightthickness=0)\n",
    "# Resize the borders to the canvas size\n",
    "canvas.pack()\n",
    "# Initialize for animation (?)\n",
    "tk.update()\n",
    "\n",
    "# Create a Ship class\n",
    "class Ship:\n",
    "    def __init__(self, canvas, myImage, xpos, ypos):\n",
    "        self.canvas = canvas\n",
    "        self.id = canvas.create_image(xpos, ypos, anchor=NW, image=myImage)\n",
    "        \n",
    "    # Define a method that flys East Northeast on the canvas        \n",
    "    def fly_NE(self):\n",
    "        self.canvas.move(self.id, 1, -1)\n",
    "        \n",
    "            \n",
    "    def fly_E(self):\n",
    "        self.canvas.move(self.id, 1, 0)\n",
    "\n",
    "    def firePhaser(self, xpos, ypos, angle):\n",
    "        print(\"fire %s\" % angle)\n",
    "        lineID=self.canvas.create_line(xpos, ypos, xpos+500, ypos+500, fill=\"red\", width=5)\n",
    "        return lineID\n",
    "        \n",
    "# Create an Enterprise instance of the Ship class\n",
    "EnterpriseImage = PhotoImage(file=\"enterprise.gif\")\n",
    "Enterprise = Ship(canvas, EnterpriseImage, -1000, 10)\n",
    "\n",
    "# Create a Falcon instance of the Ship class\n",
    "FalconImage = PhotoImage(file=\"falcon.gif\")\n",
    "Falcon = Ship(canvas, FalconImage, 200, 600)\n",
    "\n",
    "# Start with phasers off\n",
    "phaserCount = 0\n",
    "explosionCount = 0\n",
    "score=0\n",
    "\n",
    "#Loop to animate\n",
    "while True:\n",
    "    \n",
    "    #move the Falcon a little bit\n",
    "    Falcon.fly_NE()\n",
    "    #If the ship left the screen move it back to the start\n",
    "    pos = Falcon.canvas.coords(Falcon.id)\n",
    "    if pos[0] > 900:\n",
    "        Falcon.canvas.move(Falcon.id, -750, +750)\n",
    "\n",
    "    #Finish explosions if needed\n",
    "    if explosionCount == 3:\n",
    "        ExplosionImage = PhotoImage(file=\"explosion-med.gif\")\n",
    "        Explosion = Ship(canvas, ExplosionImage, pos[0]-150, pos[1]-150)\n",
    "        explosionCount -=1\n",
    "    elif explosionCount == 2:\n",
    "        ExplosionImage = PhotoImage(file=\"explosion-lg.gif\")\n",
    "        Explosion = Ship(canvas, ExplosionImage, pos[0]-300, pos[1]-300)\n",
    "        explosionCount -=1\n",
    "    elif explosionCount == 1:\n",
    "        print (\"in explosion count 1\")\n",
    "        canvas.delete(Explosion.id)\n",
    "        explosionCount -= 1\n",
    "        #Add a score display\n",
    "        score += 1\n",
    "        scoreMsg = \"Score: \" + str(score)\n",
    "        try:\n",
    "            canvas.delete(textID)\n",
    "        except:\n",
    "            pass\n",
    "        textID=canvas.create_text(100,600,text = scoreMsg,fill=\"white\",font=(\"Bauhaus 93\",24))\n",
    "   \n",
    "\n",
    "    #move the Enterprise a little bit\n",
    "    Enterprise.fly_E()\n",
    "    \n",
    "    #If the ship left the screen move it back to the start\n",
    "    pos = Enterprise.canvas.coords(Enterprise.id)\n",
    "    if pos[0] > 900:\n",
    "        Enterprise.canvas.move(Enterprise.id, -1900, 0)\n",
    "\n",
    "\n",
    "\n",
    "    #Every 200 pixels fire phasers\n",
    "    if pos[0]%200 == 0:\n",
    "        phaserCount = 25\n",
    "\n",
    "    #Delete the last phaser if needed\n",
    "    if pos[0]%200 > 0 and pos[0]%200 < 26:\n",
    "        try:\n",
    "            Enterprise.canvas.delete(lineID)\n",
    "        except:\n",
    "            pass\n",
    "\n",
    "    if phaserCount > 0:          \n",
    "        lineID=Enterprise.firePhaser(pos[0]+774,pos[1]+183,\"SE\")\n",
    "        phaserCount -= 1\n",
    "\n",
    "        #If there is a hit, animate an explosion\n",
    "        #Determine phaser bank coordinates\n",
    "        phaserBankXpos = pos[0]+774\n",
    "        phaserBankYpos = pos[1]+183\n",
    "        #Determine Falcon coordinates\n",
    "        pos = Falcon.canvas.coords(Falcon.id)\n",
    "        FalconCenterXpos = pos[0]+75\n",
    "        FalconCenterYpos = pos[1]+50\n",
    "        #Calculate the slope to see if it matches the phaser line of 1:1\n",
    "        diffXpos = FalconCenterXpos - phaserBankXpos\n",
    "        diffYpos = FalconCenterYpos - phaserBankYpos\n",
    "        #Don't divide by 0\n",
    "        if diffYpos != 0:\n",
    "            print (diffXpos)\n",
    "            print (diffYpos)\n",
    "            print (diffXpos/diffYpos)\n",
    "            if diffXpos/diffYpos > 0.7 and diffXpos/diffYpos < 1.3:\n",
    "                explosionCount = 3\n",
    "                ExplosionImage = PhotoImage(file=\"explosion-sm.gif\")\n",
    "                Explosion = Ship(canvas, ExplosionImage, pos[0], pos[1])\n",
    "            \n",
    "        \n",
    "    \n",
    "    \n",
    "    #refresh the screen\n",
    "    tk.update_idletasks()\n",
    "    tk.update()\n",
    "\n",
    "    #wait a little bit to control animation speed\n",
    "    time.sleep(0.01)"
   ]
  },
  {
   "cell_type": "code",
   "execution_count": null,
   "metadata": {},
   "outputs": [],
   "source": [
    "put = input(print(\"Which idea would you like? (A)(B)(C)\"))\n",
    "\n",
    "if put == \"A\":\n",
    "    print(\"Sleep.\")\n",
    "if put == \"B\":\n",
    "    print(\"Go to the beach!\")\n",
    "if put == \"C\":\n",
    "    print(\"do a Star Wars marathon.\")"
   ]
  },
  {
   "cell_type": "code",
   "execution_count": null,
   "metadata": {},
   "outputs": [],
   "source": []
  },
  {
   "cell_type": "code",
   "execution_count": null,
   "metadata": {},
   "outputs": [],
   "source": []
  }
 ],
 "metadata": {
  "kernelspec": {
   "display_name": "Python 3",
   "language": "python",
   "name": "python3"
  },
  "language_info": {
   "codemirror_mode": {
    "name": "ipython",
    "version": 3
   },
   "file_extension": ".py",
   "mimetype": "text/x-python",
   "name": "python",
   "nbconvert_exporter": "python",
   "pygments_lexer": "ipython3",
   "version": "3.7.2"
  }
 },
 "nbformat": 4,
 "nbformat_minor": 2
}

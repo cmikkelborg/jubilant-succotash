{
 "cells": [
  {
   "cell_type": "code",
   "execution_count": null,
   "metadata": {},
   "outputs": [],
   "source": [
    "# IF statements\n",
    "#\n",
    "# < -  less than\n",
    "# <= - less than or equal\n",
    "# > -  greater than\n",
    "# >= - greater than or equal\n",
    "# == - are equal true/false\n",
    "# != - not equal\n",
    "# \n",
    "# not - changes True to False and vice-a-versa\n",
    "# and - will return True only if both sides are True\n",
    "# or  - will return True as long as at least one side is True\n",
    "#\n",
    "#\n",
    "zombies_present = False\n",
    "zombie_count = 0\n",
    "available_weapons = [\"butterknife\", \"fork\", \"spoon\", \"165hp Husquavarna chainsaw freshly sharpened\"]\n",
    "affirmations = [\"Yes\", \"yes\", \"yeah\", \"sure\", \"ubetcha\", \"thinkso\"]\n",
    "\n",
    "\n",
    "# Scout Report\n",
    "zombies_present_str = input(\"Are there zombonies?\")\n",
    "zombies_present = zombies_present_str in affirmations\n",
    "if zombies_present:\n",
    "    print(\"Oh no!\\n\")\n",
    "    zombie_count = int(input(\"How many?\"))\n",
    "#if zombies_present:\n",
    "#    print(\"Zoinks! Zombonies! \\n\")\n",
    "#    zombie_count = input(\"How many?\")\n",
    "    \n",
    "# Formulate a plan\n",
    "if not zombies_present:\n",
    "    print(\"Whew! Let's work on the base\")\n",
    "else:\n",
    "    if zombie_count < 500 and len(available_weapons) > 0:\n",
    "        print(\"Alright, let us battle with our mighty %s!\" % available_weapons[0])\n",
    "        del available_weapons[0]\n",
    "    elif zombie_count < 1000 and len(available_weapons) > 1:\n",
    "        print(\"Hark, let us battle with our mighty %s and %s!\" % (available_weapons[0],available_weapons[1]))\n",
    "        del available_weapons[0]\n",
    "        del available_weapons[0]\n",
    "    elif zombie_count < 5000 and len(available_weapons) > 2:\n",
    "        print(\"Avast, let us sharpen our mighty %s, %s, and %s with the flesh of the zombies!\" % (available_weapons[0],available_weapons[1],available_weapons[2]))\n",
    "        del available_weapons[0]\n",
    "        del available_weapons[0]\n",
    "        del available_weapons[0]\n",
    "    elif zombie_count < 8000 and len(available_weapons) > 3:\n",
    "        print(\"By Odin's beard, let us cut them down with our mighty %s, %s, %s, and our thirsty %s!\" % (available_weapons[0],available_weapons[1],available_weapons[2],available_weapons[3]))\n",
    "        del available_weapons[0]\n",
    "        del available_weapons[0]\n",
    "        del available_weapons[0]\n",
    "        del available_weapons[0]\n",
    "    else:\n",
    "        print(\"Ruuuuuuuuuuuuuuuuuuuuu%suuuuuuuuuuuuu\\n\" % \"uuuuuuuuuuuuuuuuuuuuuuu\")\n",
    "\n",
    "if not len(available_weapons):\n",
    "    print(\"We are soooooo screwed Scoob. Zoinks!\")\n",
    "else:\n",
    "    print(\"Alright, inventory check. We have %d weapons left.\" % len(available_weapons))\n",
    "    "
   ]
  },
  {
   "cell_type": "code",
   "execution_count": null,
   "metadata": {
    "collapsed": true
   },
   "outputs": [],
   "source": []
  },
  {
   "cell_type": "code",
   "execution_count": null,
   "metadata": {
    "collapsed": true
   },
   "outputs": [],
   "source": []
  },
  {
   "cell_type": "code",
   "execution_count": null,
   "metadata": {
    "collapsed": true
   },
   "outputs": [],
   "source": []
  }
 ],
 "metadata": {
  "kernelspec": {
   "display_name": "Python 3",
   "language": "python",
   "name": "python3"
  },
  "language_info": {
   "codemirror_mode": {
    "name": "ipython",
    "version": 3
   },
   "file_extension": ".py",
   "mimetype": "text/x-python",
   "name": "python",
   "nbconvert_exporter": "python",
   "pygments_lexer": "ipython3",
   "version": "3.6.3"
  }
 },
 "nbformat": 4,
 "nbformat_minor": 2
}

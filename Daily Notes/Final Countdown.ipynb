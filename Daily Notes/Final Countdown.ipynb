{
 "cells": [
  {
   "cell_type": "code",
   "execution_count": null,
   "metadata": {},
   "outputs": [],
   "source": [
    "def myHopesAndDreams():\n",
    "    print(\"After this quarter I want to %s\" % \"go into a medically induced coma\")\n",
    "\n",
    "myHopesAndDreams()"
   ]
  },
  {
   "cell_type": "code",
   "execution_count": null,
   "metadata": {},
   "outputs": [],
   "source": [
    "def mult(n1, n2):\n",
    "    print(\"%d x %d = %d\" % (n1, n2, n1*n2))\n",
    "    \n",
    "mult(6, 20)"
   ]
  },
  {
   "cell_type": "code",
   "execution_count": null,
   "metadata": {},
   "outputs": [],
   "source": [
    "def mult(n1, n2):\n",
    "    return n1*n2\n",
    "    \n",
    "result = mult(6, 20)\n",
    "print(\"The result is %d, my dear Watson\" % result)"
   ]
  },
  {
   "cell_type": "code",
   "execution_count": null,
   "metadata": {},
   "outputs": [],
   "source": [
    "class BankAccount:\n",
    "    def __init__(self,name,amount):\n",
    "        self.name = name\n",
    "        self.balance = amount\n",
    "\n",
    "    def withdraw(self, amount):\n",
    "        self.balance -= amount\n",
    "        return self.balance\n",
    "\n",
    "    def deposit(self, amount):\n",
    "        self.balance += amount\n",
    "        return self.balance\n",
    "\n",
    "    def statement(self):\n",
    "        print(\"%s balance is %s.\" % (self.name, self.balance))\n",
    "\n",
    "    def transfer(self, toAccount, amount):\n",
    "        self.balance = self.balance - amount\n",
    "        toAccount.balance = toAccount.balance + amount\n",
    "        \n",
    "    def referral(self):\n",
    "        self.balance += 10\n",
    "        print(\"Thanks for the referral, your balance is now %d\" % self.balance)\n",
    "\n",
    "# This is how we construct a bank account\n",
    "bankOfMoney = BankAccount('BoM', 1337)\n",
    "\n",
    "# __init__ is called every time a bank account is constructed\n",
    "\n",
    "# print a statement using the class method \"statement\"\n",
    "bankOfMoney.statement()\n",
    "\n",
    "# get a referral bonus\n",
    "bankOfMoney.referral()"
   ]
  },
  {
   "cell_type": "code",
   "execution_count": null,
   "metadata": {},
   "outputs": [],
   "source": [
    "5) A\n",
    "-x = left, +x = right\n",
    "-y = up, +y = down"
   ]
  },
  {
   "cell_type": "code",
   "execution_count": null,
   "metadata": {},
   "outputs": [],
   "source": [
    "from tkinter import *\n",
    "import time\n",
    "\n",
    "tk = Tk()\n",
    "tk.title(\"StarGame\")\n",
    "tk.resizable(0,0)\n",
    "tk.wm_attributes(\"-topmost\",1)\n",
    "canvas = Canvas(tk, width=900, height=700, bd=0, bg=\"hot pink\", highlightthickness=0)\n",
    "canvas.pack()\n",
    "tk.update()\n",
    "\n",
    "class Ship:\n",
    "    def __init__(self, canvas, myImage, xpos, ypos):\n",
    "        self.canvas = canvas\n",
    "        self.id = canvas.create_image(xpos, ypos, anchor=NW, image=myImage) \n",
    "\n",
    "    def fly_NE(self, factor):\n",
    "        self.canvas.move(self.id, factor, -1*factor)\n",
    "\n",
    "myImage = PhotoImage(file=\"assets/falcon.gif\")\n",
    "Falcon = Ship(canvas, myImage, 200, 600)\n",
    "\n",
    "warp_factor = 1\n",
    "while True:\n",
    "    Falcon.fly_NE(warp_factor)\n",
    "    tk.update_idletasks()\n",
    "    tk.update()\n",
    "    # to make the game go 2x as fast, sleep for half as long\n",
    "    time.sleep(0.005)\n",
    "    warp_factor *= 1.02"
   ]
  }
 ],
 "metadata": {
  "kernelspec": {
   "display_name": "Python 3",
   "language": "python",
   "name": "python3"
  },
  "language_info": {
   "codemirror_mode": {
    "name": "ipython",
    "version": 3
   },
   "file_extension": ".py",
   "mimetype": "text/x-python",
   "name": "python",
   "nbconvert_exporter": "python",
   "pygments_lexer": "ipython3",
   "version": "3.7.2"
  }
 },
 "nbformat": 4,
 "nbformat_minor": 2
}

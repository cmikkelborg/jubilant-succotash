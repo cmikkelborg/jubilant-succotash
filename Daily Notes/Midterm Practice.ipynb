{
 "cells": [
  {
   "cell_type": "code",
   "execution_count": null,
   "metadata": {
    "collapsed": true
   },
   "outputs": [],
   "source": [
    "#1) What is 3 + 5 * 2 - 6?\n",
    "\n"
   ]
  },
  {
   "cell_type": "code",
   "execution_count": null,
   "metadata": {
    "collapsed": true
   },
   "outputs": [],
   "source": [
    "#2) Write a python program that multiplies 3 * 5 and prints the result. (Can be done in 1 line.)\n",
    "\n"
   ]
  },
  {
   "cell_type": "code",
   "execution_count": 1,
   "metadata": {},
   "outputs": [
    {
     "name": "stdout",
     "output_type": "stream",
     "text": [
      "1337\n"
     ]
    }
   ],
   "source": [
    "#3) Write a python program that assigns a number to a variable and prints the variable. \n",
    "# (Can be done in 2 lines.)\n",
    "\n"
   ]
  },
  {
   "cell_type": "code",
   "execution_count": 3,
   "metadata": {},
   "outputs": [
    {
     "name": "stdout",
     "output_type": "stream",
     "text": [
      "What is Beethoven doing now?\n",
      "...\n",
      "...\n",
      "DE-composing.\n"
     ]
    }
   ],
   "source": [
    "#4) The following python program generates a syntax error.\n",
    "\n",
    "# print(\"What is Beethoven doing now?\n",
    "#...\n",
    "#...\n",
    "#DE-composing.\")\n",
    "\n",
    "print(\"What is Beethoven doing now?\n",
    "...\n",
    "...\n",
    "DE-composing.\")"
   ]
  },
  {
   "cell_type": "code",
   "execution_count": 5,
   "metadata": {},
   "outputs": [
    {
     "name": "stdout",
     "output_type": "stream",
     "text": [
      "John said, \"I'd tell you a UDP joke but you might not get it.\"\n"
     ]
    }
   ],
   "source": [
    "#5) Write a python print statement that prints the following \n",
    "# including the quotes and apostrophes:\n",
    "# John said, \"I\\'d tell you a UDP joke but you might not get it.\"\n",
    "\n"
   ]
  },
  {
   "cell_type": "code",
   "execution_count": 6,
   "metadata": {},
   "outputs": [
    {
     "name": "stdout",
     "output_type": "stream",
     "text": [
      "Picard\n"
     ]
    }
   ],
   "source": [
    "#6) Given the following list:\n",
    "# captains=['Kirk','Picard','Janeway','Archer']\n",
    "# Write a python print statement that uses the list to print Picard.\n",
    "\n",
    "captains=['Kirk','Picard','Janeway','Archer']\n",
    "\n"
   ]
  },
  {
   "cell_type": "code",
   "execution_count": 7,
   "metadata": {},
   "outputs": [
    {
     "name": "stdout",
     "output_type": "stream",
     "text": [
      "['Kirk', 'Picard', 'Janeway', 'Archer', 'Pike']\n"
     ]
    }
   ],
   "source": [
    "#7) Given the following list:\n",
    "# captains=['Kirk','Picard','Janeway','Archer']\n",
    "# Write a python print statement that adds Pike to the list.\n",
    "\n",
    "captains=['Kirk','Picard','Janeway','Archer']\n",
    "\n",
    "print(captains)"
   ]
  },
  {
   "cell_type": "code",
   "execution_count": 8,
   "metadata": {},
   "outputs": [
    {
     "name": "stdout",
     "output_type": "stream",
     "text": [
      "['Kirk', 'Picard', 'Janeway', 'Archer']\n"
     ]
    }
   ],
   "source": [
    "#8) Given the following list:\n",
    "# captains=['Kirk','Picard','Riker','Janeway','Archer']\n",
    "# Write a python print statement that removes Riker from the list.\n",
    "\n",
    "captains=['Kirk','Picard','Riker','Janeway','Archer']\n",
    "\n",
    "print(captains)"
   ]
  },
  {
   "cell_type": "code",
   "execution_count": 12,
   "metadata": {},
   "outputs": [
    {
     "name": "stdout",
     "output_type": "stream",
     "text": [
      "The engineer's first name is Montgomery\n"
     ]
    }
   ],
   "source": [
    "#9) Given the following map:\n",
    "#names={'Kirk' : 'James',\n",
    "#              'Spock' : '',\n",
    "#              'McCoy' : 'Leonard',\n",
    "#              'Scott' : 'Montgomery',\n",
    "#              'Uhura' : 'Nyota',\n",
    "#              'Checkov': 'Pavel'}\n",
    "# Write a python print statement that uses the names map to print the following:\n",
    "# The engineer's first name is Montgomery.\n",
    "\n",
    "names={'Kirk' : 'James',\n",
    "              'Spock' : '',\n",
    "              'McCoy' : 'Leonard',\n",
    "              'Scott' : 'Montgomery',\n",
    "              'Uhura' : 'Nyota',\n",
    "              'Checkov': 'Pavel'}\n",
    "\n"
   ]
  },
  {
   "cell_type": "code",
   "execution_count": 13,
   "metadata": {},
   "outputs": [
    {
     "name": "stdout",
     "output_type": "stream",
     "text": [
      "{'Kirk': 'James', 'Spock': '', 'McCoy': 'Leonard', 'Scott': 'Montgomery', 'Uhura': 'Nyota', 'Checkov': 'Pavel', 'Sulu': 'Hikaru'}\n"
     ]
    }
   ],
   "source": [
    "#10) Given the following map:\n",
    "#names={'Kirk' : 'James',\n",
    "#              'Spock' : '',\n",
    "#              'McCoy' : 'Leonard',\n",
    "#              'Scott' : 'Montgomery',\n",
    "#              'Uhura' : 'Nyota',\n",
    "#              'Checkov': 'Pavel'}\n",
    "# Write a python statement that adds 'Sulu':'Hikaru' to the names map.\n",
    "\n",
    "names={'Kirk' : 'James',\n",
    "              'Spock' : '',\n",
    "              'McCoy' : 'Leonard',\n",
    "              'Scott' : 'Montgomery',\n",
    "              'Uhura' : 'Nyota',\n",
    "              'Checkov': 'Pavel'}\n",
    "\n",
    "print(names)"
   ]
  },
  {
   "cell_type": "code",
   "execution_count": 15,
   "metadata": {},
   "outputs": [
    {
     "name": "stdout",
     "output_type": "stream",
     "text": [
      "{'Kirk': 'James', 'McCoy': 'Leonard', 'Scott': 'Montgomery', 'Uhura': 'Nyota', 'Checkov': 'Pavel'}\n"
     ]
    }
   ],
   "source": [
    "#11) Given the following map:\n",
    "#names={'Kirk' : 'James',\n",
    "#              'Spock' : '',\n",
    "#              'McCoy' : 'Leonard',\n",
    "#              'Scott' : 'Montgomery',\n",
    "#              'Uhura' : 'Nyota',\n",
    "#              'Checkov': 'Pavel'}\n",
    "#Write a python statement that removes Spock from the names map.\n",
    "\n",
    "names={'Kirk' : 'James',\n",
    "              'Spock' : '',\n",
    "              'McCoy' : 'Leonard',\n",
    "              'Scott' : 'Montgomery',\n",
    "              'Uhura' : 'Nyota',\n",
    "              'Checkov': 'Pavel'}\n",
    "\n",
    "print(names)"
   ]
  },
  {
   "cell_type": "code",
   "execution_count": null,
   "metadata": {
    "collapsed": true
   },
   "outputs": [],
   "source": [
    "# 12) Write a python program that draws a square using the turtle module."
   ]
  },
  {
   "cell_type": "code",
   "execution_count": null,
   "metadata": {
    "collapsed": true
   },
   "outputs": [],
   "source": [
    "#13) Given the following python program that has a syntax error:\n",
    "\n",
    "#score=88\n",
    "\n",
    "#if score >= 90:\n",
    "#  print (\"A\")\n",
    "#elsif score >= 80:\n",
    "#  print (\"B\")\n",
    "#elif score >= 70:\n",
    "#  print (\"C\")\n",
    "#elif score >= 60:\n",
    "#  print (\"D\")\n",
    "#else:\n",
    "#  print (\"Try again\")\n",
    "\n",
    "# Enter the line you corrected that allows the program to run.\n",
    "\n",
    "score=88\n",
    "\n",
    "if score >= 90:\n",
    "  print (\"A\")\n",
    "eslif score >= 80:\n",
    "  print (\"B\")\n",
    "elif score >= 70:\n",
    "  print (\"C\")\n",
    "elif score >= 60:\n",
    "  print (\"D\")\n",
    "else:\n",
    "  print (\"Try again\")\n"
   ]
  },
  {
   "cell_type": "code",
   "execution_count": null,
   "metadata": {
    "collapsed": true
   },
   "outputs": [],
   "source": [
    "#14) Given the following python program that converts scores to \n",
    "# letter grades using the standard 90+ is an A, 80+ is a B, etc.:\n",
    "#score=70\n",
    "\n",
    "#if score >= 90:\n",
    "#  print (\"A\")\n",
    "#elif score >= 80:\n",
    "#  print (\"B\")\n",
    "#elif score > 70:\n",
    "#  print (\"C\")\n",
    "#elif score >= 60:\n",
    "#  print (\"D\")\n",
    "#else:\n",
    "#  print (\"Try again\")\n",
    "\n",
    "#A score of 70 should cause the program to print a C but when the \n",
    "#program runs it prints a D. \n",
    "#Enter the line you corrected that allows the program to convert \n",
    "#scores to letters properly.\n",
    "\n",
    "score=70\n",
    "\n",
    "if score >= 90:\n",
    "  print (\"A\")\n",
    "elif score >= 80:\n",
    "  print (\"B\")\n",
    "elif score > 70:\n",
    "  print (\"C\")\n",
    "elif score >= 60:\n",
    "  print (\"D\")\n",
    "else:\n",
    "  print (\"Try again\")"
   ]
  },
  {
   "cell_type": "code",
   "execution_count": null,
   "metadata": {
    "collapsed": true
   },
   "outputs": [],
   "source": [
    "#15) Given the following python program that converts scores to letter grades using the \n",
    "#standard 90+ is an A, 80+ is a B, etc.:\n",
    "\n",
    "#score=88\n",
    "\n",
    "#if score >= 90:\n",
    "#  print (\"A\")\n",
    "#if score >= 80:\n",
    "#  print (\"B\")\n",
    "#if score >= 70:\n",
    "#  print (\"C\")\n",
    "#if score >= 60:\n",
    "#  print (\"D\")\n",
    "#else:\n",
    "#  print (\"Try again\")\n",
    "\n",
    "# With a score of 88 the program should print a B, but it prints B, C, and D. \n",
    "# How would you change the program so it functions correctly.\n",
    "\n",
    "score=88\n",
    "\n",
    "if score >= 90:\n",
    "  print (\"A\")\n",
    "if score >= 80:\n",
    "  print (\"B\")\n",
    "if score >= 70:\n",
    "  print (\"C\")\n",
    "if score >= 60:\n",
    "  print (\"D\")\n",
    "else:\n",
    "  print (\"Try again\")"
   ]
  },
  {
   "cell_type": "code",
   "execution_count": null,
   "metadata": {
    "collapsed": true
   },
   "outputs": [],
   "source": [
    "#16) Given the following python program:\n",
    "\n",
    "#tShirtPriceDollars = 40\n",
    "\n",
    "#if tShirtPriceDollars >= 50:\n",
    "#    print (\"I call that getting swindled and pimped.\")\n",
    "#print (\"I call that getting tricked by bizzz-ness.\")\n",
    "\n",
    "# Both print statements should only print if the t-shirtPrice is 50 or more. \n",
    "# Why does the second print statement print no matter what the price is? \n",
    "# And what would you do to fix it?\n",
    "\n",
    "tShirtPriceDollars = 40\n",
    "\n",
    "if tShirtPriceDollars >= 50:\n",
    "    print (\"I call that getting swindled and pimped.\")\n",
    "print (\"I call that getting tricked by bizzz-ness.\")"
   ]
  },
  {
   "cell_type": "code",
   "execution_count": null,
   "metadata": {
    "collapsed": true
   },
   "outputs": [],
   "source": [
    "#17) Given the following python program:\n",
    "\n",
    "#this = \"the momento\"\n",
    "#tonight = \"the knight\"\n",
    "#if this == \"the moment\" or tonight == \"the night\":\n",
    "#    print (\"We put our hands up like the ceiling can\\'t hold us.\")\n",
    "\n",
    "# The print statement executes when (select all that apply)\n",
    "# a. The first condition is true and the second condition is false.\n",
    "# b. The first condition is false and the second condition is true.\n",
    "# c. Neither conditions are true.\n",
    "# d. Both conditions are true.\n",
    "\n",
    "this = \"the momento\"\n",
    "tonight = \"the knight\"\n",
    "\n",
    "if this == \"the moment\" or tonight == \"the night\":\n",
    "    print (\"We put our hands up like the ceiling can\\'t hold us.\")\n"
   ]
  },
  {
   "cell_type": "code",
   "execution_count": null,
   "metadata": {
    "collapsed": true
   },
   "outputs": [],
   "source": [
    "#18) Given the following python program:\n",
    "\n",
    "#if time >= bar_closing and youFeelLike == fallingDown:\n",
    "#    print (\"I\\'ll carry you home... \")\n",
    "#    print (\"Toni-i-i-ight... we are you-u-ung...\")\n",
    "\n",
    "# The print statements execute when (select all that apply)\n",
    "# a. The first condition is true and the second condition is false.\n",
    "# b. The first condition is false and the second condition is true.\n",
    "# c. Neither conditions are true.\n",
    "# d. Both conditions are true.\n",
    "\n",
    "if time >= bar_closing and youFeelLike == fallingDown:\n",
    "    print (\"I\\'ll carry you home... \")\n",
    "    print (\"Toni-i-i-ight... we are you-u-ung...\")"
   ]
  },
  {
   "cell_type": "code",
   "execution_count": null,
   "metadata": {
    "collapsed": true
   },
   "outputs": [],
   "source": [
    "#19) Given the following python program where stringOne contains \"127\" \n",
    "#and stringTwo contains \"77\":\n",
    "\n",
    "#stringOne = \"127\"\n",
    "#stringTwo = \"77\"\n",
    "\n",
    "#if stringOne > stringTwo:\n",
    "#    print (\"%s > %s\" % (stringOne,stringTwo))\n",
    "#if stringOne < stringTwo:\n",
    "#    print (\"%s < %s\" % (stringOne,stringTwo))\n",
    "\n",
    "# What prints?\n",
    "# a. 127 > 77 \n",
    "# b. 127 < 77\n",
    "# c. 77 > 127\n",
    "# d. 77 < 127\n",
    "\n",
    "stringOne = \"127\"\n",
    "stringTwo = \"77\"\n",
    "\n",
    "if stringOne > stringTwo:\n",
    "    print (\"%s > %s\" % (stringOne,stringTwo))\n",
    "if stringOne < stringTwo:\n",
    "    print (\"%s < %s\" % (stringOne,stringTwo))"
   ]
  },
  {
   "cell_type": "code",
   "execution_count": null,
   "metadata": {
    "collapsed": true
   },
   "outputs": [],
   "source": [
    "#20) Given the following python program where integerOne contains 127 \n",
    "# and integerTwo contains 77:\n",
    "\n",
    "#integerOne = 127\n",
    "#integerTwo = 77\n",
    "\n",
    "#if integerOne > integerTwo:\n",
    "#    print (\"%s > %s\" % (integerOne,integerTwo))\n",
    "#if integerOne < integerTwo:\n",
    "#    print (\"%s < %s\" % (integerOne,integerTwo))\n",
    "\n",
    "# What prints?\n",
    "# a. 127 > 77\n",
    "# b. 127 < 77\n",
    "# c. 77 > 127\n",
    "# d. 77 < 127\n",
    "\n",
    "integerOne = 127\n",
    "integerTwo = 77\n",
    "\n",
    "if integerOne > integerTwo:\n",
    "    print (\"%s > %s\" % (integerOne,integerTwo))\n",
    "if integerOne < integerTwo:\n",
    "    print (\"%s < %s\" % (integerOne,integerTwo))\n"
   ]
  },
  {
   "cell_type": "code",
   "execution_count": null,
   "metadata": {
    "collapsed": true
   },
   "outputs": [],
   "source": []
  }
 ],
 "metadata": {
  "kernelspec": {
   "display_name": "Python 3",
   "language": "python",
   "name": "python3"
  },
  "language_info": {
   "codemirror_mode": {
    "name": "ipython",
    "version": 3
   },
   "file_extension": ".py",
   "mimetype": "text/x-python",
   "name": "python",
   "nbconvert_exporter": "python",
   "pygments_lexer": "ipython3",
   "version": "3.6.3"
  }
 },
 "nbformat": 4,
 "nbformat_minor": 2
}

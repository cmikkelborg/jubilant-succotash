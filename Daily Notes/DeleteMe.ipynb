{
 "cells": [
  {
   "cell_type": "code",
   "execution_count": 7,
   "metadata": {},
   "outputs": [
    {
     "name": "stdout",
     "output_type": "stream",
     "text": [
      "7\n"
     ]
    }
   ],
   "source": [
    "# 1) What is 3 + 5 * 2 - 6\n",
    "print(3 + 5 * 2 - 6)"
   ]
  },
  {
   "cell_type": "code",
   "execution_count": 4,
   "metadata": {},
   "outputs": [
    {
     "name": "stdout",
     "output_type": "stream",
     "text": [
      "3 * 5 = 15\n"
     ]
    }
   ],
   "source": [
    "# 2) Write a python program that multiplies 3 * 5 and print the result. (can be done in 1 line)\n",
    "print(\"3 * 5 = %d\" % (3 * 5))"
   ]
  },
  {
   "cell_type": "code",
   "execution_count": 5,
   "metadata": {},
   "outputs": [
    {
     "name": "stdout",
     "output_type": "stream",
     "text": [
      "1337\n"
     ]
    }
   ],
   "source": [
    "# 3) Write a python program that assigns a number to a variable and prints the variable.\n",
    "variable = 1337\n",
    "print(variable)"
   ]
  },
  {
   "cell_type": "code",
   "execution_count": 9,
   "metadata": {},
   "outputs": [
    {
     "name": "stdout",
     "output_type": "stream",
     "text": [
      "What is Beethoven doing now?\n",
      "...\n",
      "...\n",
      "DE-composing.\n"
     ]
    }
   ],
   "source": [
    "# 4) The following python program generates a syntax error.\n",
    "\n",
    "# print(\"What is Beethoven doing now?)\n",
    "#...\n",
    "#...\n",
    "#DE-composing.\")\n",
    "print('''What is Beethoven doing now?\n",
    "...\n",
    "...\n",
    "DE-composing.''')\n"
   ]
  },
  {
   "cell_type": "code",
   "execution_count": 10,
   "metadata": {},
   "outputs": [
    {
     "name": "stdout",
     "output_type": "stream",
     "text": [
      "John said, \"I'd tell you a UDP joke but you might not get it.\"\n"
     ]
    }
   ],
   "source": [
    "# 5) Write a python pring statement that prints the following \n",
    "# including the quotes and apostrophes:\n",
    "\n",
    "print('''John said, \"I'd tell you a UDP joke but you might not get it.\"''')"
   ]
  },
  {
   "cell_type": "code",
   "execution_count": 11,
   "metadata": {},
   "outputs": [
    {
     "name": "stdout",
     "output_type": "stream",
     "text": [
      "Picard\n"
     ]
    }
   ],
   "source": [
    "# 6) Given the following list:\n",
    "# captains=['Kirk', 'Picard', 'Janeway', 'Archer']\n",
    "# Write a python print statement that uses the list to print Picard.\n",
    "captains=['Kirk', 'Picard', 'Janeway', 'Archer']\n",
    "print(captains[1])"
   ]
  },
  {
   "cell_type": "code",
   "execution_count": 12,
   "metadata": {},
   "outputs": [
    {
     "name": "stdout",
     "output_type": "stream",
     "text": [
      "['Kirk', 'Picard', 'Janeway', 'Archer', 'Pike']\n"
     ]
    }
   ],
   "source": [
    "# 7) Given the following list\n",
    "# captains=['Kirk', 'Picard', 'Janeway', 'Archer']\n",
    "# Write a python program that adds Pike to the list\n",
    "captains.append(\"Pike\")\n",
    "print(captains)"
   ]
  },
  {
   "cell_type": "code",
   "execution_count": 13,
   "metadata": {},
   "outputs": [
    {
     "name": "stdout",
     "output_type": "stream",
     "text": [
      "['Kirk', 'Picard', 'Janeway', 'Archer']\n"
     ]
    }
   ],
   "source": [
    "# 8) Given the follwing list:\n",
    "# captains=['Kirk', 'Picard', 'Riker', 'Janeway', 'Archer']\n",
    "# Write a python program that deletes Riker from the list\n",
    "captains=['Kirk', 'Picard', 'Riker', 'Janeway', 'Archer']\n",
    "del captains[2]\n",
    "print(captains)"
   ]
  },
  {
   "cell_type": "code",
   "execution_count": 15,
   "metadata": {},
   "outputs": [
    {
     "name": "stdout",
     "output_type": "stream",
     "text": [
      "The engineer's first name is Montgomery.\n"
     ]
    }
   ],
   "source": [
    "# 9) Given the following map:\n",
    "names={'Kirk' : 'James',\n",
    "      'Spock' : '',\n",
    "      'McCoy' : 'Leonard',\n",
    "      'Scott' : 'Montgomery',\n",
    "      'Uhura' : 'Nyota',\n",
    "      'Checkov' : 'Pavel'}\n",
    "# Write a python pring statement that uses the names map to return th eengineer's first name is Montgomery\n",
    "print(\"The engineer's first name is %s.\" % names['Scott'])"
   ]
  },
  {
   "cell_type": "code",
   "execution_count": 16,
   "metadata": {},
   "outputs": [
    {
     "name": "stdout",
     "output_type": "stream",
     "text": [
      "{'Kirk': 'James', 'McCoy': 'Leonard', 'Scott': 'Montgomery', 'Uhura': 'Nyota', 'Checkov': 'Pavel'}\n"
     ]
    }
   ],
   "source": [
    "names={'Kirk' : 'James',\n",
    "      'Spock' : '',\n",
    "      'McCoy' : 'Leonard',\n",
    "      'Scott' : 'Montgomery',\n",
    "      'Uhura' : 'Nyota',\n",
    "      'Checkov' : 'Pavel'}\n",
    "del names['Spock']\n",
    "print(names)"
   ]
  },
  {
   "cell_type": "code",
   "execution_count": null,
   "metadata": {
    "collapsed": true
   },
   "outputs": [],
   "source": []
  }
 ],
 "metadata": {
  "kernelspec": {
   "display_name": "Python 3",
   "language": "python",
   "name": "python3"
  },
  "language_info": {
   "codemirror_mode": {
    "name": "ipython",
    "version": 3
   },
   "file_extension": ".py",
   "mimetype": "text/x-python",
   "name": "python",
   "nbconvert_exporter": "python",
   "pygments_lexer": "ipython3",
   "version": "3.6.3"
  }
 },
 "nbformat": 4,
 "nbformat_minor": 2
}

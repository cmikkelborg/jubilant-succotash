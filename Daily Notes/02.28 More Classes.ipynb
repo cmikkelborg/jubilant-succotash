{
 "cells": [
  {
   "cell_type": "code",
   "execution_count": 1,
   "metadata": {
    "collapsed": true
   },
   "outputs": [],
   "source": [
    "class Animal:\n",
    "    \n",
    "    animalNumber = 0\n",
    "    \n",
    "    #__init__ runs when an Animal is contructed\n",
    "    def __init__(self, species, length, diet, color, name):\n",
    "        self.id = Animal.animalNumber\n",
    "        Animal.animalNumber += 1\n",
    "        self.species = species\n",
    "        self.length = length\n",
    "        self.diet = diet\n",
    "        self.color = color\n",
    "        self.name = name\n",
    "        \n",
    "    def display(self):\n",
    "        print(\"\\n\\tManimal: %s\" % self.name)\n",
    "        print(\"\\tID: %s\" % self.id)\n",
    "        print(\"\\tManimal type: %s\" % self.species)\n",
    "        print(\"\\tLength: %d\" % self.length)\n",
    "        print(\"\\tDiet: %s\" % self.diet)\n",
    "        print(\"\\tColor: %s\" % self.color)"
   ]
  },
  {
   "cell_type": "code",
   "execution_count": 2,
   "metadata": {},
   "outputs": [
    {
     "name": "stdout",
     "output_type": "stream",
     "text": [
      "Manimal: Lupin\n",
      "ID: 0\n",
      "Manimal type: Canis Lupis\n",
      "Length: 4\n",
      "Diet: chewy meats\n",
      "Color: black\n",
      "(A)dd Animal (L)ookup (Q)uita\n",
      "(A)dd Animal (L)ookup (Q)uitA\n",
      "Species: Dragon\n",
      "length: 2\n",
      "Diet: little naminals\n",
      "color: green\n",
      "Name: Bogart\n",
      "(A)dd Animal (L)ookup (Q)uitL\n",
      "Input ID: 1\n",
      "Manimal: Bogart\n",
      "ID: 1\n",
      "Manimal type: Dragon\n"
     ]
    },
    {
     "ename": "TypeError",
     "evalue": "%d format: a number is required, not str",
     "output_type": "error",
     "traceback": [
      "\u001b[1;31m---------------------------------------------------------------------------\u001b[0m",
      "\u001b[1;31mTypeError\u001b[0m                                 Traceback (most recent call last)",
      "\u001b[1;32m<ipython-input-2-aace087f69b7>\u001b[0m in \u001b[0;36m<module>\u001b[1;34m()\u001b[0m\n\u001b[0;32m     30\u001b[0m     \u001b[1;32mif\u001b[0m \u001b[0mcmd\u001b[0m \u001b[1;33m==\u001b[0m \u001b[1;34m\"L\"\u001b[0m\u001b[1;33m:\u001b[0m\u001b[1;33m\u001b[0m\u001b[0m\n\u001b[0;32m     31\u001b[0m         \u001b[0mid\u001b[0m \u001b[1;33m=\u001b[0m \u001b[0mint\u001b[0m\u001b[1;33m(\u001b[0m\u001b[0minput\u001b[0m\u001b[1;33m(\u001b[0m\u001b[1;34m\"Input ID: \"\u001b[0m\u001b[1;33m)\u001b[0m\u001b[1;33m)\u001b[0m\u001b[1;33m\u001b[0m\u001b[0m\n\u001b[1;32m---> 32\u001b[1;33m         \u001b[0mregistry\u001b[0m\u001b[1;33m[\u001b[0m\u001b[0mid\u001b[0m\u001b[1;33m]\u001b[0m\u001b[1;33m.\u001b[0m\u001b[0mdisplay\u001b[0m\u001b[1;33m(\u001b[0m\u001b[1;33m)\u001b[0m\u001b[1;33m\u001b[0m\u001b[0m\n\u001b[0m",
      "\u001b[1;32m<ipython-input-1-8b74e9663576>\u001b[0m in \u001b[0;36mdisplay\u001b[1;34m(self)\u001b[0m\n\u001b[0;32m     17\u001b[0m         \u001b[0mprint\u001b[0m\u001b[1;33m(\u001b[0m\u001b[1;34m\"ID: %s\"\u001b[0m \u001b[1;33m%\u001b[0m \u001b[0mself\u001b[0m\u001b[1;33m.\u001b[0m\u001b[0mid\u001b[0m\u001b[1;33m)\u001b[0m\u001b[1;33m\u001b[0m\u001b[0m\n\u001b[0;32m     18\u001b[0m         \u001b[0mprint\u001b[0m\u001b[1;33m(\u001b[0m\u001b[1;34m\"Manimal type: %s\"\u001b[0m \u001b[1;33m%\u001b[0m \u001b[0mself\u001b[0m\u001b[1;33m.\u001b[0m\u001b[0mspecies\u001b[0m\u001b[1;33m)\u001b[0m\u001b[1;33m\u001b[0m\u001b[0m\n\u001b[1;32m---> 19\u001b[1;33m         \u001b[0mprint\u001b[0m\u001b[1;33m(\u001b[0m\u001b[1;34m\"Length: %d\"\u001b[0m \u001b[1;33m%\u001b[0m \u001b[0mself\u001b[0m\u001b[1;33m.\u001b[0m\u001b[0mlength\u001b[0m\u001b[1;33m)\u001b[0m\u001b[1;33m\u001b[0m\u001b[0m\n\u001b[0m\u001b[0;32m     20\u001b[0m         \u001b[0mprint\u001b[0m\u001b[1;33m(\u001b[0m\u001b[1;34m\"Diet: %s\"\u001b[0m \u001b[1;33m%\u001b[0m \u001b[0mself\u001b[0m\u001b[1;33m.\u001b[0m\u001b[0mdiet\u001b[0m\u001b[1;33m)\u001b[0m\u001b[1;33m\u001b[0m\u001b[0m\n\u001b[0;32m     21\u001b[0m         \u001b[0mprint\u001b[0m\u001b[1;33m(\u001b[0m\u001b[1;34m\"Color: %s\"\u001b[0m \u001b[1;33m%\u001b[0m \u001b[0mself\u001b[0m\u001b[1;33m.\u001b[0m\u001b[0mcolor\u001b[0m\u001b[1;33m)\u001b[0m\u001b[1;33m\u001b[0m\u001b[0m\n",
      "\u001b[1;31mTypeError\u001b[0m: %d format: a number is required, not str"
     ]
    }
   ],
   "source": [
    "# getAnimal will ask user for animal information and return an Animal object\n",
    "def getAnimal():\n",
    "    species = input(\"\\tSpecies: \")\n",
    "    length = input(\"\\tlength: \")\n",
    "    diet = input(\"\\tDiet: \")\n",
    "    color = input(\"\\tcolor: \")\n",
    "    name = input(\"\\n\\tName: \")\n",
    "    return Animal(species, length, diet, color, name)\n",
    "print(\"\\\")\n",
    "    \n",
    "registry = {}\n",
    "\n",
    "# creation\n",
    "wolf = Animal(\"Canis Lupis\", 4, \"chewy meats\", \"black\", \"Lupin\")\n",
    "\n",
    "# regestry\n",
    "registry[wolf.id] = wolf\n",
    "\n",
    "# display\n",
    "wolf.display()\n",
    "\n",
    "# main program loop\n",
    "while True:\n",
    "    cmd = input(\"(A)dd Animal (L)ookup (Q)uit\")\n",
    "    if cmd == \"Q\":\n",
    "        print(\"Goodbye!\")\n",
    "        break\n",
    "    if cmd == \"A\":\n",
    "        animal = getAnimal()\n",
    "        registry[animal.id] = animal\n",
    "    if cmd == \"L\":\n",
    "        id = int(input(\"Input ID: \"))\n",
    "        registry[id].display()"
   ]
  },
  {
   "cell_type": "code",
   "execution_count": null,
   "metadata": {
    "collapsed": true
   },
   "outputs": [],
   "source": []
  }
 ],
 "metadata": {
  "kernelspec": {
   "display_name": "Python 3",
   "language": "python",
   "name": "python3"
  },
  "language_info": {
   "codemirror_mode": {
    "name": "ipython",
    "version": 3
   },
   "file_extension": ".py",
   "mimetype": "text/x-python",
   "name": "python",
   "nbconvert_exporter": "python",
   "pygments_lexer": "ipython3",
   "version": "3.6.3"
  }
 },
 "nbformat": 4,
 "nbformat_minor": 2
}

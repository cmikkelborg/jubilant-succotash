{
 "cells": [
  {
   "cell_type": "code",
   "execution_count": null,
   "metadata": {},
   "outputs": [],
   "source": [
    "# print is a simple function that does not return anything\n",
    "print(\"parameter 1\", \"parameter 2\")\n",
    "\n",
    "# input is like print but returns user input\n",
    "inputString = input(\"prompt\")"
   ]
  },
  {
   "cell_type": "code",
   "execution_count": null,
   "metadata": {},
   "outputs": [],
   "source": [
    "def getNumberOfValentines(friends, acquantences, enemies):\n",
    "    return (2*friends) + acquantences + (0.5*enemies)\n",
    "\n",
    "def getCostOfValentines(valentines):\n",
    "    price = 0.01\n",
    "    exchange_rate = 1.27\n",
    "    cost_usd = price*valentines\n",
    "    cost_euro = cost_usd*exchange_rate\n",
    "    return (cost_usd, cost_euro,)    \n",
    "\n",
    "while True:\n",
    "    number_of_friends = int(input(\"How many friends do you have?\"))\n",
    "    if number_of_friends == 0:\n",
    "        print(\"Awwwwwwwwwww... you do now...\")\n",
    "        break\n",
    "    number_of_acquantences = int(input(\"Acquantences?\"))\n",
    "    number_of_enemies = int(input(\"Mortal enemies?\"))\n",
    "    # get number functions returns an integer\n",
    "    number_of_valentines = getNumberOfValentines(\n",
    "        number_of_friends, number_of_acquantences, number_of_enemies)\n",
    "    \n",
    "    # get cost function returns 2 numbers in a tuple\n",
    "    # we unpack that tuple into 2 variables (usd, euros)\n",
    "    usd, euros = getCostOfValentines(number_of_valentines)\n",
    "    print(\"We're going to need %.1f Valentines, costing $%.2f (%.2f€)\" \n",
    "          % (number_of_valentines, usd, euros))\n",
    "        "
   ]
  },
  {
   "cell_type": "code",
   "execution_count": null,
   "metadata": {},
   "outputs": [],
   "source": [
    "def gradeTranslator(score):\n",
    "    if score >= 90:\n",
    "        return \"A\"\n",
    "    elif score >= 80:\n",
    "        return \"B\"\n",
    "    elif score >= 70:\n",
    "        return \"C\"\n",
    "    elif score >= 60:\n",
    "        return \"D\"\n",
    "    else:\n",
    "        return \"F\"\n",
    "\n",
    "print (\"Score: 77 = Grade: %s\" % (gradeTranslator(77)))\n",
    "print (\"Score: 88 = Grade: %s\" % (gradeTranslator(88)))"
   ]
  },
  {
   "cell_type": "code",
   "execution_count": null,
   "metadata": {},
   "outputs": [],
   "source": [
    "def info():\n",
    "    print(\"To use this command line utility run 'valentines --number_of_friends'\")\n",
    "\n",
    "info()"
   ]
  },
  {
   "cell_type": "code",
   "execution_count": null,
   "metadata": {},
   "outputs": [],
   "source": [
    "# using the time() function\n",
    "from time import gmtime, strftime\n",
    "\n",
    "# the current time as returned by time() (time() is not itself callable)\n",
    "print(time.localtime())\n",
    "print(\"\")\n",
    "\n",
    "# printing time as a string\n",
    "print(time.strftime(\"%a, %d %b %Y %I:%M:%S %Z\", gmtime()))\n",
    "\n",
    "# different calls of time.strftime()\n",
    "# %a - Abbreviated weekday name\n",
    "# %A - Full weekday name\n",
    "# %b - Abbreviated month name\n",
    "# %B - Full month name\n",
    "# %c - Default local date and time\n",
    "# %d - Day of the month\n",
    "# %H - Hour (24hr clock)\n",
    "# %I - Hour (12hr clock)\n",
    "# %j - Day of the year\n",
    "# %m - Month as a digit\n",
    "# %M - Minutes\n",
    "# %p - local equivelent of AM/PM\n",
    "# %S - Seconds\n",
    "# %U - Week number of the year (as Sun first day of week)\n",
    "# %x - Default local date representation\n",
    "# %X - Default local time representation\n",
    "# %y - 2 digit year\n",
    "# %Y - 4 digit year\n",
    "# %z - Time zone offset from UTC\n",
    "# %Z - Time zone"
   ]
  }
 ],
 "metadata": {
  "kernelspec": {
   "display_name": "Python 3",
   "language": "python",
   "name": "python3"
  },
  "language_info": {
   "codemirror_mode": {
    "name": "ipython",
    "version": 3
   },
   "file_extension": ".py",
   "mimetype": "text/x-python",
   "name": "python",
   "nbconvert_exporter": "python",
   "pygments_lexer": "ipython3",
   "version": "3.7.2"
  }
 },
 "nbformat": 4,
 "nbformat_minor": 2
}

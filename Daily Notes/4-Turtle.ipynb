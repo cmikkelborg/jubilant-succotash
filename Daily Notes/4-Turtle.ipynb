{
 "cells": [
  {
   "cell_type": "code",
   "execution_count": 1,
   "metadata": {},
   "outputs": [
    {
     "data": {
      "application/vnd.jupyter.widget-view+json": {
       "model_id": "aedf116d646c47ecb1db498545398417",
       "version_major": 2,
       "version_minor": 0
      },
      "text/plain": [
       "Turtle()"
      ]
     },
     "metadata": {},
     "output_type": "display_data"
    }
   ],
   "source": [
    "from ipyturtle import Turtle\n",
    "t = Turtle(fixed=False, width=320, height=320)\n",
    "\n",
    "def goto(x, y):\n",
    "    t._turtle_location_x = x\n",
    "    t._turtle_location_y = y\n",
    "\n",
    "def circle():\n",
    "    for i in range(90):\n",
    "        t.forward(4)\n",
    "        t.right(4)\n",
    "t"
   ]
  },
  {
   "cell_type": "code",
   "execution_count": 5,
   "metadata": {},
   "outputs": [],
   "source": [
    "goto(0, 0)\n",
    "circle()\n",
    "goto(-100, -100)\n",
    "circle()"
   ]
  },
  {
   "cell_type": "code",
   "execution_count": null,
   "metadata": {},
   "outputs": [],
   "source": []
  }
 ],
 "metadata": {
  "kernelspec": {
   "display_name": "Python 3",
   "language": "python",
   "name": "python3"
  },
  "language_info": {
   "codemirror_mode": {
    "name": "ipython",
    "version": 3
   },
   "file_extension": ".py",
   "mimetype": "text/x-python",
   "name": "python",
   "nbconvert_exporter": "python",
   "pygments_lexer": "ipython3",
   "version": "3.7.2"
  },
  "widgets": {
   "state": {
    "eeaf046799734c448772b5d37fc254c5": {
     "views": [
      {
       "cell_index": 0
      }
     ]
    }
   },
   "version": "1.2.0"
  }
 },
 "nbformat": 4,
 "nbformat_minor": 2
}

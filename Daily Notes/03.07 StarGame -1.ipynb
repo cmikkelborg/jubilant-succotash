{
 "cells": [
  {
   "cell_type": "code",
   "execution_count": 1,
   "metadata": {
    "collapsed": true
   },
   "outputs": [],
   "source": [
    "%%python\n",
    "\n",
    "from tkinter import *\n",
    "import time\n",
    "\n",
    "# make the tk window\n",
    "tk = Tk()\n",
    "\n",
    "# set a title\n",
    "tk.title(\"StarGame\")\n",
    "\n",
    "# make the window resizable\n",
    "tk.resizable(0, 0)\n",
    "\n",
    "# put window on top\n",
    "tk.wm_attributes(\"-topmost\", 1)\n",
    "\n",
    "# create a canvas\n",
    "canvas = Canvas(tk, width=900, height=600, bd=0, bg=\"darkcyan\", highlightthickness=0)\n",
    "\n",
    "# put the canvas in window\n",
    "canvas.pack()\n",
    "\n",
    "# initialize our window\n",
    "tk.update()\n",
    "\n",
    "# ship class\n",
    "class Ship:\n",
    "    def __init__(self, canvas, image, x, y):\n",
    "        self.canvas = canvas\n",
    "        self.id = canvas.create_image(x, y, anchor=NW, image=image)\n",
    "    def fly_NE(self):\n",
    "        self.canvas.move(self.id, 1, -1)\n",
    "        \n",
    "# falcon\n",
    "falcon_image = PhotoImage(file=\"assets/falcon.gif\")\n",
    "Falcon = Ship(canvas, falcon_image, 200, 600)\n",
    "\n",
    "count = 0\n",
    "\n",
    "# main game loop\n",
    "while True:\n",
    "    count += 1\n",
    "    if count > 630:\n",
    "        break\n",
    "    # fly Falcon NE\n",
    "    Falcon.fly_NE()\n",
    "    \n",
    "    # tk refresh screen\n",
    "    tk.update_idletasks()\n",
    "    tk.update()\n",
    "    \n",
    "    # set frame rate\n",
    "    time.sleep(0.015)\n",
    "    \n",
    "    "
   ]
  },
  {
   "cell_type": "code",
   "execution_count": null,
   "metadata": {
    "collapsed": true
   },
   "outputs": [],
   "source": []
  }
 ],
 "metadata": {
  "kernelspec": {
   "display_name": "Python 3",
   "language": "python",
   "name": "python3"
  },
  "language_info": {
   "codemirror_mode": {
    "name": "ipython",
    "version": 3
   },
   "file_extension": ".py",
   "mimetype": "text/x-python",
   "name": "python",
   "nbconvert_exporter": "python",
   "pygments_lexer": "ipython3",
   "version": "3.6.3"
  }
 },
 "nbformat": 4,
 "nbformat_minor": 2
}

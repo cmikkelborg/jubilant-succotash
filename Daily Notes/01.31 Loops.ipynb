{
 "cells": [
  {
   "cell_type": "code",
   "execution_count": null,
   "metadata": {},
   "outputs": [],
   "source": [
    "# for\n",
    "# while\n",
    "\n",
    "\n",
    "# for counter\n",
    "for x in range(0, 5):\n",
    "    print(x)"
   ]
  },
  {
   "cell_type": "code",
   "execution_count": null,
   "metadata": {},
   "outputs": [],
   "source": [
    "#  for countdown with timer\n",
    "import time\n",
    "for x in reversed(range(0, 5)):\n",
    "    time.sleep(1)\n",
    "    print(x)"
   ]
  },
  {
   "cell_type": "code",
   "execution_count": null,
   "metadata": {},
   "outputs": [],
   "source": [
    "adjectives = [\"brown\", \"mathmatical\", \"algebraic\", \"floop\", \"fluff\"]\n",
    "nouns = [\"Bob Ross\", \"Butt Chicken\", \"Pig\", \"bush\"]\n",
    "\n",
    "for adjective in adjectives:\n",
    "    for noun in nouns:\n",
    "        print(\"%s %s\" % (adjective, noun))"
   ]
  },
  {
   "cell_type": "code",
   "execution_count": null,
   "metadata": {
    "scrolled": true
   },
   "outputs": [],
   "source": [
    "forks = {\n",
    "    \"Salad\" : \"pretentious\",\n",
    "    \"Dinner\" : \"polite\",\n",
    "    \"Dessert\" : \"Delicious\"\n",
    "}\n",
    "for key, value in forks.items():\n",
    "    print(\"Oh a %s fork? How %s\" % (key, value))\n",
    "\n",
    "print(\"\\n\")\n",
    "for key in forks:\n",
    "    print(key)\n",
    "    print(forks[key])"
   ]
  }
 ],
 "metadata": {
  "kernelspec": {
   "display_name": "Python 3",
   "language": "python",
   "name": "python3"
  },
  "language_info": {
   "codemirror_mode": {
    "name": "ipython",
    "version": 3
   },
   "file_extension": ".py",
   "mimetype": "text/x-python",
   "name": "python",
   "nbconvert_exporter": "python",
   "pygments_lexer": "ipython3",
   "version": "3.7.2"
  }
 },
 "nbformat": 4,
 "nbformat_minor": 2
}

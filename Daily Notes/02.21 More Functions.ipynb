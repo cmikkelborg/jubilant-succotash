{
 "cells": [
  {
   "cell_type": "code",
   "execution_count": 4,
   "metadata": {},
   "outputs": [
    {
     "name": "stdout",
     "output_type": "stream",
     "text": [
      "What is the name of player 1?Chunk\n",
      "What is the name of player 2?\n",
      "Muck\n",
      "Okay, Chunk\n",
      "Which row? (1-3)1\n",
      "Which col? (1-3)2\n",
      "Okay, Muck\n",
      "Which row? (1-3)2\n",
      "Which col? (1-3)1\n"
     ]
    },
    {
     "ename": "NameError",
     "evalue": "name 'row' is not defined",
     "output_type": "error",
     "traceback": [
      "\u001b[1;31m---------------------------------------------------------------------------\u001b[0m",
      "\u001b[1;31mNameError\u001b[0m                                 Traceback (most recent call last)",
      "\u001b[1;32m<ipython-input-4-af35f63a1043>\u001b[0m in \u001b[0;36m<module>\u001b[1;34m()\u001b[0m\n\u001b[0;32m     44\u001b[0m     \u001b[0mplay1\u001b[0m\u001b[1;33m(\u001b[0m\u001b[1;33m)\u001b[0m\u001b[1;33m\u001b[0m\u001b[0m\n\u001b[0;32m     45\u001b[0m     \u001b[0mplay2\u001b[0m\u001b[1;33m(\u001b[0m\u001b[1;33m)\u001b[0m\u001b[1;33m\u001b[0m\u001b[0m\n\u001b[1;32m---> 46\u001b[1;33m     \u001b[0msuccess\u001b[0m \u001b[1;33m=\u001b[0m \u001b[0mmove\u001b[0m\u001b[1;33m(\u001b[0m\u001b[0mrow\u001b[0m\u001b[1;33m,\u001b[0m \u001b[0mcol\u001b[0m\u001b[1;33m,\u001b[0m \u001b[0mtoken\u001b[0m\u001b[1;33m)\u001b[0m\u001b[1;33m\u001b[0m\u001b[0m\n\u001b[0m\u001b[0;32m     47\u001b[0m     \u001b[1;32mif\u001b[0m \u001b[1;32mnot\u001b[0m \u001b[0msuccess\u001b[0m\u001b[1;33m:\u001b[0m\u001b[1;33m\u001b[0m\u001b[0m\n\u001b[0;32m     48\u001b[0m         \u001b[0mprint\u001b[0m\u001b[1;33m(\u001b[0m\u001b[1;34m\"Invalid move\\n\"\u001b[0m\u001b[1;33m)\u001b[0m\u001b[1;33m\u001b[0m\u001b[0m\n",
      "\u001b[1;31mNameError\u001b[0m: name 'row' is not defined"
     ]
    }
   ],
   "source": [
    "import random\n",
    "board_size = 3\n",
    "board = []\n",
    "tokens = ['X', 'O']\n",
    "player = random.randint(0, 2)\n",
    "def buildBoard():\n",
    "    for _ in range(board_size):\n",
    "        new_column = []\n",
    "        for _ in range(board_size):\n",
    "            new_column.append(' ')\n",
    "        board.append(new_column)\n",
    "            \n",
    "def drawBoard():\n",
    "    for i, col in enumerate(board):\n",
    "        for j, cell in enumerate(col):\n",
    "            print(cell, end='')\n",
    "            if j < len(col) - 1:\n",
    "                print('|', end='')\n",
    "        if i < len(board) - 1:\n",
    "            print('\\n-+-+-')\n",
    "\n",
    "def move(row, col, token):\n",
    "    if board[row][col] == ' ':\n",
    "        board[row][col] = token\n",
    "    \n",
    "def play1():\n",
    "    print(\"Okay, %s\" % player1)\n",
    "    row = int(input(\"Which row? (1-%d)\" % (board_size))) - 1\n",
    "    col = int(input(\"Which col? (1-%d)\" % (board_size))) - 1\n",
    "    token = tokens[player]\n",
    "    \n",
    "def play2():\n",
    "    print(\"Okay, %s\" % player2)\n",
    "    row = int(input(\"Which row? (1-%d)\" % (board_size))) - 1\n",
    "    col = int(input(\"Which col? (1-%d)\" % (board_size))) - 1\n",
    "    token = tokens[player]\n",
    "    \n",
    "buildBoard()\n",
    "game_over = False\n",
    "\n",
    "player1 = input(\"What is the name of player 1?\")\n",
    "player2 = input(\"What is the name of player 2?\\n\")\n",
    "while not game_over:\n",
    "    play1()\n",
    "    play2()\n",
    "    success = move(row, col, token)\n",
    "    if not success:\n",
    "        print(\"Invalid move\\n\")\n",
    "        continue\n",
    "    drawBoard()"
   ]
  },
  {
   "cell_type": "code",
   "execution_count": null,
   "metadata": {
    "collapsed": true
   },
   "outputs": [],
   "source": []
  },
  {
   "cell_type": "code",
   "execution_count": null,
   "metadata": {
    "collapsed": true
   },
   "outputs": [],
   "source": []
  }
 ],
 "metadata": {
  "kernelspec": {
   "display_name": "Python 3",
   "language": "python",
   "name": "python3"
  },
  "language_info": {
   "codemirror_mode": {
    "name": "ipython",
    "version": 3
   },
   "file_extension": ".py",
   "mimetype": "text/x-python",
   "name": "python",
   "nbconvert_exporter": "python",
   "pygments_lexer": "ipython3",
   "version": "3.6.3"
  }
 },
 "nbformat": 4,
 "nbformat_minor": 2
}

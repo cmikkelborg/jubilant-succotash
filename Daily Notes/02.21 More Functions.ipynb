{
 "cells": [
  {
   "cell_type": "code",
   "execution_count": null,
   "metadata": {},
   "outputs": [],
   "source": [
    "import random\n",
    "board_size = 3\n",
    "board = []\n",
    "tokens = ['X', 'O']\n",
    "player = random.randint(0, 2)\n",
    "def buildBoard():\n",
    "    for _ in range(board_size):\n",
    "        new_column = []\n",
    "        for _ in range(board_size):\n",
    "            new_column.append(' ')\n",
    "        board.append(new_column)\n",
    "            \n",
    "def drawBoard():\n",
    "    for i, col in enumerate(board):\n",
    "        for j, cell in enumerate(col):\n",
    "            print(cell, end='')\n",
    "            if j < len(col) - 1:\n",
    "                print('|', end='')\n",
    "        if i < len(board) - 1:\n",
    "            print('\\n-+-+-')\n",
    "\n",
    "def move(row, col, token):\n",
    "    if board[row][col] == ' ':\n",
    "        board[row][col] = token\n",
    "    \n",
    "def play1():\n",
    "    print(\"Okay, %s\" % player1)\n",
    "    row = int(input(\"Which row? (1-%d)\" % (board_size))) - 1\n",
    "    col = int(input(\"Which col? (1-%d)\" % (board_size))) - 1\n",
    "    token = tokens[player]\n",
    "    \n",
    "def play2():\n",
    "    print(\"Okay, %s\" % player2)\n",
    "    row = int(input(\"Which row? (1-%d)\" % (board_size))) - 1\n",
    "    col = int(input(\"Which col? (1-%d)\" % (board_size))) - 1\n",
    "    token = tokens[player]\n",
    "    \n",
    "buildBoard()\n",
    "game_over = False\n",
    "\n",
    "player1 = input(\"What is the name of player 1?\")\n",
    "player2 = input(\"What is the name of player 2?\\n\")\n",
    "while not game_over:\n",
    "    play1()\n",
    "    play2()\n",
    "    success = move(row, col, token)\n",
    "    if not success:\n",
    "        print(\"Invalid move\\n\")\n",
    "        continue\n",
    "    drawBoard()"
   ]
  }
 ],
 "metadata": {
  "kernelspec": {
   "display_name": "Python 3",
   "language": "python",
   "name": "python3"
  },
  "language_info": {
   "codemirror_mode": {
    "name": "ipython",
    "version": 3
   },
   "file_extension": ".py",
   "mimetype": "text/x-python",
   "name": "python",
   "nbconvert_exporter": "python",
   "pygments_lexer": "ipython3",
   "version": "3.7.2"
  }
 },
 "nbformat": 4,
 "nbformat_minor": 2
}

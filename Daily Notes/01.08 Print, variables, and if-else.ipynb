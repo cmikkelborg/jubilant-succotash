{
 "cells": [
  {
   "cell_type": "code",
   "execution_count": null,
   "metadata": {},
   "outputs": [],
   "source": [
    "# using the print() function\n",
    "print(\"Hello people!\")\n",
    "\n",
    "# different ways to print a string\n",
    "print('This is a stingle quote sring')\n",
    "print(\"\\'dis a double squote swring\")\n",
    "print('''and the sqipple swote twing''')\n",
    "\n",
    "# a multi line print statement\n",
    "print('''doggos\n",
    "\\tpuppers\n",
    "\\t\\tand doges''') # \"/t\" adds a tab indent, see end\n",
    "\n",
    "# backslash to ignore quotes, and other special characters\n",
    "print(\"I'm a \\\"string\\\"\")\n",
    "\n",
    "# triple single quotes to ignore special characters\n",
    "print('''I'm \\t\"string\"''')\n",
    "\n",
    "# triple single quotes also works across multiple lines\n",
    "print('''I'm a\n",
    "\"string\" too''')\n",
    "\n",
    "# end= can be used to end the string without creating a new line\n",
    "print(\"\\ntur\", end=\"\")\n",
    "print(\"duck\", end=\"\")\n",
    "print(\"en\", end=\"\\n\\n\")\n",
    "print(\"tur\", \"duck\", \"en\", sep=\"!\")\n",
    "\n",
    "# Several kinds of print functions that print on a single line\n",
    "print(\"all your base\", end=\" \")\n",
    "print('''are belong to''', end=' ')\n",
    "print('doge')\n",
    "\n",
    "# displays time, must import time library before use.\n",
    "# time.sleep calls sleep function within library time.\n",
    "import time\n",
    "print(\"\\ntur\", end=\"\")\n",
    "time.sleep(1)\n",
    "print(\"duck\", end=\"\")\n",
    "time.sleep(1)\n",
    "print(\"en\", end=\"\\n\\n\")\n",
    "time.sleep(1)\n",
    "print(\"tur\", \"duck\", \"en\", sep=\"!\")\n",
    "\n",
    "\n",
    "# \"shift + tab\" : show function signature\n",
    "\n",
    "# \\  = ignore next character\n",
    "# \\n = newline\n",
    "# \\t = tab\n",
    "# %s = string\n",
    "# %d = digit\n",
    "# %f = float"
   ]
  },
  {
   "cell_type": "code",
   "execution_count": null,
   "metadata": {},
   "outputs": [],
   "source": [
    "# declaring a variable\n",
    "# and different ways to call a variable within a string of a print() function\n",
    "name = \"ambler\"\n",
    "print(\"An\", name, \"is sitting next to me.\") # note that spaces are not required before or after variable\n",
    "print(\"An %s is sitting next to me.\" % (name))"
   ]
  },
  {
   "cell_type": "code",
   "execution_count": null,
   "metadata": {},
   "outputs": [],
   "source": [
    "# input takes a string as a parameter and prints that out for the user.\n",
    "# in this case the prompt puts input directly into variable.\n",
    "\n",
    "num42 = input(\"What is the meaning of life? \")"
   ]
  },
  {
   "cell_type": "code",
   "execution_count": null,
   "metadata": {},
   "outputs": [],
   "source": [
    "# multiplying a string by a number will output string x amount of times.\n",
    "print(num42 * 4)"
   ]
  },
  {
   "cell_type": "code",
   "execution_count": null,
   "metadata": {},
   "outputs": [],
   "source": [
    "# lines 1,2 declare their inputs as strings\n",
    "# lines 3,4 turn the strings into integers\n",
    "num1=input(\"Enter a number: \")\n",
    "num2=input(\"Enter another number: \")\n",
    "num1=int(num1)\n",
    "num2=int(num2)"
   ]
  },
  {
   "cell_type": "code",
   "execution_count": null,
   "metadata": {},
   "outputs": [],
   "source": [
    "# this declares input as an integer.\n",
    "num43 = int(input(\"What is the meaning of life?\"))"
   ]
  },
  {
   "cell_type": "code",
   "execution_count": null,
   "metadata": {},
   "outputs": [],
   "source": [
    "# specifing num43 as a integer will allow for arithmatic\n",
    "maths = num43 * 4\n",
    "print(maths)"
   ]
  },
  {
   "cell_type": "code",
   "execution_count": null,
   "metadata": {},
   "outputs": [],
   "source": [
    "# arithmatic can be included within print() statements\n",
    "print(num1, \"times\", num2, \" is \", num1*num2)\n",
    "print(num43 * 4)"
   ]
  },
  {
   "cell_type": "code",
   "execution_count": null,
   "metadata": {},
   "outputs": [],
   "source": [
    "# basic types of variables: string, integer, and float\n",
    "# and how they are called by reference within a print() %s, %d, %f\n",
    "# the number of decimals in a float can be declared between \"%\" and \"f\" or left to default as \"%f\"\n",
    "name = \"Ambler\"\n",
    "digit = 27000000000\n",
    "floap = 3.14\n",
    "print('''%s is %d years old. Thats %.4f in %s years.''' % (name, digit, floap, name))"
   ]
  },
  {
   "cell_type": "code",
   "execution_count": null,
   "metadata": {},
   "outputs": [],
   "source": [
    "# if-else statement syntax\n",
    "if num43 == 42:\n",
    "    print(\"You are correct. The meaning of life is 42\")\n",
    "else:\n",
    "    print(\"Oh, yout think that %s is the meaning of life?\" % num43)"
   ]
  }
 ],
 "metadata": {
  "kernelspec": {
   "display_name": "Python 3",
   "language": "python",
   "name": "python3"
  },
  "language_info": {
   "codemirror_mode": {
    "name": "ipython",
    "version": 3
   },
   "file_extension": ".py",
   "mimetype": "text/x-python",
   "name": "python",
   "nbconvert_exporter": "python",
   "pygments_lexer": "ipython3",
   "version": "3.7.2"
  }
 },
 "nbformat": 4,
 "nbformat_minor": 2
}

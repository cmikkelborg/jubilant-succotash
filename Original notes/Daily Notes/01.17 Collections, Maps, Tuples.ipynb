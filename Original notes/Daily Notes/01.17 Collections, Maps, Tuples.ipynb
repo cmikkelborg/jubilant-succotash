{
 "cells": [
  {
   "cell_type": "code",
   "execution_count": 1,
   "metadata": {},
   "outputs": [
    {
     "name": "stdout",
     "output_type": "stream",
     "text": [
      "['Velma', 'Scooby', 'Daphne', 'Shaggy', 'Fred']\n",
      "Daphne\n",
      "['Scooby', 'Daphne', 'Shaggy']\n",
      "Scooby\n"
     ]
    }
   ],
   "source": [
    "# collections\n",
    "# [] list : are numarically indexed, starting with 0\n",
    "#              0        1         2         3         4\n",
    "mysteryInc=['Velma', 'Scooby', 'Daphne', 'Shaggy', 'Fred']\n",
    "print(mysteryInc)\n",
    "print(mysteryInc[2])\n",
    "# can specifiy ranges, endpoint will not be included\n",
    "print(mysteryInc[1:4])\n",
    "# get an element of a slice\n",
    "# scooby is position 0 of slice 1-3\n",
    "print(mysteryInc[1:4][0])\n"
   ]
  },
  {
   "cell_type": "code",
   "execution_count": 2,
   "metadata": {},
   "outputs": [
    {
     "name": "stdout",
     "output_type": "stream",
     "text": [
      "{'Fred': 'burger', 'Daphne': 'Lasagna', 'Scooby': 'literally everything'}\n",
      "\n",
      "\n",
      "dough\n",
      "4\n",
      "5\n"
     ]
    }
   ],
   "source": [
    "# () maps : a dicitonary or table in which keys and values can be customized\n",
    "favoriteFoods={'Fred': 'burger', 'Daphne': 'Lasagna', 'Scooby': 'literally everything'}\n",
    "print(favoriteFoods)\n",
    "\n",
    "# maps may also contain lists\n",
    "cookbook = {\n",
    "    \"pizza\" : [\"dough\", \"cheese\", \"sauce\", \"bacon\"],\n",
    "    \"ramen\" : [\"money\", \"water\"],\n",
    "    \"pie\" : 3.1415927\n",
    "}\n",
    "print('\\n')\n",
    "print(cookbook[\"pizza\"][0])\n",
    "\n",
    "# use [len] to return the length of the map\n",
    "print(len(cookbook[\"pizza\"]))\n",
    "\n",
    "# strings are lists too\n",
    "print(len(cookbook[\"pizza\"][0]))"
   ]
  },
  {
   "cell_type": "code",
   "execution_count": 3,
   "metadata": {},
   "outputs": [
    {
     "name": "stdout",
     "output_type": "stream",
     "text": [
      "(['Velma', 'Scooby', 'Daphne', 'Shaggy', 'Fred'], 'The Mystery Machine', 9000, True)\n"
     ]
    }
   ],
   "source": [
    "# () tuple : a collection that can contain varying data types, sized is fixed\n",
    "mysteryInc2=(mysteryInc, \"The Mystery Machine\", 9000, True)\n",
    "print(mysteryInc2)"
   ]
  },
  {
   "cell_type": "code",
   "execution_count": 4,
   "metadata": {},
   "outputs": [
    {
     "name": "stdout",
     "output_type": "stream",
     "text": [
      "literally everything\n",
      "\n",
      "\n",
      "burger\n"
     ]
    }
   ],
   "source": [
    "print(favoriteFoods['Scooby'])\n",
    "print('\\n')\n",
    "print(favoriteFoods['Fred'])"
   ]
  },
  {
   "cell_type": "code",
   "execution_count": 5,
   "metadata": {},
   "outputs": [
    {
     "name": "stdout",
     "output_type": "stream",
     "text": [
      "What's your favorite food?strogs\n",
      "What's another favorite food? pizza\n",
      "['strogs', 'pizza']\n"
     ]
    }
   ],
   "source": [
    "fav_foods = []\n",
    "fav_food = input(\"What's your favorite food?\")\n",
    "\n",
    "# add a variable into a array/list\n",
    "fav_foods.append(fav_food)\n",
    "\n",
    "# you can also add a variable directly into a list\n",
    "fav_foods.append(input(\"What's another favorite food? \"))\n",
    "print(fav_foods)"
   ]
  },
  {
   "cell_type": "code",
   "execution_count": 6,
   "metadata": {},
   "outputs": [
    {
     "name": "stdout",
     "output_type": "stream",
     "text": [
      "What's your name? chuck\n",
      "What's your favorite color?blue\n",
      "What's your name? jeff\n",
      "What's your favorite color?red\n",
      "Who's color secrets would you like to know? jeff\n",
      "jeff's favorite food is red, disgusting!\n",
      "who would you like to remove? jeff\n",
      "{'chuck': 'blue'}\n"
     ]
    }
   ],
   "source": [
    "fav_color = {}\n",
    "name = input(\"What's your name? \")\n",
    "color = input(\"What's your favorite color?\")\n",
    "fav_color[name] = color\n",
    "\n",
    "name = input(\"What's your name? \")\n",
    "# cleans up the input, removing spaces that are not easily seen, and are sometimes automatically generated\n",
    "name = name.rstrip()\n",
    "color = input(\"What's your favorite color?\")\n",
    "color = color.rstrip()\n",
    "fav_color[name] = color\n",
    "\n",
    "lookup = input(\"Who's color secrets would you like to know? \")\n",
    "print(\"%s's favorite food is %s, disgusting!\" % (lookup, fav_color[lookup]))\n",
    "\n",
    "lookup = input(\"who would you like to remove? \")\n",
    "del fav_color[lookup]\n",
    "print(fav_color)"
   ]
  }
 ],
 "metadata": {
  "kernelspec": {
   "display_name": "Python 3",
   "language": "python",
   "name": "python3"
  },
  "language_info": {
   "codemirror_mode": {
    "name": "ipython",
    "version": 3
   },
   "file_extension": ".py",
   "mimetype": "text/x-python",
   "name": "python",
   "nbconvert_exporter": "python",
   "pygments_lexer": "ipython3",
   "version": "3.7.1"
  }
 },
 "nbformat": 4,
 "nbformat_minor": 2
}

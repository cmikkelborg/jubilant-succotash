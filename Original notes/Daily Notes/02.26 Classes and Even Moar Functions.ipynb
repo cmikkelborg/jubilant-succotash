{
 "cells": [
  {
   "cell_type": "code",
   "execution_count": null,
   "metadata": {},
   "outputs": [],
   "source": [
    "# Classes allow you to bundle functions and properties (variables)\n",
    "class Employee:\n",
    "    # add properties at the top\n",
    "    employeeCount = 0\n",
    "    \n",
    "    # all classes should have a constructor\n",
    "    def __init__(self, name, salary):\n",
    "        self.name = name\n",
    "        self.salary = salary\n",
    "        Employee.employeeCount += 1\n",
    "        self.employeeNumber = Employee.employeeCount\n",
    "        \n",
    "    def display(self):\n",
    "        print(self.salary)"
   ]
  },
  {
   "cell_type": "code",
   "execution_count": null,
   "metadata": {},
   "outputs": [],
   "source": [
    "Taylor = Employee(\"Taylor\", 50432)\n",
    "Dave = Employee(\"Dave\", 30576)\n",
    "Chuck = Employee(\"Chuck\", 80751)\n",
    "Luke = Employee(\"Luke\", 10387)\n",
    "\n",
    "Dave.display()"
   ]
  }
 ],
 "metadata": {
  "kernelspec": {
   "display_name": "Python 3",
   "language": "python",
   "name": "python3"
  },
  "language_info": {
   "codemirror_mode": {
    "name": "ipython",
    "version": 3
   },
   "file_extension": ".py",
   "mimetype": "text/x-python",
   "name": "python",
   "nbconvert_exporter": "python",
   "pygments_lexer": "ipython3",
   "version": "3.7.2"
  }
 },
 "nbformat": 4,
 "nbformat_minor": 2
}

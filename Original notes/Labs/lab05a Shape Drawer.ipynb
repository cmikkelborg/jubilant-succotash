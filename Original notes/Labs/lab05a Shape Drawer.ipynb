{
 "cells": [
  {
   "cell_type": "code",
   "execution_count": null,
   "metadata": {},
   "outputs": [],
   "source": [
    "from ipyturtle import Turtle\n",
    "t = Turtle(fixed=False, width=320, height=320)\n",
    "\n",
    "def circle():\n",
    "        for i in range(360):\n",
    "            t.forward(1)\n",
    "            t.left(1)\n",
    "            \n",
    "def square():\n",
    "    t.forward(60)\n",
    "    t.left(90)\n",
    "    t.forward(120)\n",
    "    t.left(90)\n",
    "    t.forward(120)\n",
    "    t.left(90)\n",
    "    t.forward(120)\n",
    "    t.left(90)\n",
    "    t.forward(60)\n",
    "    \n",
    "def triangle():\n",
    "    t.left(30)\n",
    "    t.forward(120)\n",
    "    t.left(120)\n",
    "    t.forward(120)\n",
    "    t.left(121)\n",
    "    t.forward(120)\n",
    "    t.left(90)\n",
    "\n",
    "def trapazoid():\n",
    "    t.left(30)\n",
    "    t.forward(60)\n",
    "    t.left(60)\n",
    "    t.forward(60)\n",
    "    t.left(60)\n",
    "    t.forward(60)\n",
    "    t.left(121)\n",
    "    t.forward(120)\n",
    "    t.left(90)\n",
    "    \n",
    "t.pendown()\n",
    "t"
   ]
  },
  {
   "cell_type": "code",
   "execution_count": null,
   "metadata": {},
   "outputs": [],
   "source": [
    "t.penup()\n",
    "t.right(90)\n",
    "t.forward(60)\n",
    "t.left(90)\n",
    "t.pendown()\n",
    "\n",
    "print(\"Lets pick a shape:\")\n",
    "print(\"(1) Circle, (2) Square, (3) Triangle, (4) Trapazoid\")\n",
    "\n",
    "shape = int(-1)\n",
    "while shape >= 5 or shape < 0: \n",
    "    shape = int(input(\"What's your shape? \"))\n",
    "    if shape < 2:\n",
    "        circle()\n",
    "        print(\"That's super great, right?!\")\n",
    "    elif shape < 3:\n",
    "        square()\n",
    "        print(\"Pretty lit square you got there!\")\n",
    "    elif shape < 4:\n",
    "        triangle()\n",
    "        print(\"isocoles!\")\n",
    "    elif shape < 5:\n",
    "        trapazoid()\n",
    "        print(\"That's mathmatical!\")"
   ]
  }
 ],
 "metadata": {
  "kernelspec": {
   "display_name": "Python 3",
   "language": "python",
   "name": "python3"
  },
  "language_info": {
   "codemirror_mode": {
    "name": "ipython",
    "version": 3
   },
   "file_extension": ".py",
   "mimetype": "text/x-python",
   "name": "python",
   "nbconvert_exporter": "python",
   "pygments_lexer": "ipython3",
   "version": "3.7.2"
  }
 },
 "nbformat": 4,
 "nbformat_minor": 2
}

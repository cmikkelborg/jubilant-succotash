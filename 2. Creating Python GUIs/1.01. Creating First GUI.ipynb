{
 "cells": [
  {
   "cell_type": "code",
   "execution_count": 1,
   "metadata": {},
   "outputs": [],
   "source": [
    "#===============\n",
    "# imports\n",
    "#===============\n",
    "# import tkinter and shorten the call to 'tk' instead of 'tkinter'\n",
    "# this way we can call an instance through tk.Tk() instead of tkinter.Tk()\n",
    "import tkinter as tk\n",
    "\n",
    "#===============\n",
    "# configure GUI\n",
    "#===============\n",
    "\n",
    "# create instance of tkinter\n",
    "win = tk.Tk()\n",
    "\n",
    "# add a title to the GUI instance\n",
    "win.title(\"First Python GUI!!\")\n",
    "\n",
    "#===============\n",
    "# start GUI\n",
    "#===============\n",
    "win.mainloop()"
   ]
  }
 ],
 "metadata": {
  "kernelspec": {
   "display_name": "Python 3",
   "language": "python",
   "name": "python3"
  },
  "language_info": {
   "codemirror_mode": {
    "name": "ipython",
    "version": 3
   },
   "file_extension": ".py",
   "mimetype": "text/x-python",
   "name": "python",
   "nbconvert_exporter": "python",
   "pygments_lexer": "ipython3",
   "version": "3.7.2"
  }
 },
 "nbformat": 4,
 "nbformat_minor": 2
}

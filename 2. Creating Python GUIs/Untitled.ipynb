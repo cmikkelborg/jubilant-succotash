{
 "cells": [
  {
   "cell_type": "code",
   "execution_count": null,
   "metadata": {},
   "outputs": [],
   "source": [
    "import tkinter as tk\n",
    "from tkinter import ttk\n",
    "from tkinter import scrolledtext\n",
    "from tkinter import Spinbox\n",
    "from tkinter import Menu\n",
    "from tkinter import messagebox as msg\n",
    "from time import sleep\n",
    "\n",
    "#----- CLASS ----#\n",
    "class GUI:\n",
    "    GUINumb = 0\n",
    "    def __init__(self, title, label):\n",
    "        GUI.GUINumb += 1\n",
    "        self.id = GUI.GUINumb\n",
    "    # instance creation\n",
    "        self.win = tk.Tk()\n",
    "        self.title = title\n",
    "        self.label = label\n",
    "        self.win.title(title)\n",
    "        self.setlabel = ttk.LabelFrame(self.win, text=self.label)\n",
    "        self.setlabel.grid(column=0, row=0, padx=8, pady=4)\n",
    "        self.name = tk.StringVar()\n",
    "        self.name_entered = ttk.Entry(self.win, width=12, textvariable=self.name)\n",
    "        self.name_entered.grid(column=0, row=1)\n",
    "        \n",
    "        self.menu_bar = Menu(self.win)\n",
    "        self.win.config(menu=self.menu_bar)\n",
    "        self.file_menu = Menu(self.menu_bar, tearoff=0)\n",
    "        self.file_menu.add_command(label='New', command=newStart)\n",
    "        self.menu_bar.add_cascade(label='File', menu=self.file_menu)\n",
    "\n",
    "#---- FUNCTIONS ----#\n",
    "def newStart():\n",
    "    title = 'Animal'\n",
    "    label = 'What is the meaning?'\n",
    "    animal = GUI(title, label)\n",
    "    \n",
    "    animal.win.mainloop()\n",
    "    \n",
    "#===============\n",
    "# START GUI\n",
    "#===============\n",
    "first = GUI('My name is','eff')\n",
    "first.win.mainloop()\n",
    "    "
   ]
  },
  {
   "cell_type": "code",
   "execution_count": 3,
   "metadata": {},
   "outputs": [],
   "source": [
    "import tkinter as tk\n",
    "from tkinter import ttk\n",
    "\n",
    "win = tk.Tk()\n",
    "win.title(\"Calculator\")\n",
    "\n",
    "calcDisplay = ttk.LabelFrame(win, text='Output')\n",
    "\n",
    "win.mainloop()"
   ]
  },
  {
   "cell_type": "code",
   "execution_count": null,
   "metadata": {},
   "outputs": [],
   "source": []
  }
 ],
 "metadata": {
  "kernelspec": {
   "display_name": "Python 3",
   "language": "python",
   "name": "python3"
  },
  "language_info": {
   "codemirror_mode": {
    "name": "ipython",
    "version": 3
   },
   "file_extension": ".py",
   "mimetype": "text/x-python",
   "name": "python",
   "nbconvert_exporter": "python",
   "pygments_lexer": "ipython3",
   "version": "3.7.2"
  }
 },
 "nbformat": 4,
 "nbformat_minor": 2
}

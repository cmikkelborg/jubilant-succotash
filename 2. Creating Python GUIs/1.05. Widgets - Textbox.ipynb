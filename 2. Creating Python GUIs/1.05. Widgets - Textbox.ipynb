{
 "cells": [
  {
   "cell_type": "code",
   "execution_count": 1,
   "metadata": {},
   "outputs": [],
   "source": [
    "#===============\n",
    "# imports\n",
    "#===============\n",
    "import tkinter as tk\n",
    "from tkinter import ttk\n",
    "\n",
    "#===============\n",
    "# configure GUI\n",
    "#===============\n",
    "\n",
    "# instance creation\n",
    "win = tk.Tk()\n",
    "\n",
    "# GUI title\n",
    "win.title(\"A Python GUI\")\n",
    "\n",
    "# -----------------------------------------------------------------\n",
    "# button click function\n",
    "def click_me():\n",
    "    action.configure(text = \"Hello \" + name.get()) # notice that variable 'name' has not been declared yet, but\n",
    "                                                   # this is okay because it will have by the time the button is\n",
    "                                                   # clicked and this function is called\n",
    "    \n",
    "# label\n",
    "ttk.Label(win, text = \"Enter your name:\").grid(column=0, row=0)\n",
    "\n",
    "# text box entry widget\n",
    "name = tk.StringVar()                              # here we declare 'name'\n",
    "name_entered = ttk.Entry(win, width=12, textvariable=name)\n",
    "name_entered.grid(column=0, row=1)\n",
    "\n",
    "# button\n",
    "action = ttk.Button(win, text = \"Then click me!\", command = click_me)\n",
    "action.grid(column=1, row=0)\n",
    "# -----------------------------------------------------------------\n",
    "\n",
    "#===============\n",
    "# start GUI\n",
    "#===============\n",
    "win.mainloop()"
   ]
  }
 ],
 "metadata": {
  "kernelspec": {
   "display_name": "Python 3",
   "language": "python",
   "name": "python3"
  },
  "language_info": {
   "codemirror_mode": {
    "name": "ipython",
    "version": 3
   },
   "file_extension": ".py",
   "mimetype": "text/x-python",
   "name": "python",
   "nbconvert_exporter": "python",
   "pygments_lexer": "ipython3",
   "version": "3.7.2"
  }
 },
 "nbformat": 4,
 "nbformat_minor": 2
}

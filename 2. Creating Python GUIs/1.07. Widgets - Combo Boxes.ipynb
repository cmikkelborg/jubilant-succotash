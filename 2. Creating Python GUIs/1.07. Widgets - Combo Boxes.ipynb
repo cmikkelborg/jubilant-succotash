{
 "cells": [
  {
   "cell_type": "code",
   "execution_count": 3,
   "metadata": {},
   "outputs": [],
   "source": [
    "#===============\n",
    "# imports\n",
    "#===============\n",
    "import tkinter as tk\n",
    "from tkinter import ttk\n",
    "\n",
    "#===============\n",
    "# configure GUI\n",
    "#===============\n",
    "\n",
    "# instance creation\n",
    "win = tk.Tk()\n",
    "\n",
    "# GUI title\n",
    "win.title(\"A Python GUI\")\n",
    "\n",
    "# -----------------------------------------------------------------\n",
    "# button click function\n",
    "def click_me():\n",
    "    action.configure(text = \"Hello \" + name.get() + ' ' + number_chosen.get()) # added the clicked state to grab chosen number\n",
    "    \n",
    "# label\n",
    "ttk.Label(win, text = \"Enter your name:\").grid(column=0, row=0)\n",
    "\n",
    "# textbox\n",
    "name = tk.StringVar()\n",
    "name_entered = ttk.Entry(win, width=12, textvariable=name)\n",
    "name_entered.grid(column=0, row=1)                                  # column 0\n",
    "\n",
    "\n",
    "# button\n",
    "action = ttk.Button(win, text = \"Then click me!\", command = click_me)\n",
    "action.grid(column=2, row=1)                                        # <--- change column from 1 to 2\n",
    "\n",
    "# adding a combobox\n",
    "ttk.Label(win, text=\"Choose a number:\").grid(column=1, row=0)\n",
    "number = tk.StringVar()\n",
    "number_chosen = ttk.Combobox(win, width=12, textvariable=number, state= 'readonly') # locks the combobox note that unless\n",
    "number_chosen['values'] = (1, 2, 4, 42, 9001)                       # 'readonly' is set the user may type into the combobox\n",
    "                                                                    # instead of selecting a choice in the drop down\n",
    "number_chosen.grid(column=1, row=1)                                 # <--- combobox in column 1\n",
    "number_chosen.current(0) # seting the default value of combobox\n",
    "\n",
    "# set focus\n",
    "name_entered.focus()\n",
    "# -----------------------------------------------------------------\n",
    "\n",
    "#===============\n",
    "# start GUI\n",
    "#===============\n",
    "win.mainloop()"
   ]
  }
 ],
 "metadata": {
  "kernelspec": {
   "display_name": "Python 3",
   "language": "python",
   "name": "python3"
  },
  "language_info": {
   "codemirror_mode": {
    "name": "ipython",
    "version": 3
   },
   "file_extension": ".py",
   "mimetype": "text/x-python",
   "name": "python",
   "nbconvert_exporter": "python",
   "pygments_lexer": "ipython3",
   "version": "3.7.2"
  }
 },
 "nbformat": 4,
 "nbformat_minor": 2
}

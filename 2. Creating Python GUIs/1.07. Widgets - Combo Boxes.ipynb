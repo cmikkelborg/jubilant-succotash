{
 "cells": [
  {
   "cell_type": "code",
   "execution_count": 3,
   "metadata": {},
   "outputs": [],
   "source": [
    "#=============\n",
    "# imports\n",
    "#=============\n",
    "import tkinter as tk\n",
    "from tkinter import ttk # ttk stands for themed tk, and is an extension package for tk.\n",
    "\n",
    "#======================\n",
    "# configuring the GUI\n",
    "#======================\n",
    "\n",
    "# create instance\n",
    "win = tk.Tk()\n",
    "\n",
    "# add a title\n",
    "win.title(\"A Python GUI\")\n",
    "\n",
    "#------------------------------------------------------------------------------------------------------\n",
    "# button click event function\n",
    "def click_me():\n",
    "    action.configure(text = \"Hello \" + name.get() + ' ' + number_chosen.get())\n",
    "    \n",
    "# modified label\n",
    "ttk.Label(win, text = \"Enter a name:\").grid(column=0, row=0)\n",
    "\n",
    "# adding a text box entry widget\n",
    "name = tk.StringVar() # here we declare 'name'\n",
    "name_entered = ttk.Entry(win, width=12, textvariable=name)\n",
    "name_entered.grid(column=0, row=1)                                  # column 0\n",
    "\n",
    "\n",
    "# adding a button\n",
    "action = ttk.Button(win, text = \"Then click me!\", command = click_me)\n",
    "action.grid(column=2, row=1)                                        # <-- change column from 1 to 2\n",
    "\n",
    "ttk.Label(win, text=\"Choose a number:\").grid(column=1, row=0)\n",
    "number = tk.StringVar()\n",
    "number_chosen = ttk.Combobox(win, width=12, textvariable=number, state= 'readonly') # locks the combobox\n",
    "number_chosen['values'] = (1, 2, 4, 42, 9001)                       # note that unless 'readonly' is set\n",
    "                                                                    # the user may type into the combobox\n",
    "                                                                    # instead of selecting a choice\n",
    "                                                                    # in the drop down\n",
    "number_chosen.grid(column=1, row=1)                                 # <-- combobox in column 1\n",
    "number_chosen.current(0)\n",
    "\n",
    "name_entered.focus() # places cursor into name entry textbox\n",
    "#--------------------------------------------------------------------------------------------------------\n",
    "\n",
    "#=============\n",
    "# start GUI\n",
    "#=============\n",
    "win.mainloop()"
   ]
  },
  {
   "cell_type": "code",
   "execution_count": null,
   "metadata": {},
   "outputs": [],
   "source": []
  },
  {
   "cell_type": "code",
   "execution_count": null,
   "metadata": {},
   "outputs": [],
   "source": []
  }
 ],
 "metadata": {
  "kernelspec": {
   "display_name": "Python 3",
   "language": "python",
   "name": "python3"
  },
  "language_info": {
   "codemirror_mode": {
    "name": "ipython",
    "version": 3
   },
   "file_extension": ".py",
   "mimetype": "text/x-python",
   "name": "python",
   "nbconvert_exporter": "python",
   "pygments_lexer": "ipython3",
   "version": "3.7.1"
  }
 },
 "nbformat": 4,
 "nbformat_minor": 2
}

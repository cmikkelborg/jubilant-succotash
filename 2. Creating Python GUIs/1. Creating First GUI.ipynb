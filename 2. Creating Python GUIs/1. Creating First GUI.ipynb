{
 "cells": [
  {
   "cell_type": "code",
   "execution_count": 1,
   "metadata": {},
   "outputs": [],
   "source": [
    "#=============\n",
    "# imports\n",
    "#=============\n",
    "import tkinter as tk\n",
    "\n",
    "# create instance\n",
    "win = tk.Tk()\n",
    "\n",
    "# add a title\n",
    "win.title(\"First Python GUI\")\n",
    "\n",
    "#=============\n",
    "# start GUI\n",
    "#=============\n",
    "win.mainloop()"
   ]
  },
  {
   "cell_type": "code",
   "execution_count": null,
   "metadata": {},
   "outputs": [],
   "source": []
  }
 ],
 "metadata": {
  "kernelspec": {
   "display_name": "Python 3",
   "language": "python",
   "name": "python3"
  },
  "language_info": {
   "codemirror_mode": {
    "name": "ipython",
    "version": 3
   },
   "file_extension": ".py",
   "mimetype": "text/x-python",
   "name": "python",
   "nbconvert_exporter": "python",
   "pygments_lexer": "ipython3",
   "version": "3.7.1"
  }
 },
 "nbformat": 4,
 "nbformat_minor": 2
}

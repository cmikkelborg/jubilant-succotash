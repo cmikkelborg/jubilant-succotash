{
 "cells": [
  {
   "cell_type": "code",
   "execution_count": 3,
   "metadata": {},
   "outputs": [],
   "source": [
    "#===============\n",
    "# imports\n",
    "#===============\n",
    "import tkinter as tk\n",
    "from tkinter import ttk\n",
    "\n",
    "#===============\n",
    "# configure GUI\n",
    "#===============\n",
    "\n",
    "# instance creation\n",
    "win = tk.Tk()\n",
    "\n",
    "# GUI title\n",
    "win.title(\"A Python GUI\")\n",
    "\n",
    "# -----------------------------------------------------------------\n",
    "# label\n",
    "# by passing a label into a variable it can be modified\n",
    "a_label = ttk.Label(win, text = \"Just a Label\")\n",
    "a_label.grid(column=0, row=0)\n",
    "\n",
    "# button click function\n",
    "def click_me(): # defines the button after click\n",
    "    action.configure(text = \"You clicked me!\") # changes the button text after click\n",
    "    a_label.configure(foreground = 'red') # changes label text color after click\n",
    "    a_label.configure(text = 'Look how red I am!') # changes label text after click\n",
    "    \n",
    "# adding a button\n",
    "action = ttk.Button(win, text = \"Click me!\", command = click_me) # this is the button's initial state\n",
    "action.grid(column=1, row=0)\n",
    "# -----------------------------------------------------------------\n",
    "\n",
    "#===============\n",
    "# start GUI\n",
    "#===============\n",
    "win.mainloop()"
   ]
  }
 ],
 "metadata": {
  "kernelspec": {
   "display_name": "Python 3",
   "language": "python",
   "name": "python3"
  },
  "language_info": {
   "codemirror_mode": {
    "name": "ipython",
    "version": 3
   },
   "file_extension": ".py",
   "mimetype": "text/x-python",
   "name": "python",
   "nbconvert_exporter": "python",
   "pygments_lexer": "ipython3",
   "version": "3.7.2"
  }
 },
 "nbformat": 4,
 "nbformat_minor": 2
}

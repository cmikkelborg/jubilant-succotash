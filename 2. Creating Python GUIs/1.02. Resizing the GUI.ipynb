{
 "cells": [
  {
   "cell_type": "code",
   "execution_count": 1,
   "metadata": {},
   "outputs": [],
   "source": [
    "#===============\n",
    "# imports\n",
    "#===============\n",
    "import tkinter as tk\n",
    "\n",
    "#===============\n",
    "# configure GUI\n",
    "#===============\n",
    "\n",
    "# instance creation\n",
    "win = tk.Tk()\n",
    "\n",
    "# GUI title\n",
    "win.title(\"A Python GUI\")\n",
    "\n",
    "# -----------------------------------------------------------------\n",
    "# resizing through .resizable(True/False (x-dimension), True/False (y-dimension))\n",
    "# win.resizable(True, False)\n",
    "\n",
    "# disable resizing the GUI altogether by passing in Flase/False\n",
    "win.resizable(False, False)\n",
    "# -----------------------------------------------------------------\n",
    "\n",
    "#===============\n",
    "# start GUI\n",
    "#===============\n",
    "win.mainloop()"
   ]
  }
 ],
 "metadata": {
  "kernelspec": {
   "display_name": "Python 3",
   "language": "python",
   "name": "python3"
  },
  "language_info": {
   "codemirror_mode": {
    "name": "ipython",
    "version": 3
   },
   "file_extension": ".py",
   "mimetype": "text/x-python",
   "name": "python",
   "nbconvert_exporter": "python",
   "pygments_lexer": "ipython3",
   "version": "3.7.2"
  }
 },
 "nbformat": 4,
 "nbformat_minor": 2
}
